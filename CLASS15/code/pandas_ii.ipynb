{
 "nbformat": 4,
 "nbformat_minor": 2,
 "metadata": {
  "language_info": {
   "name": "python",
   "codemirror_mode": {
    "name": "ipython",
    "version": 3
   },
   "version": "3.7.4-final"
  },
  "orig_nbformat": 2,
  "file_extension": ".py",
  "mimetype": "text/x-python",
  "name": "python",
  "npconvert_exporter": "python",
  "pygments_lexer": "ipython3",
  "version": 3,
  "kernelspec": {
   "name": "python37432bitf140ec0581a546b4a23795dd72304976",
   "display_name": "Python 3.7.4 32-bit"
  }
 },
 "cells": [
  {
   "cell_type": "code",
   "execution_count": 4,
   "metadata": {},
   "outputs": [
    {
     "data": {
      "text/html": "<div>\n<style scoped>\n    .dataframe tbody tr th:only-of-type {\n        vertical-align: middle;\n    }\n\n    .dataframe tbody tr th {\n        vertical-align: top;\n    }\n\n    .dataframe thead th {\n        text-align: right;\n    }\n</style>\n<table border=\"1\" class=\"dataframe\">\n  <thead>\n    <tr style=\"text-align: right;\">\n      <th></th>\n      <th>ProductID</th>\n      <th>MakeFlag</th>\n      <th>FinishedGoodsFlag</th>\n      <th>SafetyStockLevel</th>\n      <th>ReorderPoint</th>\n      <th>StandardCost</th>\n      <th>ListPrice</th>\n      <th>Weight</th>\n      <th>DaysToManufacture</th>\n      <th>ProductSubcategoryID</th>\n      <th>ProductModelID</th>\n      <th>DiscontinuedDate</th>\n    </tr>\n  </thead>\n  <tbody>\n    <tr>\n      <td>count</td>\n      <td>504.000000</td>\n      <td>504.000000</td>\n      <td>504.000000</td>\n      <td>504.000000</td>\n      <td>504.000000</td>\n      <td>504.000000</td>\n      <td>504.000000</td>\n      <td>205.000000</td>\n      <td>504.000000</td>\n      <td>295.000000</td>\n      <td>295.000000</td>\n      <td>0.0</td>\n    </tr>\n    <tr>\n      <td>mean</td>\n      <td>673.039683</td>\n      <td>0.474206</td>\n      <td>0.585317</td>\n      <td>535.150794</td>\n      <td>401.363095</td>\n      <td>258.602961</td>\n      <td>438.666250</td>\n      <td>74.069220</td>\n      <td>1.103175</td>\n      <td>12.294915</td>\n      <td>37.444068</td>\n      <td>NaN</td>\n    </tr>\n    <tr>\n      <td>std</td>\n      <td>229.373142</td>\n      <td>0.499830</td>\n      <td>0.493157</td>\n      <td>374.112954</td>\n      <td>280.584715</td>\n      <td>461.632808</td>\n      <td>773.602843</td>\n      <td>182.166588</td>\n      <td>1.492616</td>\n      <td>9.860135</td>\n      <td>34.025442</td>\n      <td>NaN</td>\n    </tr>\n    <tr>\n      <td>min</td>\n      <td>1.000000</td>\n      <td>0.000000</td>\n      <td>0.000000</td>\n      <td>4.000000</td>\n      <td>3.000000</td>\n      <td>0.000000</td>\n      <td>0.000000</td>\n      <td>2.120000</td>\n      <td>0.000000</td>\n      <td>1.000000</td>\n      <td>1.000000</td>\n      <td>NaN</td>\n    </tr>\n    <tr>\n      <td>25%</td>\n      <td>447.750000</td>\n      <td>0.000000</td>\n      <td>0.000000</td>\n      <td>100.000000</td>\n      <td>75.000000</td>\n      <td>0.000000</td>\n      <td>0.000000</td>\n      <td>2.880000</td>\n      <td>0.000000</td>\n      <td>2.000000</td>\n      <td>11.000000</td>\n      <td>NaN</td>\n    </tr>\n    <tr>\n      <td>50%</td>\n      <td>747.500000</td>\n      <td>0.000000</td>\n      <td>1.000000</td>\n      <td>500.000000</td>\n      <td>375.000000</td>\n      <td>23.372200</td>\n      <td>49.990000</td>\n      <td>17.900000</td>\n      <td>1.000000</td>\n      <td>12.000000</td>\n      <td>26.000000</td>\n      <td>NaN</td>\n    </tr>\n    <tr>\n      <td>75%</td>\n      <td>873.250000</td>\n      <td>1.000000</td>\n      <td>1.000000</td>\n      <td>1000.000000</td>\n      <td>750.000000</td>\n      <td>317.075825</td>\n      <td>564.990000</td>\n      <td>27.350000</td>\n      <td>1.000000</td>\n      <td>17.000000</td>\n      <td>48.500000</td>\n      <td>NaN</td>\n    </tr>\n    <tr>\n      <td>max</td>\n      <td>999.000000</td>\n      <td>1.000000</td>\n      <td>1.000000</td>\n      <td>1000.000000</td>\n      <td>750.000000</td>\n      <td>2171.294200</td>\n      <td>3578.270000</td>\n      <td>1050.000000</td>\n      <td>4.000000</td>\n      <td>37.000000</td>\n      <td>128.000000</td>\n      <td>NaN</td>\n    </tr>\n  </tbody>\n</table>\n</div>",
      "text/plain": "        ProductID    MakeFlag  FinishedGoodsFlag  SafetyStockLevel  \\\ncount  504.000000  504.000000         504.000000        504.000000   \nmean   673.039683    0.474206           0.585317        535.150794   \nstd    229.373142    0.499830           0.493157        374.112954   \nmin      1.000000    0.000000           0.000000          4.000000   \n25%    447.750000    0.000000           0.000000        100.000000   \n50%    747.500000    0.000000           1.000000        500.000000   \n75%    873.250000    1.000000           1.000000       1000.000000   \nmax    999.000000    1.000000           1.000000       1000.000000   \n\n       ReorderPoint  StandardCost    ListPrice       Weight  \\\ncount    504.000000    504.000000   504.000000   205.000000   \nmean     401.363095    258.602961   438.666250    74.069220   \nstd      280.584715    461.632808   773.602843   182.166588   \nmin        3.000000      0.000000     0.000000     2.120000   \n25%       75.000000      0.000000     0.000000     2.880000   \n50%      375.000000     23.372200    49.990000    17.900000   \n75%      750.000000    317.075825   564.990000    27.350000   \nmax      750.000000   2171.294200  3578.270000  1050.000000   \n\n       DaysToManufacture  ProductSubcategoryID  ProductModelID  \\\ncount         504.000000            295.000000      295.000000   \nmean            1.103175             12.294915       37.444068   \nstd             1.492616              9.860135       34.025442   \nmin             0.000000              1.000000        1.000000   \n25%             0.000000              2.000000       11.000000   \n50%             1.000000             12.000000       26.000000   \n75%             1.000000             17.000000       48.500000   \nmax             4.000000             37.000000      128.000000   \n\n       DiscontinuedDate  \ncount               0.0  \nmean                NaN  \nstd                 NaN  \nmin                 NaN  \n25%                 NaN  \n50%                 NaN  \n75%                 NaN  \nmax                 NaN  "
     },
     "execution_count": 4,
     "metadata": {},
     "output_type": "execute_result"
    }
   ],
   "source": [
    "import pandas as pd\n",
    "import numpy as np # used for linear algebra and random sampling\n",
    "# used for plotting charts within the notebook (instead of a separate window)\n",
    "%matplotlib inline\n",
    "prod = pd.read_csv('../data/Production.Product.csv', sep='\\t')\n",
    "prod.head(3)\n",
    "prod.shape\n",
    "prod.describe()"
   ]
  },
  {
   "cell_type": "code",
   "execution_count": 5,
   "metadata": {},
   "outputs": [
    {
     "data": {
      "text/plain": "Index(['ProductID', 'Name', 'ProductNumber', 'MakeFlag', 'FinishedGoodsFlag',\n       'Color', 'SafetyStockLevel', 'ReorderPoint', 'StandardCost',\n       'ListPrice', 'Size', 'SizeUnitMeasureCode', 'WeightUnitMeasureCode',\n       'Weight', 'DaysToManufacture', 'ProductLine', 'Class', 'Style',\n       'ProductSubcategoryID', 'ProductModelID', 'SellStartDate',\n       'SellEndDate', 'DiscontinuedDate', 'rowguid', 'ModifiedDate'],\n      dtype='object')"
     },
     "execution_count": 5,
     "metadata": {},
     "output_type": "execute_result"
    }
   ],
   "source": [
    "prod.columns"
   ]
  },
  {
   "cell_type": "code",
   "execution_count": 6,
   "metadata": {},
   "outputs": [
    {
     "data": {
      "text/plain": "<bound method DataFrame.info of      ProductID                   Name ProductNumber  MakeFlag  \\\n0            1        Adjustable Race       AR-5381         0   \n1            2           Bearing Ball       BA-8327         0   \n2            3        BB Ball Bearing       BE-2349         1   \n3            4  Headset Ball Bearings       BE-2908         0   \n4          316                  Blade       BL-2036         1   \n..         ...                    ...           ...       ...   \n499        995      ML Bottom Bracket       BB-8107         1   \n500        996      HL Bottom Bracket       BB-9108         1   \n501        997     Road-750 Black, 44    BK-R19B-44         1   \n502        998     Road-750 Black, 48    BK-R19B-48         1   \n503        999     Road-750 Black, 52    BK-R19B-52         1   \n\n     FinishedGoodsFlag  Color  SafetyStockLevel  ReorderPoint  StandardCost  \\\n0                    0    NaN              1000           750        0.0000   \n1                    0    NaN              1000           750        0.0000   \n2                    0    NaN               800           600        0.0000   \n3                    0    NaN               800           600        0.0000   \n4                    0    NaN               800           600        0.0000   \n..                 ...    ...               ...           ...           ...   \n499                  1    NaN               500           375       44.9506   \n500                  1    NaN               500           375       53.9416   \n501                  1  Black               100            75      343.6496   \n502                  1  Black               100            75      343.6496   \n503                  1  Black               100            75      343.6496   \n\n     ListPrice  ... ProductLine Class Style  ProductSubcategoryID  \\\n0         0.00  ...         NaN   NaN   NaN                   NaN   \n1         0.00  ...         NaN   NaN   NaN                   NaN   \n2         0.00  ...         NaN   NaN   NaN                   NaN   \n3         0.00  ...         NaN   NaN   NaN                   NaN   \n4         0.00  ...         NaN   NaN   NaN                   NaN   \n..         ...  ...         ...   ...   ...                   ...   \n499     101.24  ...         NaN    M    NaN                   5.0   \n500     121.49  ...         NaN    H    NaN                   5.0   \n501     539.99  ...          R     L     U                    2.0   \n502     539.99  ...          R     L     U                    2.0   \n503     539.99  ...          R     L     U                    2.0   \n\n     ProductModelID        SellStartDate SellEndDate DiscontinuedDate  \\\n0               NaN  2008-04-30 00:00:00         NaN              NaN   \n1               NaN  2008-04-30 00:00:00         NaN              NaN   \n2               NaN  2008-04-30 00:00:00         NaN              NaN   \n3               NaN  2008-04-30 00:00:00         NaN              NaN   \n4               NaN  2008-04-30 00:00:00         NaN              NaN   \n..              ...                  ...         ...              ...   \n499            96.0  2013-05-30 00:00:00         NaN              NaN   \n500            97.0  2013-05-30 00:00:00         NaN              NaN   \n501            31.0  2013-05-30 00:00:00         NaN              NaN   \n502            31.0  2013-05-30 00:00:00         NaN              NaN   \n503            31.0  2013-05-30 00:00:00         NaN              NaN   \n\n                                    rowguid                   ModifiedDate  \n0    {694215B7-08F7-4C0D-ACB1-D734BA44C0C8}  2014-02-08 10:01:36.827000000  \n1    {58AE3C20-4F3A-4749-A7D4-D568806CC537}  2014-02-08 10:01:36.827000000  \n2    {9C21AED2-5BFA-4F18-BCB8-F11638DC2E4E}  2014-02-08 10:01:36.827000000  \n3    {ECFED6CB-51FF-49B5-B06C-7D8AC834DB8B}  2014-02-08 10:01:36.827000000  \n4    {E73E9750-603B-4131-89F5-3DD15ED5FF80}  2014-02-08 10:01:36.827000000  \n..                                      ...                            ...  \n499  {71AB847F-D091-42D6-B735-7B0C2D82FC84}  2014-02-08 10:01:36.827000000  \n500  {230C47C5-08B2-4CE3-B706-69C0BDD62965}  2014-02-08 10:01:36.827000000  \n501  {44CE4802-409F-43AB-9B27-CA53421805BE}  2014-02-08 10:01:36.827000000  \n502  {3DE9A212-1D49-40B6-B10A-F564D981DBDE}  2014-02-08 10:01:36.827000000  \n503  {AE638923-2B67-4679-B90E-ABBAB17DCA31}  2014-02-08 10:01:36.827000000  \n\n[504 rows x 25 columns]>"
     },
     "execution_count": 6,
     "metadata": {},
     "output_type": "execute_result"
    }
   ],
   "source": [
    "prod.info"
   ]
  },
  {
   "cell_type": "code",
   "execution_count": null,
   "metadata": {},
   "outputs": [],
   "source": []
  }
 ]
}
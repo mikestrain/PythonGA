{
 "nbformat": 4,
 "nbformat_minor": 2,
 "metadata": {
  "language_info": {
   "name": "python",
   "codemirror_mode": {
    "name": "ipython",
    "version": 3
   }
  },
  "orig_nbformat": 2,
  "file_extension": ".py",
  "mimetype": "text/x-python",
  "name": "python",
  "npconvert_exporter": "python",
  "pygments_lexer": "ipython3",
  "version": 3
 },
 "cells": [
  {
   "cell_type": "code",
   "execution_count": null,
   "metadata": {},
   "outputs": [],
   "source": [
    "print(\"hello world\")"
   ]
  },
  {
   "cell_type": "code",
   "execution_count": null,
   "metadata": {},
   "outputs": [],
   "source": [
    "import requests\n",
    "import os\n",
    "import pprint\n",
    "\n",
    "os.system(\"clear\")\n",
    "\n",
    "zip_or_city = input('what is your zip code or city?')\n",
    "key = '052f26926ae9784c2d677ca7bc5dec98'\n",
    "\n",
    "print(\"http://api.openweathermap.org/data/2.5/weather?zip=\"+zip_or_city+\",us&appid=\"+key)\n",
    "try:\n",
    "    int(zip_or_city)\n",
    "    response = requests.get(\"http://api.openweathermap.org/data/2.5/weather?zip=\"+zip_or_city+\",us&appid=\"+key)\n",
    "except:\n",
    "    response = requests.get(\"http://api.openweathermap.org/data/2.5/weather?q=\"+zip_or_city+\"&appid=\"+key)"
   ]
  },
  {
   "cell_type": "code",
   "execution_count": null,
   "metadata": {},
   "outputs": [],
   "source": [
    "weather = response.json()"
   ]
  },
  {
   "cell_type": "code",
   "execution_count": null,
   "metadata": {},
   "outputs": [],
   "source": [
    "\n",
    "pp = pprint.PrettyPrinter(indent=4)\n",
    "pp.pprint(weather)\n",
    "\n",
    "# print(weather)\n",
    "\n",
    "temp_K = weather['main']['temp']\n",
    "\n",
    "temp_C = temp_K - 273\n",
    "temp_F = ((9/5) * temp_C) + 32\n",
    "\n",
    "print(temp_F)"
   ]
  },
  {
   "cell_type": "code",
   "execution_count": null,
   "metadata": {},
   "outputs": [],
   "source": []
  }
 ]
}
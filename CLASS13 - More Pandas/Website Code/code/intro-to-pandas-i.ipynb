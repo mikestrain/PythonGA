{
 "cells": [
  {
   "cell_type": "markdown",
   "metadata": {},
   "source": [
    "# ![](https://ga-dash.s3.amazonaws.com/production/assets/logo-9f88ae6c9c3871690e33280fcf557f33.png) Pandas for Exploratory Data Analysis I \n",
    "by [@josephofiowa](https://twitter.com/josephofiowa)\n",
    "\n",
    "Pandas is the most prominent Python library for exploratory data analysis (EDA). The functions Pandas supports are integral to understanding, formatting, and preparing our data. Formally, we use Pandas to investigate, wrangle, munge, and clean our data. Pandas is the Swiss Army Knife of data manipulation!\n",
    "\n",
    "\n",
    "We'll have two coding-heavy sessions on Pandas. In this one, we'll use Pandas to:\n",
    " - Read in a dataset\n",
    " - Investigate a dataset's integrity\n",
    " - Filter, sort, and manipulate a DataFrame's series"
   ]
  },
  {
   "cell_type": "markdown",
   "metadata": {},
   "source": [
    "## About the Dataset: Adventureworks Cycles\n",
    "\n",
    "<img align=\"right\" src=\"http://lh6.ggpht.com/_XjcDyZkJqHg/TPaaRcaysbI/AAAAAAAAAFo/b1U3q-qbTjY/AdventureWorks%20Logo%5B5%5D.png?imgmax=800\">\n",
    "\n",
    "For today's Pandas exercises, we will be using a dataset developed by Microsoft for training purposes in SQL server, known the [Adventureworks Cycles 2014OLTP Database](https://github.com/Microsoft/sql-server-samples/releases/tag/adventureworks). It is based on a fictitious company called Adventure Works Cycles (AWC), a multinational manufacturer and seller of bicycles and accessories. The company is based in Bothell, Washington, USA and has regional sales offices in several countries. We will be looking at a single table from this database, the Production.Product table, which outlines some of the products this company sells. \n",
    "\n",
    "A full data dictionary can be viewed [here](https://www.sqldatadictionary.com/AdventureWorks2014/).\n"
   ]
  },
  {
   "cell_type": "markdown",
   "metadata": {},
   "source": [
    "Let's take a closer look at the Production.Product table [data dictionary](https://www.sqldatadictionary.com/AdventureWorks2014/Production.Product.html), which is a description of the fields (columns) in the table (the .csv file we will import below):\n",
    "- **ProductID** - Primary key for Product records.\n",
    "- **Name** - Name of the product.\n",
    "- **ProductNumber** - Unique product identification number.\n",
    "- **MakeFlag** - 0 = Product is purchased, 1 = Product is manufactured in-house.\n",
    "- **FinishedGoodsFlag** - 0 = Product is not a salable item. 1 = Product is salable.\n",
    "- **Color** - Product color.\n",
    "- **SafetyStockLevel** - Minimum inventory quantity.\n",
    "- **ReorderPoint** - Inventory level that triggers a purchase order or work order.\n",
    "- **StandardCost** - Standard cost of the product.\n",
    "- **ListPrice** - Selling price.\n",
    "- **Size** - Product size.\n",
    "- **SizeUnitMeasureCode** - Unit of measure for the Size column.\n",
    "- **WeightUnitMeasureCode** - Unit of measure for the Weight column.\n",
    "- **DaysToManufacture** - Number of days required to manufacture the product.\n",
    "- **ProductLine** - R = Road, M = Mountain, T = Touring, S = Standard\n",
    "- **Class** - H = High, M = Medium, L = Low\n",
    "- **Style** - W = Womens, M = Mens, U = Universal\n",
    "- **ProductSubcategoryID** - Product is a member of this product subcategory. Foreign key to ProductSubCategory.ProductSubCategoryID.\n",
    "- **ProductModelID** - Product is a member of this product model. Foreign key to ProductModel.ProductModelID.\n",
    "- **SellStartDate** - Date the product was available for sale.\n",
    "- **SellEndDate** - Date the product was no longer available for sale.\n",
    "- **DiscontinuedDate** - Date the product was discontinued.\n",
    "- **rowguid** - ROWGUIDCOL number uniquely identifying the record. Used to support a merge replication sample.\n",
    "- **ModifiedDate** - Date and time the record was last updated.\n"
   ]
  },
  {
   "cell_type": "markdown",
   "metadata": {},
   "source": [
    "## Importing Pandas\n",
    "\n",
    "To [import a library](https://docs.python.org/3/reference/import.html), we write `import` and the library name. For Pandas, is it common to name the library `pd` so that when we reference a function from the Pandas library, we only write `pd` to reference the aliased [namespace](https://docs.python.org/3/tutorial/classes.html#python-scopes-and-namespaces) -- not `pandas`."
   ]
  },
  {
   "cell_type": "code",
   "execution_count": 164,
   "metadata": {},
   "outputs": [
    {
     "name": "stderr",
     "output_type": "stream",
     "text": "UsageError: unrecognized arguments: #this is specific to jupyter notebook\n"
    }
   ],
   "source": [
    "import pandas as pd\n",
    "%matplotlib inline #this is specific to jupyter notebook"
   ]
  },
  {
   "cell_type": "code",
   "execution_count": 165,
   "metadata": {},
   "outputs": [
    {
     "name": "stdout",
     "output_type": "stream",
     "text": "I am using pandas Version: 0.25.1.\nIt is installed at: ['C:\\\\Users\\\\Mike Strain\\\\AppData\\\\Local\\\\Programs\\\\Python\\\\Python37-32\\\\lib\\\\site-packages\\\\pandas']\n"
    }
   ],
   "source": [
    "# we can see the details about the imported package by referencing its private class propertys:\n",
    "print(f'I am using {pd.__name__} \\\n",
    "Version: {pd.__version__}.\\n\\\n",
    "It is installed at: {pd.__path__}')"
   ]
  },
  {
   "cell_type": "markdown",
   "metadata": {},
   "source": [
    "## Reading in Data\n",
    "\n",
    "Pandas dramatically simplifies the process of reading in data. When we say \"reading in data,\" we mean loading a file into our machine's memory.\n",
    "\n",
    "When you have a CSV, for example, and then you double-click to open it in Microsoft Excel, the open file is \"read into memory.\" You can now manipulate the CSV.\n",
    "\n",
    "When we read data into memory in Python, we are creating an object. We will soon explore this object. _(And, as an aside, when we have a file that is greater than the size of our computer's memory, this is approaching \"Big Data.\")_"
   ]
  },
  {
   "cell_type": "markdown",
   "metadata": {},
   "source": [
    "Because we are working with a CSV, we will use the [read CSV](https://pandas.pydata.org/pandas-docs/stable/generated/pandas.read_csv.html) method.<br>A [delimiter](https://en.wikipedia.org/wiki/Delimiter-separated_values) is a character that separates fields (columns) in the imported file. Just because a file says `.csv` does not necessarily mean that a comma is used as the delimiter. In this case, we have a tab character as the delimiter for our columns, so we will be using `sep='\\t'` to tell pandas to 'cut' the columns every time it sees a [tab character in the file](http://vim.wikia.com/wiki/Showing_the_ASCII_value_of_the_current_character)."
   ]
  },
  {
   "cell_type": "code",
   "execution_count": 166,
   "metadata": {},
   "outputs": [],
   "source": [
    "# read the dataset as a DataFrame into a variable named 'prod'\n",
    "\n",
    "prod = pd.read_csv('../data/Production.Product.csv', sep=\"\\t\")\n"
   ]
  },
  {
   "cell_type": "code",
   "execution_count": 167,
   "metadata": {},
   "outputs": [
    {
     "data": {
      "text/html": "<div>\n<style scoped>\n    .dataframe tbody tr th:only-of-type {\n        vertical-align: middle;\n    }\n\n    .dataframe tbody tr th {\n        vertical-align: top;\n    }\n\n    .dataframe thead th {\n        text-align: right;\n    }\n</style>\n<table border=\"1\" class=\"dataframe\">\n  <thead>\n    <tr style=\"text-align: right;\">\n      <th></th>\n      <th>ProductID</th>\n      <th>Name</th>\n      <th>ProductNumber</th>\n      <th>MakeFlag</th>\n      <th>FinishedGoodsFlag</th>\n      <th>Color</th>\n      <th>SafetyStockLevel</th>\n      <th>ReorderPoint</th>\n      <th>StandardCost</th>\n      <th>ListPrice</th>\n      <th>...</th>\n      <th>ProductLine</th>\n      <th>Class</th>\n      <th>Style</th>\n      <th>ProductSubcategoryID</th>\n      <th>ProductModelID</th>\n      <th>SellStartDate</th>\n      <th>SellEndDate</th>\n      <th>DiscontinuedDate</th>\n      <th>rowguid</th>\n      <th>ModifiedDate</th>\n    </tr>\n  </thead>\n  <tbody>\n    <tr>\n      <td>0</td>\n      <td>1</td>\n      <td>Adjustable Race</td>\n      <td>AR-5381</td>\n      <td>0</td>\n      <td>0</td>\n      <td>NaN</td>\n      <td>1000</td>\n      <td>750</td>\n      <td>0.0</td>\n      <td>0.0</td>\n      <td>...</td>\n      <td>NaN</td>\n      <td>NaN</td>\n      <td>NaN</td>\n      <td>NaN</td>\n      <td>NaN</td>\n      <td>2008-04-30 00:00:00</td>\n      <td>NaN</td>\n      <td>NaN</td>\n      <td>{694215B7-08F7-4C0D-ACB1-D734BA44C0C8}</td>\n      <td>2014-02-08 10:01:36.827000000</td>\n    </tr>\n    <tr>\n      <td>1</td>\n      <td>2</td>\n      <td>Bearing Ball</td>\n      <td>BA-8327</td>\n      <td>0</td>\n      <td>0</td>\n      <td>NaN</td>\n      <td>1000</td>\n      <td>750</td>\n      <td>0.0</td>\n      <td>0.0</td>\n      <td>...</td>\n      <td>NaN</td>\n      <td>NaN</td>\n      <td>NaN</td>\n      <td>NaN</td>\n      <td>NaN</td>\n      <td>2008-04-30 00:00:00</td>\n      <td>NaN</td>\n      <td>NaN</td>\n      <td>{58AE3C20-4F3A-4749-A7D4-D568806CC537}</td>\n      <td>2014-02-08 10:01:36.827000000</td>\n    </tr>\n    <tr>\n      <td>2</td>\n      <td>3</td>\n      <td>BB Ball Bearing</td>\n      <td>BE-2349</td>\n      <td>1</td>\n      <td>0</td>\n      <td>NaN</td>\n      <td>800</td>\n      <td>600</td>\n      <td>0.0</td>\n      <td>0.0</td>\n      <td>...</td>\n      <td>NaN</td>\n      <td>NaN</td>\n      <td>NaN</td>\n      <td>NaN</td>\n      <td>NaN</td>\n      <td>2008-04-30 00:00:00</td>\n      <td>NaN</td>\n      <td>NaN</td>\n      <td>{9C21AED2-5BFA-4F18-BCB8-F11638DC2E4E}</td>\n      <td>2014-02-08 10:01:36.827000000</td>\n    </tr>\n    <tr>\n      <td>3</td>\n      <td>4</td>\n      <td>Headset Ball Bearings</td>\n      <td>BE-2908</td>\n      <td>0</td>\n      <td>0</td>\n      <td>NaN</td>\n      <td>800</td>\n      <td>600</td>\n      <td>0.0</td>\n      <td>0.0</td>\n      <td>...</td>\n      <td>NaN</td>\n      <td>NaN</td>\n      <td>NaN</td>\n      <td>NaN</td>\n      <td>NaN</td>\n      <td>2008-04-30 00:00:00</td>\n      <td>NaN</td>\n      <td>NaN</td>\n      <td>{ECFED6CB-51FF-49B5-B06C-7D8AC834DB8B}</td>\n      <td>2014-02-08 10:01:36.827000000</td>\n    </tr>\n    <tr>\n      <td>4</td>\n      <td>316</td>\n      <td>Blade</td>\n      <td>BL-2036</td>\n      <td>1</td>\n      <td>0</td>\n      <td>NaN</td>\n      <td>800</td>\n      <td>600</td>\n      <td>0.0</td>\n      <td>0.0</td>\n      <td>...</td>\n      <td>NaN</td>\n      <td>NaN</td>\n      <td>NaN</td>\n      <td>NaN</td>\n      <td>NaN</td>\n      <td>2008-04-30 00:00:00</td>\n      <td>NaN</td>\n      <td>NaN</td>\n      <td>{E73E9750-603B-4131-89F5-3DD15ED5FF80}</td>\n      <td>2014-02-08 10:01:36.827000000</td>\n    </tr>\n  </tbody>\n</table>\n<p>5 rows × 25 columns</p>\n</div>",
      "text/plain": "   ProductID                   Name ProductNumber  MakeFlag  \\\n0          1        Adjustable Race       AR-5381         0   \n1          2           Bearing Ball       BA-8327         0   \n2          3        BB Ball Bearing       BE-2349         1   \n3          4  Headset Ball Bearings       BE-2908         0   \n4        316                  Blade       BL-2036         1   \n\n   FinishedGoodsFlag Color  SafetyStockLevel  ReorderPoint  StandardCost  \\\n0                  0   NaN              1000           750           0.0   \n1                  0   NaN              1000           750           0.0   \n2                  0   NaN               800           600           0.0   \n3                  0   NaN               800           600           0.0   \n4                  0   NaN               800           600           0.0   \n\n   ListPrice  ... ProductLine Class Style  ProductSubcategoryID  \\\n0        0.0  ...         NaN   NaN   NaN                   NaN   \n1        0.0  ...         NaN   NaN   NaN                   NaN   \n2        0.0  ...         NaN   NaN   NaN                   NaN   \n3        0.0  ...         NaN   NaN   NaN                   NaN   \n4        0.0  ...         NaN   NaN   NaN                   NaN   \n\n   ProductModelID        SellStartDate SellEndDate DiscontinuedDate  \\\n0             NaN  2008-04-30 00:00:00         NaN              NaN   \n1             NaN  2008-04-30 00:00:00         NaN              NaN   \n2             NaN  2008-04-30 00:00:00         NaN              NaN   \n3             NaN  2008-04-30 00:00:00         NaN              NaN   \n4             NaN  2008-04-30 00:00:00         NaN              NaN   \n\n                                  rowguid                   ModifiedDate  \n0  {694215B7-08F7-4C0D-ACB1-D734BA44C0C8}  2014-02-08 10:01:36.827000000  \n1  {58AE3C20-4F3A-4749-A7D4-D568806CC537}  2014-02-08 10:01:36.827000000  \n2  {9C21AED2-5BFA-4F18-BCB8-F11638DC2E4E}  2014-02-08 10:01:36.827000000  \n3  {ECFED6CB-51FF-49B5-B06C-7D8AC834DB8B}  2014-02-08 10:01:36.827000000  \n4  {E73E9750-603B-4131-89F5-3DD15ED5FF80}  2014-02-08 10:01:36.827000000  \n\n[5 rows x 25 columns]"
     },
     "execution_count": 167,
     "metadata": {},
     "output_type": "execute_result"
    }
   ],
   "source": [
    "# show the head of this dataset\n",
    "\n",
    "prod.head()"
   ]
  },
  {
   "cell_type": "markdown",
   "metadata": {},
   "source": [
    "*Documentation Pause*\n",
    "\n",
    "How did we know how to use `pd.read_csv`? Let's take a look at the [documentation](https://pandas.pydata.org/pandas-docs/stable/generated/pandas.read_csv.html). Note the first argument required (`filepath`).\n",
    "> Take a moment to dissect other arguments and options when reading in data."
   ]
  },
  {
   "cell_type": "markdown",
   "metadata": {},
   "source": [
    "We have just created a data structure called a `DataFrame`. See?"
   ]
  },
  {
   "cell_type": "code",
   "execution_count": 168,
   "metadata": {},
   "outputs": [
    {
     "data": {
      "text/plain": "pandas.core.frame.DataFrame"
     },
     "execution_count": 168,
     "metadata": {},
     "output_type": "execute_result"
    }
   ],
   "source": [
    "# show the type of this 'prod' dataset\n",
    "\n",
    "type(prod)"
   ]
  },
  {
   "cell_type": "markdown",
   "metadata": {},
   "source": [
    "## Inspecting our DataFrame: The basics\n",
    "\n",
    "We'll now perform basic operations on the DataFrame, denoted with comments."
   ]
  },
  {
   "cell_type": "code",
   "execution_count": 169,
   "metadata": {},
   "outputs": [
    {
     "data": {
      "text/html": "<div>\n<style scoped>\n    .dataframe tbody tr th:only-of-type {\n        vertical-align: middle;\n    }\n\n    .dataframe tbody tr th {\n        vertical-align: top;\n    }\n\n    .dataframe thead th {\n        text-align: right;\n    }\n</style>\n<table border=\"1\" class=\"dataframe\">\n  <thead>\n    <tr style=\"text-align: right;\">\n      <th></th>\n      <th>ProductID</th>\n      <th>Name</th>\n      <th>ProductNumber</th>\n      <th>MakeFlag</th>\n      <th>FinishedGoodsFlag</th>\n      <th>Color</th>\n      <th>SafetyStockLevel</th>\n      <th>ReorderPoint</th>\n      <th>StandardCost</th>\n      <th>ListPrice</th>\n      <th>...</th>\n      <th>ProductLine</th>\n      <th>Class</th>\n      <th>Style</th>\n      <th>ProductSubcategoryID</th>\n      <th>ProductModelID</th>\n      <th>SellStartDate</th>\n      <th>SellEndDate</th>\n      <th>DiscontinuedDate</th>\n      <th>rowguid</th>\n      <th>ModifiedDate</th>\n    </tr>\n  </thead>\n  <tbody>\n    <tr>\n      <td>501</td>\n      <td>997</td>\n      <td>Road-750 Black, 44</td>\n      <td>BK-R19B-44</td>\n      <td>1</td>\n      <td>1</td>\n      <td>Black</td>\n      <td>100</td>\n      <td>75</td>\n      <td>343.6496</td>\n      <td>539.99</td>\n      <td>...</td>\n      <td>R</td>\n      <td>L</td>\n      <td>U</td>\n      <td>2.0</td>\n      <td>31.0</td>\n      <td>2013-05-30 00:00:00</td>\n      <td>NaN</td>\n      <td>NaN</td>\n      <td>{44CE4802-409F-43AB-9B27-CA53421805BE}</td>\n      <td>2014-02-08 10:01:36.827000000</td>\n    </tr>\n    <tr>\n      <td>502</td>\n      <td>998</td>\n      <td>Road-750 Black, 48</td>\n      <td>BK-R19B-48</td>\n      <td>1</td>\n      <td>1</td>\n      <td>Black</td>\n      <td>100</td>\n      <td>75</td>\n      <td>343.6496</td>\n      <td>539.99</td>\n      <td>...</td>\n      <td>R</td>\n      <td>L</td>\n      <td>U</td>\n      <td>2.0</td>\n      <td>31.0</td>\n      <td>2013-05-30 00:00:00</td>\n      <td>NaN</td>\n      <td>NaN</td>\n      <td>{3DE9A212-1D49-40B6-B10A-F564D981DBDE}</td>\n      <td>2014-02-08 10:01:36.827000000</td>\n    </tr>\n    <tr>\n      <td>503</td>\n      <td>999</td>\n      <td>Road-750 Black, 52</td>\n      <td>BK-R19B-52</td>\n      <td>1</td>\n      <td>1</td>\n      <td>Black</td>\n      <td>100</td>\n      <td>75</td>\n      <td>343.6496</td>\n      <td>539.99</td>\n      <td>...</td>\n      <td>R</td>\n      <td>L</td>\n      <td>U</td>\n      <td>2.0</td>\n      <td>31.0</td>\n      <td>2013-05-30 00:00:00</td>\n      <td>NaN</td>\n      <td>NaN</td>\n      <td>{AE638923-2B67-4679-B90E-ABBAB17DCA31}</td>\n      <td>2014-02-08 10:01:36.827000000</td>\n    </tr>\n  </tbody>\n</table>\n<p>3 rows × 25 columns</p>\n</div>",
      "text/plain": "     ProductID                Name ProductNumber  MakeFlag  FinishedGoodsFlag  \\\n501        997  Road-750 Black, 44    BK-R19B-44         1                  1   \n502        998  Road-750 Black, 48    BK-R19B-48         1                  1   \n503        999  Road-750 Black, 52    BK-R19B-52         1                  1   \n\n     Color  SafetyStockLevel  ReorderPoint  StandardCost  ListPrice  ...  \\\n501  Black               100            75      343.6496     539.99  ...   \n502  Black               100            75      343.6496     539.99  ...   \n503  Black               100            75      343.6496     539.99  ...   \n\n    ProductLine Class Style  ProductSubcategoryID  ProductModelID  \\\n501          R     L     U                    2.0            31.0   \n502          R     L     U                    2.0            31.0   \n503          R     L     U                    2.0            31.0   \n\n           SellStartDate SellEndDate DiscontinuedDate  \\\n501  2013-05-30 00:00:00         NaN              NaN   \n502  2013-05-30 00:00:00         NaN              NaN   \n503  2013-05-30 00:00:00         NaN              NaN   \n\n                                    rowguid                   ModifiedDate  \n501  {44CE4802-409F-43AB-9B27-CA53421805BE}  2014-02-08 10:01:36.827000000  \n502  {3DE9A212-1D49-40B6-B10A-F564D981DBDE}  2014-02-08 10:01:36.827000000  \n503  {AE638923-2B67-4679-B90E-ABBAB17DCA31}  2014-02-08 10:01:36.827000000  \n\n[3 rows x 25 columns]"
     },
     "execution_count": 169,
     "metadata": {},
     "output_type": "execute_result"
    }
   ],
   "source": [
    "# print the first and last 3 rows\n",
    "prod.head(n=3)\n",
    "prod.tail(n=3)"
   ]
  },
  {
   "cell_type": "markdown",
   "metadata": {},
   "source": [
    "Notice that `.head()` is a method (denoted by parantheses), so it takes arguments."
   ]
  },
  {
   "cell_type": "markdown",
   "metadata": {},
   "source": [
    "**Class Question:** \n",
    "- What do you think changes if we pass a different number `head()` argument?\n",
    "- How would we print the last 5 rows?"
   ]
  },
  {
   "cell_type": "code",
   "execution_count": 170,
   "metadata": {},
   "outputs": [
    {
     "data": {
      "text/plain": "504"
     },
     "execution_count": 170,
     "metadata": {},
     "output_type": "execute_result"
    }
   ],
   "source": [
    "# identify the shape (rows by columns)\n",
    "prod.shape[0]"
   ]
  },
  {
   "cell_type": "markdown",
   "metadata": {},
   "source": [
    "Here we have 504 rows, and 25 columns. This is a tuple, so we can extract the parts using indexing:"
   ]
  },
  {
   "cell_type": "code",
   "execution_count": 171,
   "metadata": {},
   "outputs": [],
   "source": [
    "# print the number of rows"
   ]
  },
  {
   "cell_type": "markdown",
   "metadata": {},
   "source": [
    "## Using the index\n",
    "An [index](https://pandas.pydata.org/pandas-docs/stable/generated/pandas.Index.html) is an immutable ndarray implementing an ordered, sliceable set. The basic object storing axis labels for all pandas objects. Think of it as a 'row address' for your data frame (table). It is best practice to explicitly set the index of your dataframe, as these are commonly used as [primary keys](https://en.wikipedia.org/wiki/Primary_key) which can be used to [join](https://www.w3schools.com/sql/sql_join.asp) your dataframe to other dataframes.\n",
    "\n",
    "The dataframe can store different types (int, string, datetime), and when importing data will automatically assign a number to each row, starting at zero and counting up. You can overwrite this, which is what we are going to do."
   ]
  },
  {
   "cell_type": "code",
   "execution_count": 172,
   "metadata": {},
   "outputs": [
    {
     "data": {
      "text/plain": "RangeIndex(start=0, stop=504, step=1)"
     },
     "execution_count": 172,
     "metadata": {},
     "output_type": "execute_result"
    }
   ],
   "source": [
    "# display the index as it sits (auto-generated upon import)\n",
    "prod.index #this doesn't really exist in our dataset. It's generated by Pandas, but doesn't exist in the CSV file."
   ]
  },
  {
   "cell_type": "code",
   "execution_count": 173,
   "metadata": {},
   "outputs": [
    {
     "data": {
      "text/html": "<div>\n<style scoped>\n    .dataframe tbody tr th:only-of-type {\n        vertical-align: middle;\n    }\n\n    .dataframe tbody tr th {\n        vertical-align: top;\n    }\n\n    .dataframe thead th {\n        text-align: right;\n    }\n</style>\n<table border=\"1\" class=\"dataframe\">\n  <thead>\n    <tr style=\"text-align: right;\">\n      <th></th>\n      <th>ProductID</th>\n      <th>Name</th>\n      <th>ProductNumber</th>\n      <th>MakeFlag</th>\n      <th>FinishedGoodsFlag</th>\n      <th>Color</th>\n      <th>SafetyStockLevel</th>\n      <th>ReorderPoint</th>\n      <th>StandardCost</th>\n      <th>ListPrice</th>\n      <th>...</th>\n      <th>ProductLine</th>\n      <th>Class</th>\n      <th>Style</th>\n      <th>ProductSubcategoryID</th>\n      <th>ProductModelID</th>\n      <th>SellStartDate</th>\n      <th>SellEndDate</th>\n      <th>DiscontinuedDate</th>\n      <th>rowguid</th>\n      <th>ModifiedDate</th>\n    </tr>\n  </thead>\n  <tbody>\n    <tr>\n      <td>0</td>\n      <td>1</td>\n      <td>Adjustable Race</td>\n      <td>AR-5381</td>\n      <td>0</td>\n      <td>0</td>\n      <td>NaN</td>\n      <td>1000</td>\n      <td>750</td>\n      <td>0.0000</td>\n      <td>0.00</td>\n      <td>...</td>\n      <td>NaN</td>\n      <td>NaN</td>\n      <td>NaN</td>\n      <td>NaN</td>\n      <td>NaN</td>\n      <td>2008-04-30 00:00:00</td>\n      <td>NaN</td>\n      <td>NaN</td>\n      <td>{694215B7-08F7-4C0D-ACB1-D734BA44C0C8}</td>\n      <td>2014-02-08 10:01:36.827000000</td>\n    </tr>\n    <tr>\n      <td>1</td>\n      <td>2</td>\n      <td>Bearing Ball</td>\n      <td>BA-8327</td>\n      <td>0</td>\n      <td>0</td>\n      <td>NaN</td>\n      <td>1000</td>\n      <td>750</td>\n      <td>0.0000</td>\n      <td>0.00</td>\n      <td>...</td>\n      <td>NaN</td>\n      <td>NaN</td>\n      <td>NaN</td>\n      <td>NaN</td>\n      <td>NaN</td>\n      <td>2008-04-30 00:00:00</td>\n      <td>NaN</td>\n      <td>NaN</td>\n      <td>{58AE3C20-4F3A-4749-A7D4-D568806CC537}</td>\n      <td>2014-02-08 10:01:36.827000000</td>\n    </tr>\n    <tr>\n      <td>2</td>\n      <td>3</td>\n      <td>BB Ball Bearing</td>\n      <td>BE-2349</td>\n      <td>1</td>\n      <td>0</td>\n      <td>NaN</td>\n      <td>800</td>\n      <td>600</td>\n      <td>0.0000</td>\n      <td>0.00</td>\n      <td>...</td>\n      <td>NaN</td>\n      <td>NaN</td>\n      <td>NaN</td>\n      <td>NaN</td>\n      <td>NaN</td>\n      <td>2008-04-30 00:00:00</td>\n      <td>NaN</td>\n      <td>NaN</td>\n      <td>{9C21AED2-5BFA-4F18-BCB8-F11638DC2E4E}</td>\n      <td>2014-02-08 10:01:36.827000000</td>\n    </tr>\n    <tr>\n      <td>3</td>\n      <td>4</td>\n      <td>Headset Ball Bearings</td>\n      <td>BE-2908</td>\n      <td>0</td>\n      <td>0</td>\n      <td>NaN</td>\n      <td>800</td>\n      <td>600</td>\n      <td>0.0000</td>\n      <td>0.00</td>\n      <td>...</td>\n      <td>NaN</td>\n      <td>NaN</td>\n      <td>NaN</td>\n      <td>NaN</td>\n      <td>NaN</td>\n      <td>2008-04-30 00:00:00</td>\n      <td>NaN</td>\n      <td>NaN</td>\n      <td>{ECFED6CB-51FF-49B5-B06C-7D8AC834DB8B}</td>\n      <td>2014-02-08 10:01:36.827000000</td>\n    </tr>\n    <tr>\n      <td>4</td>\n      <td>316</td>\n      <td>Blade</td>\n      <td>BL-2036</td>\n      <td>1</td>\n      <td>0</td>\n      <td>NaN</td>\n      <td>800</td>\n      <td>600</td>\n      <td>0.0000</td>\n      <td>0.00</td>\n      <td>...</td>\n      <td>NaN</td>\n      <td>NaN</td>\n      <td>NaN</td>\n      <td>NaN</td>\n      <td>NaN</td>\n      <td>2008-04-30 00:00:00</td>\n      <td>NaN</td>\n      <td>NaN</td>\n      <td>{E73E9750-603B-4131-89F5-3DD15ED5FF80}</td>\n      <td>2014-02-08 10:01:36.827000000</td>\n    </tr>\n    <tr>\n      <td>...</td>\n      <td>...</td>\n      <td>...</td>\n      <td>...</td>\n      <td>...</td>\n      <td>...</td>\n      <td>...</td>\n      <td>...</td>\n      <td>...</td>\n      <td>...</td>\n      <td>...</td>\n      <td>...</td>\n      <td>...</td>\n      <td>...</td>\n      <td>...</td>\n      <td>...</td>\n      <td>...</td>\n      <td>...</td>\n      <td>...</td>\n      <td>...</td>\n      <td>...</td>\n      <td>...</td>\n    </tr>\n    <tr>\n      <td>499</td>\n      <td>995</td>\n      <td>ML Bottom Bracket</td>\n      <td>BB-8107</td>\n      <td>1</td>\n      <td>1</td>\n      <td>NaN</td>\n      <td>500</td>\n      <td>375</td>\n      <td>44.9506</td>\n      <td>101.24</td>\n      <td>...</td>\n      <td>NaN</td>\n      <td>M</td>\n      <td>NaN</td>\n      <td>5.0</td>\n      <td>96.0</td>\n      <td>2013-05-30 00:00:00</td>\n      <td>NaN</td>\n      <td>NaN</td>\n      <td>{71AB847F-D091-42D6-B735-7B0C2D82FC84}</td>\n      <td>2014-02-08 10:01:36.827000000</td>\n    </tr>\n    <tr>\n      <td>500</td>\n      <td>996</td>\n      <td>HL Bottom Bracket</td>\n      <td>BB-9108</td>\n      <td>1</td>\n      <td>1</td>\n      <td>NaN</td>\n      <td>500</td>\n      <td>375</td>\n      <td>53.9416</td>\n      <td>121.49</td>\n      <td>...</td>\n      <td>NaN</td>\n      <td>H</td>\n      <td>NaN</td>\n      <td>5.0</td>\n      <td>97.0</td>\n      <td>2013-05-30 00:00:00</td>\n      <td>NaN</td>\n      <td>NaN</td>\n      <td>{230C47C5-08B2-4CE3-B706-69C0BDD62965}</td>\n      <td>2014-02-08 10:01:36.827000000</td>\n    </tr>\n    <tr>\n      <td>501</td>\n      <td>997</td>\n      <td>Road-750 Black, 44</td>\n      <td>BK-R19B-44</td>\n      <td>1</td>\n      <td>1</td>\n      <td>Black</td>\n      <td>100</td>\n      <td>75</td>\n      <td>343.6496</td>\n      <td>539.99</td>\n      <td>...</td>\n      <td>R</td>\n      <td>L</td>\n      <td>U</td>\n      <td>2.0</td>\n      <td>31.0</td>\n      <td>2013-05-30 00:00:00</td>\n      <td>NaN</td>\n      <td>NaN</td>\n      <td>{44CE4802-409F-43AB-9B27-CA53421805BE}</td>\n      <td>2014-02-08 10:01:36.827000000</td>\n    </tr>\n    <tr>\n      <td>502</td>\n      <td>998</td>\n      <td>Road-750 Black, 48</td>\n      <td>BK-R19B-48</td>\n      <td>1</td>\n      <td>1</td>\n      <td>Black</td>\n      <td>100</td>\n      <td>75</td>\n      <td>343.6496</td>\n      <td>539.99</td>\n      <td>...</td>\n      <td>R</td>\n      <td>L</td>\n      <td>U</td>\n      <td>2.0</td>\n      <td>31.0</td>\n      <td>2013-05-30 00:00:00</td>\n      <td>NaN</td>\n      <td>NaN</td>\n      <td>{3DE9A212-1D49-40B6-B10A-F564D981DBDE}</td>\n      <td>2014-02-08 10:01:36.827000000</td>\n    </tr>\n    <tr>\n      <td>503</td>\n      <td>999</td>\n      <td>Road-750 Black, 52</td>\n      <td>BK-R19B-52</td>\n      <td>1</td>\n      <td>1</td>\n      <td>Black</td>\n      <td>100</td>\n      <td>75</td>\n      <td>343.6496</td>\n      <td>539.99</td>\n      <td>...</td>\n      <td>R</td>\n      <td>L</td>\n      <td>U</td>\n      <td>2.0</td>\n      <td>31.0</td>\n      <td>2013-05-30 00:00:00</td>\n      <td>NaN</td>\n      <td>NaN</td>\n      <td>{AE638923-2B67-4679-B90E-ABBAB17DCA31}</td>\n      <td>2014-02-08 10:01:36.827000000</td>\n    </tr>\n  </tbody>\n</table>\n<p>504 rows × 25 columns</p>\n</div>",
      "text/plain": "     ProductID                   Name ProductNumber  MakeFlag  \\\n0            1        Adjustable Race       AR-5381         0   \n1            2           Bearing Ball       BA-8327         0   \n2            3        BB Ball Bearing       BE-2349         1   \n3            4  Headset Ball Bearings       BE-2908         0   \n4          316                  Blade       BL-2036         1   \n..         ...                    ...           ...       ...   \n499        995      ML Bottom Bracket       BB-8107         1   \n500        996      HL Bottom Bracket       BB-9108         1   \n501        997     Road-750 Black, 44    BK-R19B-44         1   \n502        998     Road-750 Black, 48    BK-R19B-48         1   \n503        999     Road-750 Black, 52    BK-R19B-52         1   \n\n     FinishedGoodsFlag  Color  SafetyStockLevel  ReorderPoint  StandardCost  \\\n0                    0    NaN              1000           750        0.0000   \n1                    0    NaN              1000           750        0.0000   \n2                    0    NaN               800           600        0.0000   \n3                    0    NaN               800           600        0.0000   \n4                    0    NaN               800           600        0.0000   \n..                 ...    ...               ...           ...           ...   \n499                  1    NaN               500           375       44.9506   \n500                  1    NaN               500           375       53.9416   \n501                  1  Black               100            75      343.6496   \n502                  1  Black               100            75      343.6496   \n503                  1  Black               100            75      343.6496   \n\n     ListPrice  ... ProductLine Class Style  ProductSubcategoryID  \\\n0         0.00  ...         NaN   NaN   NaN                   NaN   \n1         0.00  ...         NaN   NaN   NaN                   NaN   \n2         0.00  ...         NaN   NaN   NaN                   NaN   \n3         0.00  ...         NaN   NaN   NaN                   NaN   \n4         0.00  ...         NaN   NaN   NaN                   NaN   \n..         ...  ...         ...   ...   ...                   ...   \n499     101.24  ...         NaN    M    NaN                   5.0   \n500     121.49  ...         NaN    H    NaN                   5.0   \n501     539.99  ...          R     L     U                    2.0   \n502     539.99  ...          R     L     U                    2.0   \n503     539.99  ...          R     L     U                    2.0   \n\n     ProductModelID        SellStartDate SellEndDate DiscontinuedDate  \\\n0               NaN  2008-04-30 00:00:00         NaN              NaN   \n1               NaN  2008-04-30 00:00:00         NaN              NaN   \n2               NaN  2008-04-30 00:00:00         NaN              NaN   \n3               NaN  2008-04-30 00:00:00         NaN              NaN   \n4               NaN  2008-04-30 00:00:00         NaN              NaN   \n..              ...                  ...         ...              ...   \n499            96.0  2013-05-30 00:00:00         NaN              NaN   \n500            97.0  2013-05-30 00:00:00         NaN              NaN   \n501            31.0  2013-05-30 00:00:00         NaN              NaN   \n502            31.0  2013-05-30 00:00:00         NaN              NaN   \n503            31.0  2013-05-30 00:00:00         NaN              NaN   \n\n                                    rowguid                   ModifiedDate  \n0    {694215B7-08F7-4C0D-ACB1-D734BA44C0C8}  2014-02-08 10:01:36.827000000  \n1    {58AE3C20-4F3A-4749-A7D4-D568806CC537}  2014-02-08 10:01:36.827000000  \n2    {9C21AED2-5BFA-4F18-BCB8-F11638DC2E4E}  2014-02-08 10:01:36.827000000  \n3    {ECFED6CB-51FF-49B5-B06C-7D8AC834DB8B}  2014-02-08 10:01:36.827000000  \n4    {E73E9750-603B-4131-89F5-3DD15ED5FF80}  2014-02-08 10:01:36.827000000  \n..                                      ...                            ...  \n499  {71AB847F-D091-42D6-B735-7B0C2D82FC84}  2014-02-08 10:01:36.827000000  \n500  {230C47C5-08B2-4CE3-B706-69C0BDD62965}  2014-02-08 10:01:36.827000000  \n501  {44CE4802-409F-43AB-9B27-CA53421805BE}  2014-02-08 10:01:36.827000000  \n502  {3DE9A212-1D49-40B6-B10A-F564D981DBDE}  2014-02-08 10:01:36.827000000  \n503  {AE638923-2B67-4679-B90E-ABBAB17DCA31}  2014-02-08 10:01:36.827000000  \n\n[504 rows x 25 columns]"
     },
     "execution_count": 173,
     "metadata": {},
     "output_type": "execute_result"
    }
   ],
   "source": [
    "prod"
   ]
  },
  {
   "cell_type": "code",
   "execution_count": null,
   "metadata": {},
   "outputs": [],
   "source": []
  },
  {
   "cell_type": "code",
   "execution_count": 174,
   "metadata": {},
   "outputs": [],
   "source": [
    "# note that our auto-generated index has no name"
   ]
  },
  {
   "cell_type": "code",
   "execution_count": 175,
   "metadata": {},
   "outputs": [],
   "source": [
    "# Here we are looking at three columns;\n",
    "# the one on the left is the index (automatically generated upon import by pandas)\n",
    "# 'ProductID' is our PK (primary key) from our imported table. 'Name' is a data column.\n",
    "# Notice that the generated index starts at zero and our PK starts at 1."
   ]
  },
  {
   "cell_type": "code",
   "execution_count": 176,
   "metadata": {},
   "outputs": [],
   "source": [
    "# Setting the index overwrites the automatically generated index\n",
    "# with our PK, which resided in the 'ProductID' column.\n",
    "#prod.index = prod[\"ProductID\"]"
   ]
  },
  {
   "cell_type": "code",
   "execution_count": 177,
   "metadata": {},
   "outputs": [
    {
     "data": {
      "text/html": "<div>\n<style scoped>\n    .dataframe tbody tr th:only-of-type {\n        vertical-align: middle;\n    }\n\n    .dataframe tbody tr th {\n        vertical-align: top;\n    }\n\n    .dataframe thead th {\n        text-align: right;\n    }\n</style>\n<table border=\"1\" class=\"dataframe\">\n  <thead>\n    <tr style=\"text-align: right;\">\n      <th></th>\n      <th>ProductID</th>\n      <th>Name</th>\n      <th>ProductNumber</th>\n      <th>MakeFlag</th>\n      <th>FinishedGoodsFlag</th>\n      <th>Color</th>\n      <th>SafetyStockLevel</th>\n      <th>ReorderPoint</th>\n      <th>StandardCost</th>\n      <th>ListPrice</th>\n      <th>...</th>\n      <th>ProductLine</th>\n      <th>Class</th>\n      <th>Style</th>\n      <th>ProductSubcategoryID</th>\n      <th>ProductModelID</th>\n      <th>SellStartDate</th>\n      <th>SellEndDate</th>\n      <th>DiscontinuedDate</th>\n      <th>rowguid</th>\n      <th>ModifiedDate</th>\n    </tr>\n  </thead>\n  <tbody>\n    <tr>\n      <td>0</td>\n      <td>1</td>\n      <td>Adjustable Race</td>\n      <td>AR-5381</td>\n      <td>0</td>\n      <td>0</td>\n      <td>NaN</td>\n      <td>1000</td>\n      <td>750</td>\n      <td>0.0000</td>\n      <td>0.00</td>\n      <td>...</td>\n      <td>NaN</td>\n      <td>NaN</td>\n      <td>NaN</td>\n      <td>NaN</td>\n      <td>NaN</td>\n      <td>2008-04-30 00:00:00</td>\n      <td>NaN</td>\n      <td>NaN</td>\n      <td>{694215B7-08F7-4C0D-ACB1-D734BA44C0C8}</td>\n      <td>2014-02-08 10:01:36.827000000</td>\n    </tr>\n    <tr>\n      <td>1</td>\n      <td>2</td>\n      <td>Bearing Ball</td>\n      <td>BA-8327</td>\n      <td>0</td>\n      <td>0</td>\n      <td>NaN</td>\n      <td>1000</td>\n      <td>750</td>\n      <td>0.0000</td>\n      <td>0.00</td>\n      <td>...</td>\n      <td>NaN</td>\n      <td>NaN</td>\n      <td>NaN</td>\n      <td>NaN</td>\n      <td>NaN</td>\n      <td>2008-04-30 00:00:00</td>\n      <td>NaN</td>\n      <td>NaN</td>\n      <td>{58AE3C20-4F3A-4749-A7D4-D568806CC537}</td>\n      <td>2014-02-08 10:01:36.827000000</td>\n    </tr>\n    <tr>\n      <td>2</td>\n      <td>3</td>\n      <td>BB Ball Bearing</td>\n      <td>BE-2349</td>\n      <td>1</td>\n      <td>0</td>\n      <td>NaN</td>\n      <td>800</td>\n      <td>600</td>\n      <td>0.0000</td>\n      <td>0.00</td>\n      <td>...</td>\n      <td>NaN</td>\n      <td>NaN</td>\n      <td>NaN</td>\n      <td>NaN</td>\n      <td>NaN</td>\n      <td>2008-04-30 00:00:00</td>\n      <td>NaN</td>\n      <td>NaN</td>\n      <td>{9C21AED2-5BFA-4F18-BCB8-F11638DC2E4E}</td>\n      <td>2014-02-08 10:01:36.827000000</td>\n    </tr>\n    <tr>\n      <td>3</td>\n      <td>4</td>\n      <td>Headset Ball Bearings</td>\n      <td>BE-2908</td>\n      <td>0</td>\n      <td>0</td>\n      <td>NaN</td>\n      <td>800</td>\n      <td>600</td>\n      <td>0.0000</td>\n      <td>0.00</td>\n      <td>...</td>\n      <td>NaN</td>\n      <td>NaN</td>\n      <td>NaN</td>\n      <td>NaN</td>\n      <td>NaN</td>\n      <td>2008-04-30 00:00:00</td>\n      <td>NaN</td>\n      <td>NaN</td>\n      <td>{ECFED6CB-51FF-49B5-B06C-7D8AC834DB8B}</td>\n      <td>2014-02-08 10:01:36.827000000</td>\n    </tr>\n    <tr>\n      <td>4</td>\n      <td>316</td>\n      <td>Blade</td>\n      <td>BL-2036</td>\n      <td>1</td>\n      <td>0</td>\n      <td>NaN</td>\n      <td>800</td>\n      <td>600</td>\n      <td>0.0000</td>\n      <td>0.00</td>\n      <td>...</td>\n      <td>NaN</td>\n      <td>NaN</td>\n      <td>NaN</td>\n      <td>NaN</td>\n      <td>NaN</td>\n      <td>2008-04-30 00:00:00</td>\n      <td>NaN</td>\n      <td>NaN</td>\n      <td>{E73E9750-603B-4131-89F5-3DD15ED5FF80}</td>\n      <td>2014-02-08 10:01:36.827000000</td>\n    </tr>\n    <tr>\n      <td>...</td>\n      <td>...</td>\n      <td>...</td>\n      <td>...</td>\n      <td>...</td>\n      <td>...</td>\n      <td>...</td>\n      <td>...</td>\n      <td>...</td>\n      <td>...</td>\n      <td>...</td>\n      <td>...</td>\n      <td>...</td>\n      <td>...</td>\n      <td>...</td>\n      <td>...</td>\n      <td>...</td>\n      <td>...</td>\n      <td>...</td>\n      <td>...</td>\n      <td>...</td>\n      <td>...</td>\n    </tr>\n    <tr>\n      <td>499</td>\n      <td>995</td>\n      <td>ML Bottom Bracket</td>\n      <td>BB-8107</td>\n      <td>1</td>\n      <td>1</td>\n      <td>NaN</td>\n      <td>500</td>\n      <td>375</td>\n      <td>44.9506</td>\n      <td>101.24</td>\n      <td>...</td>\n      <td>NaN</td>\n      <td>M</td>\n      <td>NaN</td>\n      <td>5.0</td>\n      <td>96.0</td>\n      <td>2013-05-30 00:00:00</td>\n      <td>NaN</td>\n      <td>NaN</td>\n      <td>{71AB847F-D091-42D6-B735-7B0C2D82FC84}</td>\n      <td>2014-02-08 10:01:36.827000000</td>\n    </tr>\n    <tr>\n      <td>500</td>\n      <td>996</td>\n      <td>HL Bottom Bracket</td>\n      <td>BB-9108</td>\n      <td>1</td>\n      <td>1</td>\n      <td>NaN</td>\n      <td>500</td>\n      <td>375</td>\n      <td>53.9416</td>\n      <td>121.49</td>\n      <td>...</td>\n      <td>NaN</td>\n      <td>H</td>\n      <td>NaN</td>\n      <td>5.0</td>\n      <td>97.0</td>\n      <td>2013-05-30 00:00:00</td>\n      <td>NaN</td>\n      <td>NaN</td>\n      <td>{230C47C5-08B2-4CE3-B706-69C0BDD62965}</td>\n      <td>2014-02-08 10:01:36.827000000</td>\n    </tr>\n    <tr>\n      <td>501</td>\n      <td>997</td>\n      <td>Road-750 Black, 44</td>\n      <td>BK-R19B-44</td>\n      <td>1</td>\n      <td>1</td>\n      <td>Black</td>\n      <td>100</td>\n      <td>75</td>\n      <td>343.6496</td>\n      <td>539.99</td>\n      <td>...</td>\n      <td>R</td>\n      <td>L</td>\n      <td>U</td>\n      <td>2.0</td>\n      <td>31.0</td>\n      <td>2013-05-30 00:00:00</td>\n      <td>NaN</td>\n      <td>NaN</td>\n      <td>{44CE4802-409F-43AB-9B27-CA53421805BE}</td>\n      <td>2014-02-08 10:01:36.827000000</td>\n    </tr>\n    <tr>\n      <td>502</td>\n      <td>998</td>\n      <td>Road-750 Black, 48</td>\n      <td>BK-R19B-48</td>\n      <td>1</td>\n      <td>1</td>\n      <td>Black</td>\n      <td>100</td>\n      <td>75</td>\n      <td>343.6496</td>\n      <td>539.99</td>\n      <td>...</td>\n      <td>R</td>\n      <td>L</td>\n      <td>U</td>\n      <td>2.0</td>\n      <td>31.0</td>\n      <td>2013-05-30 00:00:00</td>\n      <td>NaN</td>\n      <td>NaN</td>\n      <td>{3DE9A212-1D49-40B6-B10A-F564D981DBDE}</td>\n      <td>2014-02-08 10:01:36.827000000</td>\n    </tr>\n    <tr>\n      <td>503</td>\n      <td>999</td>\n      <td>Road-750 Black, 52</td>\n      <td>BK-R19B-52</td>\n      <td>1</td>\n      <td>1</td>\n      <td>Black</td>\n      <td>100</td>\n      <td>75</td>\n      <td>343.6496</td>\n      <td>539.99</td>\n      <td>...</td>\n      <td>R</td>\n      <td>L</td>\n      <td>U</td>\n      <td>2.0</td>\n      <td>31.0</td>\n      <td>2013-05-30 00:00:00</td>\n      <td>NaN</td>\n      <td>NaN</td>\n      <td>{AE638923-2B67-4679-B90E-ABBAB17DCA31}</td>\n      <td>2014-02-08 10:01:36.827000000</td>\n    </tr>\n  </tbody>\n</table>\n<p>504 rows × 25 columns</p>\n</div>",
      "text/plain": "     ProductID                   Name ProductNumber  MakeFlag  \\\n0            1        Adjustable Race       AR-5381         0   \n1            2           Bearing Ball       BA-8327         0   \n2            3        BB Ball Bearing       BE-2349         1   \n3            4  Headset Ball Bearings       BE-2908         0   \n4          316                  Blade       BL-2036         1   \n..         ...                    ...           ...       ...   \n499        995      ML Bottom Bracket       BB-8107         1   \n500        996      HL Bottom Bracket       BB-9108         1   \n501        997     Road-750 Black, 44    BK-R19B-44         1   \n502        998     Road-750 Black, 48    BK-R19B-48         1   \n503        999     Road-750 Black, 52    BK-R19B-52         1   \n\n     FinishedGoodsFlag  Color  SafetyStockLevel  ReorderPoint  StandardCost  \\\n0                    0    NaN              1000           750        0.0000   \n1                    0    NaN              1000           750        0.0000   \n2                    0    NaN               800           600        0.0000   \n3                    0    NaN               800           600        0.0000   \n4                    0    NaN               800           600        0.0000   \n..                 ...    ...               ...           ...           ...   \n499                  1    NaN               500           375       44.9506   \n500                  1    NaN               500           375       53.9416   \n501                  1  Black               100            75      343.6496   \n502                  1  Black               100            75      343.6496   \n503                  1  Black               100            75      343.6496   \n\n     ListPrice  ... ProductLine Class Style  ProductSubcategoryID  \\\n0         0.00  ...         NaN   NaN   NaN                   NaN   \n1         0.00  ...         NaN   NaN   NaN                   NaN   \n2         0.00  ...         NaN   NaN   NaN                   NaN   \n3         0.00  ...         NaN   NaN   NaN                   NaN   \n4         0.00  ...         NaN   NaN   NaN                   NaN   \n..         ...  ...         ...   ...   ...                   ...   \n499     101.24  ...         NaN    M    NaN                   5.0   \n500     121.49  ...         NaN    H    NaN                   5.0   \n501     539.99  ...          R     L     U                    2.0   \n502     539.99  ...          R     L     U                    2.0   \n503     539.99  ...          R     L     U                    2.0   \n\n     ProductModelID        SellStartDate SellEndDate DiscontinuedDate  \\\n0               NaN  2008-04-30 00:00:00         NaN              NaN   \n1               NaN  2008-04-30 00:00:00         NaN              NaN   \n2               NaN  2008-04-30 00:00:00         NaN              NaN   \n3               NaN  2008-04-30 00:00:00         NaN              NaN   \n4               NaN  2008-04-30 00:00:00         NaN              NaN   \n..              ...                  ...         ...              ...   \n499            96.0  2013-05-30 00:00:00         NaN              NaN   \n500            97.0  2013-05-30 00:00:00         NaN              NaN   \n501            31.0  2013-05-30 00:00:00         NaN              NaN   \n502            31.0  2013-05-30 00:00:00         NaN              NaN   \n503            31.0  2013-05-30 00:00:00         NaN              NaN   \n\n                                    rowguid                   ModifiedDate  \n0    {694215B7-08F7-4C0D-ACB1-D734BA44C0C8}  2014-02-08 10:01:36.827000000  \n1    {58AE3C20-4F3A-4749-A7D4-D568806CC537}  2014-02-08 10:01:36.827000000  \n2    {9C21AED2-5BFA-4F18-BCB8-F11638DC2E4E}  2014-02-08 10:01:36.827000000  \n3    {ECFED6CB-51FF-49B5-B06C-7D8AC834DB8B}  2014-02-08 10:01:36.827000000  \n4    {E73E9750-603B-4131-89F5-3DD15ED5FF80}  2014-02-08 10:01:36.827000000  \n..                                      ...                            ...  \n499  {71AB847F-D091-42D6-B735-7B0C2D82FC84}  2014-02-08 10:01:36.827000000  \n500  {230C47C5-08B2-4CE3-B706-69C0BDD62965}  2014-02-08 10:01:36.827000000  \n501  {44CE4802-409F-43AB-9B27-CA53421805BE}  2014-02-08 10:01:36.827000000  \n502  {3DE9A212-1D49-40B6-B10A-F564D981DBDE}  2014-02-08 10:01:36.827000000  \n503  {AE638923-2B67-4679-B90E-ABBAB17DCA31}  2014-02-08 10:01:36.827000000  \n\n[504 rows x 25 columns]"
     },
     "execution_count": 177,
     "metadata": {},
     "output_type": "execute_result"
    }
   ],
   "source": [
    "prod"
   ]
  },
  {
   "cell_type": "code",
   "execution_count": null,
   "metadata": {},
   "outputs": [],
   "source": []
  },
  {
   "cell_type": "code",
   "execution_count": null,
   "metadata": {},
   "outputs": [],
   "source": []
  },
  {
   "cell_type": "code",
   "execution_count": 178,
   "metadata": {},
   "outputs": [],
   "source": [
    "# Note how our index property has changed as a result"
   ]
  },
  {
   "cell_type": "code",
   "execution_count": 179,
   "metadata": {},
   "outputs": [
    {
     "data": {
      "text/html": "<div>\n<style scoped>\n    .dataframe tbody tr th:only-of-type {\n        vertical-align: middle;\n    }\n\n    .dataframe tbody tr th {\n        vertical-align: top;\n    }\n\n    .dataframe thead th {\n        text-align: right;\n    }\n</style>\n<table border=\"1\" class=\"dataframe\">\n  <thead>\n    <tr style=\"text-align: right;\">\n      <th></th>\n      <th>Name</th>\n      <th>ProductNumber</th>\n      <th>MakeFlag</th>\n      <th>FinishedGoodsFlag</th>\n      <th>Color</th>\n      <th>SafetyStockLevel</th>\n      <th>ReorderPoint</th>\n      <th>StandardCost</th>\n      <th>ListPrice</th>\n      <th>Size</th>\n      <th>...</th>\n      <th>ProductLine</th>\n      <th>Class</th>\n      <th>Style</th>\n      <th>ProductSubcategoryID</th>\n      <th>ProductModelID</th>\n      <th>SellStartDate</th>\n      <th>SellEndDate</th>\n      <th>DiscontinuedDate</th>\n      <th>rowguid</th>\n      <th>ModifiedDate</th>\n    </tr>\n    <tr>\n      <th>ProductID</th>\n      <th></th>\n      <th></th>\n      <th></th>\n      <th></th>\n      <th></th>\n      <th></th>\n      <th></th>\n      <th></th>\n      <th></th>\n      <th></th>\n      <th></th>\n      <th></th>\n      <th></th>\n      <th></th>\n      <th></th>\n      <th></th>\n      <th></th>\n      <th></th>\n      <th></th>\n      <th></th>\n      <th></th>\n    </tr>\n  </thead>\n  <tbody>\n    <tr>\n      <td>1</td>\n      <td>Adjustable Race</td>\n      <td>AR-5381</td>\n      <td>0</td>\n      <td>0</td>\n      <td>NaN</td>\n      <td>1000</td>\n      <td>750</td>\n      <td>0.0000</td>\n      <td>0.00</td>\n      <td>NaN</td>\n      <td>...</td>\n      <td>NaN</td>\n      <td>NaN</td>\n      <td>NaN</td>\n      <td>NaN</td>\n      <td>NaN</td>\n      <td>2008-04-30 00:00:00</td>\n      <td>NaN</td>\n      <td>NaN</td>\n      <td>{694215B7-08F7-4C0D-ACB1-D734BA44C0C8}</td>\n      <td>2014-02-08 10:01:36.827000000</td>\n    </tr>\n    <tr>\n      <td>2</td>\n      <td>Bearing Ball</td>\n      <td>BA-8327</td>\n      <td>0</td>\n      <td>0</td>\n      <td>NaN</td>\n      <td>1000</td>\n      <td>750</td>\n      <td>0.0000</td>\n      <td>0.00</td>\n      <td>NaN</td>\n      <td>...</td>\n      <td>NaN</td>\n      <td>NaN</td>\n      <td>NaN</td>\n      <td>NaN</td>\n      <td>NaN</td>\n      <td>2008-04-30 00:00:00</td>\n      <td>NaN</td>\n      <td>NaN</td>\n      <td>{58AE3C20-4F3A-4749-A7D4-D568806CC537}</td>\n      <td>2014-02-08 10:01:36.827000000</td>\n    </tr>\n    <tr>\n      <td>3</td>\n      <td>BB Ball Bearing</td>\n      <td>BE-2349</td>\n      <td>1</td>\n      <td>0</td>\n      <td>NaN</td>\n      <td>800</td>\n      <td>600</td>\n      <td>0.0000</td>\n      <td>0.00</td>\n      <td>NaN</td>\n      <td>...</td>\n      <td>NaN</td>\n      <td>NaN</td>\n      <td>NaN</td>\n      <td>NaN</td>\n      <td>NaN</td>\n      <td>2008-04-30 00:00:00</td>\n      <td>NaN</td>\n      <td>NaN</td>\n      <td>{9C21AED2-5BFA-4F18-BCB8-F11638DC2E4E}</td>\n      <td>2014-02-08 10:01:36.827000000</td>\n    </tr>\n    <tr>\n      <td>4</td>\n      <td>Headset Ball Bearings</td>\n      <td>BE-2908</td>\n      <td>0</td>\n      <td>0</td>\n      <td>NaN</td>\n      <td>800</td>\n      <td>600</td>\n      <td>0.0000</td>\n      <td>0.00</td>\n      <td>NaN</td>\n      <td>...</td>\n      <td>NaN</td>\n      <td>NaN</td>\n      <td>NaN</td>\n      <td>NaN</td>\n      <td>NaN</td>\n      <td>2008-04-30 00:00:00</td>\n      <td>NaN</td>\n      <td>NaN</td>\n      <td>{ECFED6CB-51FF-49B5-B06C-7D8AC834DB8B}</td>\n      <td>2014-02-08 10:01:36.827000000</td>\n    </tr>\n    <tr>\n      <td>316</td>\n      <td>Blade</td>\n      <td>BL-2036</td>\n      <td>1</td>\n      <td>0</td>\n      <td>NaN</td>\n      <td>800</td>\n      <td>600</td>\n      <td>0.0000</td>\n      <td>0.00</td>\n      <td>NaN</td>\n      <td>...</td>\n      <td>NaN</td>\n      <td>NaN</td>\n      <td>NaN</td>\n      <td>NaN</td>\n      <td>NaN</td>\n      <td>2008-04-30 00:00:00</td>\n      <td>NaN</td>\n      <td>NaN</td>\n      <td>{E73E9750-603B-4131-89F5-3DD15ED5FF80}</td>\n      <td>2014-02-08 10:01:36.827000000</td>\n    </tr>\n    <tr>\n      <td>...</td>\n      <td>...</td>\n      <td>...</td>\n      <td>...</td>\n      <td>...</td>\n      <td>...</td>\n      <td>...</td>\n      <td>...</td>\n      <td>...</td>\n      <td>...</td>\n      <td>...</td>\n      <td>...</td>\n      <td>...</td>\n      <td>...</td>\n      <td>...</td>\n      <td>...</td>\n      <td>...</td>\n      <td>...</td>\n      <td>...</td>\n      <td>...</td>\n      <td>...</td>\n      <td>...</td>\n    </tr>\n    <tr>\n      <td>995</td>\n      <td>ML Bottom Bracket</td>\n      <td>BB-8107</td>\n      <td>1</td>\n      <td>1</td>\n      <td>NaN</td>\n      <td>500</td>\n      <td>375</td>\n      <td>44.9506</td>\n      <td>101.24</td>\n      <td>NaN</td>\n      <td>...</td>\n      <td>NaN</td>\n      <td>M</td>\n      <td>NaN</td>\n      <td>5.0</td>\n      <td>96.0</td>\n      <td>2013-05-30 00:00:00</td>\n      <td>NaN</td>\n      <td>NaN</td>\n      <td>{71AB847F-D091-42D6-B735-7B0C2D82FC84}</td>\n      <td>2014-02-08 10:01:36.827000000</td>\n    </tr>\n    <tr>\n      <td>996</td>\n      <td>HL Bottom Bracket</td>\n      <td>BB-9108</td>\n      <td>1</td>\n      <td>1</td>\n      <td>NaN</td>\n      <td>500</td>\n      <td>375</td>\n      <td>53.9416</td>\n      <td>121.49</td>\n      <td>NaN</td>\n      <td>...</td>\n      <td>NaN</td>\n      <td>H</td>\n      <td>NaN</td>\n      <td>5.0</td>\n      <td>97.0</td>\n      <td>2013-05-30 00:00:00</td>\n      <td>NaN</td>\n      <td>NaN</td>\n      <td>{230C47C5-08B2-4CE3-B706-69C0BDD62965}</td>\n      <td>2014-02-08 10:01:36.827000000</td>\n    </tr>\n    <tr>\n      <td>997</td>\n      <td>Road-750 Black, 44</td>\n      <td>BK-R19B-44</td>\n      <td>1</td>\n      <td>1</td>\n      <td>Black</td>\n      <td>100</td>\n      <td>75</td>\n      <td>343.6496</td>\n      <td>539.99</td>\n      <td>44</td>\n      <td>...</td>\n      <td>R</td>\n      <td>L</td>\n      <td>U</td>\n      <td>2.0</td>\n      <td>31.0</td>\n      <td>2013-05-30 00:00:00</td>\n      <td>NaN</td>\n      <td>NaN</td>\n      <td>{44CE4802-409F-43AB-9B27-CA53421805BE}</td>\n      <td>2014-02-08 10:01:36.827000000</td>\n    </tr>\n    <tr>\n      <td>998</td>\n      <td>Road-750 Black, 48</td>\n      <td>BK-R19B-48</td>\n      <td>1</td>\n      <td>1</td>\n      <td>Black</td>\n      <td>100</td>\n      <td>75</td>\n      <td>343.6496</td>\n      <td>539.99</td>\n      <td>48</td>\n      <td>...</td>\n      <td>R</td>\n      <td>L</td>\n      <td>U</td>\n      <td>2.0</td>\n      <td>31.0</td>\n      <td>2013-05-30 00:00:00</td>\n      <td>NaN</td>\n      <td>NaN</td>\n      <td>{3DE9A212-1D49-40B6-B10A-F564D981DBDE}</td>\n      <td>2014-02-08 10:01:36.827000000</td>\n    </tr>\n    <tr>\n      <td>999</td>\n      <td>Road-750 Black, 52</td>\n      <td>BK-R19B-52</td>\n      <td>1</td>\n      <td>1</td>\n      <td>Black</td>\n      <td>100</td>\n      <td>75</td>\n      <td>343.6496</td>\n      <td>539.99</td>\n      <td>52</td>\n      <td>...</td>\n      <td>R</td>\n      <td>L</td>\n      <td>U</td>\n      <td>2.0</td>\n      <td>31.0</td>\n      <td>2013-05-30 00:00:00</td>\n      <td>NaN</td>\n      <td>NaN</td>\n      <td>{AE638923-2B67-4679-B90E-ABBAB17DCA31}</td>\n      <td>2014-02-08 10:01:36.827000000</td>\n    </tr>\n  </tbody>\n</table>\n<p>504 rows × 24 columns</p>\n</div>",
      "text/plain": "                            Name ProductNumber  MakeFlag  FinishedGoodsFlag  \\\nProductID                                                                     \n1                Adjustable Race       AR-5381         0                  0   \n2                   Bearing Ball       BA-8327         0                  0   \n3                BB Ball Bearing       BE-2349         1                  0   \n4          Headset Ball Bearings       BE-2908         0                  0   \n316                        Blade       BL-2036         1                  0   \n...                          ...           ...       ...                ...   \n995            ML Bottom Bracket       BB-8107         1                  1   \n996            HL Bottom Bracket       BB-9108         1                  1   \n997           Road-750 Black, 44    BK-R19B-44         1                  1   \n998           Road-750 Black, 48    BK-R19B-48         1                  1   \n999           Road-750 Black, 52    BK-R19B-52         1                  1   \n\n           Color  SafetyStockLevel  ReorderPoint  StandardCost  ListPrice  \\\nProductID                                                                   \n1            NaN              1000           750        0.0000       0.00   \n2            NaN              1000           750        0.0000       0.00   \n3            NaN               800           600        0.0000       0.00   \n4            NaN               800           600        0.0000       0.00   \n316          NaN               800           600        0.0000       0.00   \n...          ...               ...           ...           ...        ...   \n995          NaN               500           375       44.9506     101.24   \n996          NaN               500           375       53.9416     121.49   \n997        Black               100            75      343.6496     539.99   \n998        Black               100            75      343.6496     539.99   \n999        Black               100            75      343.6496     539.99   \n\n          Size  ... ProductLine Class  Style  ProductSubcategoryID  \\\nProductID       ...                                                  \n1          NaN  ...         NaN   NaN    NaN                   NaN   \n2          NaN  ...         NaN   NaN    NaN                   NaN   \n3          NaN  ...         NaN   NaN    NaN                   NaN   \n4          NaN  ...         NaN   NaN    NaN                   NaN   \n316        NaN  ...         NaN   NaN    NaN                   NaN   \n...        ...  ...         ...   ...    ...                   ...   \n995        NaN  ...         NaN    M     NaN                   5.0   \n996        NaN  ...         NaN    H     NaN                   5.0   \n997         44  ...          R     L      U                    2.0   \n998         48  ...          R     L      U                    2.0   \n999         52  ...          R     L      U                    2.0   \n\n          ProductModelID        SellStartDate SellEndDate  DiscontinuedDate  \\\nProductID                                                                     \n1                    NaN  2008-04-30 00:00:00         NaN               NaN   \n2                    NaN  2008-04-30 00:00:00         NaN               NaN   \n3                    NaN  2008-04-30 00:00:00         NaN               NaN   \n4                    NaN  2008-04-30 00:00:00         NaN               NaN   \n316                  NaN  2008-04-30 00:00:00         NaN               NaN   \n...                  ...                  ...         ...               ...   \n995                 96.0  2013-05-30 00:00:00         NaN               NaN   \n996                 97.0  2013-05-30 00:00:00         NaN               NaN   \n997                 31.0  2013-05-30 00:00:00         NaN               NaN   \n998                 31.0  2013-05-30 00:00:00         NaN               NaN   \n999                 31.0  2013-05-30 00:00:00         NaN               NaN   \n\n                                          rowguid  \\\nProductID                                           \n1          {694215B7-08F7-4C0D-ACB1-D734BA44C0C8}   \n2          {58AE3C20-4F3A-4749-A7D4-D568806CC537}   \n3          {9C21AED2-5BFA-4F18-BCB8-F11638DC2E4E}   \n4          {ECFED6CB-51FF-49B5-B06C-7D8AC834DB8B}   \n316        {E73E9750-603B-4131-89F5-3DD15ED5FF80}   \n...                                           ...   \n995        {71AB847F-D091-42D6-B735-7B0C2D82FC84}   \n996        {230C47C5-08B2-4CE3-B706-69C0BDD62965}   \n997        {44CE4802-409F-43AB-9B27-CA53421805BE}   \n998        {3DE9A212-1D49-40B6-B10A-F564D981DBDE}   \n999        {AE638923-2B67-4679-B90E-ABBAB17DCA31}   \n\n                            ModifiedDate  \nProductID                                 \n1          2014-02-08 10:01:36.827000000  \n2          2014-02-08 10:01:36.827000000  \n3          2014-02-08 10:01:36.827000000  \n4          2014-02-08 10:01:36.827000000  \n316        2014-02-08 10:01:36.827000000  \n...                                  ...  \n995        2014-02-08 10:01:36.827000000  \n996        2014-02-08 10:01:36.827000000  \n997        2014-02-08 10:01:36.827000000  \n998        2014-02-08 10:01:36.827000000  \n999        2014-02-08 10:01:36.827000000  \n\n[504 rows x 24 columns]"
     },
     "execution_count": 179,
     "metadata": {},
     "output_type": "execute_result"
    }
   ],
   "source": [
    "# And our index has also inherited the name of our 'ProductID' column\n",
    "prod.set_index(\"ProductID\", inplace=True)\n",
    "prod"
   ]
  },
  {
   "cell_type": "code",
   "execution_count": null,
   "metadata": {},
   "outputs": [],
   "source": []
  },
  {
   "cell_type": "code",
   "execution_count": null,
   "metadata": {},
   "outputs": [],
   "source": []
  },
  {
   "cell_type": "code",
   "execution_count": null,
   "metadata": {},
   "outputs": [],
   "source": []
  },
  {
   "cell_type": "code",
   "execution_count": null,
   "metadata": {},
   "outputs": [],
   "source": []
  },
  {
   "cell_type": "code",
   "execution_count": null,
   "metadata": {},
   "outputs": [],
   "source": []
  },
  {
   "cell_type": "code",
   "execution_count": null,
   "metadata": {},
   "outputs": [],
   "source": []
  },
  {
   "cell_type": "code",
   "execution_count": null,
   "metadata": {},
   "outputs": [],
   "source": []
  },
  {
   "cell_type": "markdown",
   "metadata": {},
   "source": [
    "## Column headers and datatypes"
   ]
  },
  {
   "cell_type": "code",
   "execution_count": 180,
   "metadata": {},
   "outputs": [
    {
     "data": {
      "text/plain": "Index(['Name', 'ProductNumber', 'MakeFlag', 'FinishedGoodsFlag', 'Color',\n       'SafetyStockLevel', 'ReorderPoint', 'StandardCost', 'ListPrice', 'Size',\n       'SizeUnitMeasureCode', 'WeightUnitMeasureCode', 'Weight',\n       'DaysToManufacture', 'ProductLine', 'Class', 'Style',\n       'ProductSubcategoryID', 'ProductModelID', 'SellStartDate',\n       'SellEndDate', 'DiscontinuedDate', 'rowguid', 'ModifiedDate'],\n      dtype='object')"
     },
     "execution_count": 180,
     "metadata": {},
     "output_type": "execute_result"
    }
   ],
   "source": [
    "# print the columns\n",
    "prod.columns"
   ]
  },
  {
   "cell_type": "code",
   "execution_count": null,
   "metadata": {},
   "outputs": [],
   "source": []
  },
  {
   "cell_type": "code",
   "execution_count": 181,
   "metadata": {},
   "outputs": [
    {
     "data": {
      "text/html": "<div>\n<style scoped>\n    .dataframe tbody tr th:only-of-type {\n        vertical-align: middle;\n    }\n\n    .dataframe tbody tr th {\n        vertical-align: top;\n    }\n\n    .dataframe thead th {\n        text-align: right;\n    }\n</style>\n<table border=\"1\" class=\"dataframe\">\n  <thead>\n    <tr style=\"text-align: right;\">\n      <th></th>\n      <th>DataType</th>\n    </tr>\n  </thead>\n  <tbody>\n    <tr>\n      <td>Name</td>\n      <td>object</td>\n    </tr>\n    <tr>\n      <td>ProductNumber</td>\n      <td>object</td>\n    </tr>\n    <tr>\n      <td>MakeFlag</td>\n      <td>int64</td>\n    </tr>\n    <tr>\n      <td>FinishedGoodsFlag</td>\n      <td>int64</td>\n    </tr>\n    <tr>\n      <td>Color</td>\n      <td>object</td>\n    </tr>\n    <tr>\n      <td>SafetyStockLevel</td>\n      <td>int64</td>\n    </tr>\n    <tr>\n      <td>ReorderPoint</td>\n      <td>int64</td>\n    </tr>\n    <tr>\n      <td>StandardCost</td>\n      <td>float64</td>\n    </tr>\n    <tr>\n      <td>ListPrice</td>\n      <td>float64</td>\n    </tr>\n    <tr>\n      <td>Size</td>\n      <td>object</td>\n    </tr>\n    <tr>\n      <td>SizeUnitMeasureCode</td>\n      <td>object</td>\n    </tr>\n    <tr>\n      <td>WeightUnitMeasureCode</td>\n      <td>object</td>\n    </tr>\n    <tr>\n      <td>Weight</td>\n      <td>float64</td>\n    </tr>\n    <tr>\n      <td>DaysToManufacture</td>\n      <td>int64</td>\n    </tr>\n    <tr>\n      <td>ProductLine</td>\n      <td>object</td>\n    </tr>\n    <tr>\n      <td>Class</td>\n      <td>object</td>\n    </tr>\n    <tr>\n      <td>Style</td>\n      <td>object</td>\n    </tr>\n    <tr>\n      <td>ProductSubcategoryID</td>\n      <td>float64</td>\n    </tr>\n    <tr>\n      <td>ProductModelID</td>\n      <td>float64</td>\n    </tr>\n    <tr>\n      <td>SellStartDate</td>\n      <td>object</td>\n    </tr>\n    <tr>\n      <td>SellEndDate</td>\n      <td>object</td>\n    </tr>\n    <tr>\n      <td>DiscontinuedDate</td>\n      <td>float64</td>\n    </tr>\n    <tr>\n      <td>rowguid</td>\n      <td>object</td>\n    </tr>\n    <tr>\n      <td>ModifiedDate</td>\n      <td>object</td>\n    </tr>\n  </tbody>\n</table>\n</div>",
      "text/plain": "                      DataType\nName                    object\nProductNumber           object\nMakeFlag                 int64\nFinishedGoodsFlag        int64\nColor                   object\nSafetyStockLevel         int64\nReorderPoint             int64\nStandardCost           float64\nListPrice              float64\nSize                    object\nSizeUnitMeasureCode     object\nWeightUnitMeasureCode   object\nWeight                 float64\nDaysToManufacture        int64\nProductLine             object\nClass                   object\nStyle                   object\nProductSubcategoryID   float64\nProductModelID         float64\nSellStartDate           object\nSellEndDate             object\nDiscontinuedDate       float64\nrowguid                 object\nModifiedDate            object"
     },
     "execution_count": 181,
     "metadata": {},
     "output_type": "execute_result"
    }
   ],
   "source": [
    "# examine the datatypes of the columns\n",
    "# note that these were automatically inferred by pandas upon import!\n",
    "pd.DataFrame(prod.dtypes, columns=['DataType'])"
   ]
  },
  {
   "cell_type": "code",
   "execution_count": null,
   "metadata": {},
   "outputs": [],
   "source": []
  },
  {
   "cell_type": "markdown",
   "metadata": {},
   "source": [
    "**Class Question:** Why do datatypes matter? What operations could we perform on some datatypes that we could not on others? Note the importance of this in checking dataset integrity."
   ]
  },
  {
   "cell_type": "markdown",
   "metadata": {},
   "source": [
    "## Selecting a Column\n",
    "\n",
    "We can select columns in two ways. Either we treat the column as an attribute of the DataFrame or we index the DataFrame for a specific element (in this case, the element is a column name)."
   ]
  },
  {
   "cell_type": "code",
   "execution_count": 182,
   "metadata": {},
   "outputs": [
    {
     "data": {
      "text/plain": "ProductID\n1         NaN\n2         NaN\n3         NaN\n4         NaN\n316       NaN\n        ...  \n995    168.00\n996    170.00\n997     19.77\n998     20.13\n999     20.42\nName: Weight, Length: 504, dtype: float64"
     },
     "execution_count": 182,
     "metadata": {},
     "output_type": "execute_result"
    }
   ],
   "source": [
    "# show the difference in data types by using single and double square brackets\n",
    "prod[\"Weight\"] # this is an excerpt of the dataframe"
   ]
  },
  {
   "cell_type": "code",
   "execution_count": 183,
   "metadata": {},
   "outputs": [
    {
     "data": {
      "text/html": "<div>\n<style scoped>\n    .dataframe tbody tr th:only-of-type {\n        vertical-align: middle;\n    }\n\n    .dataframe tbody tr th {\n        vertical-align: top;\n    }\n\n    .dataframe thead th {\n        text-align: right;\n    }\n</style>\n<table border=\"1\" class=\"dataframe\">\n  <thead>\n    <tr style=\"text-align: right;\">\n      <th></th>\n      <th>Weight</th>\n    </tr>\n    <tr>\n      <th>ProductID</th>\n      <th></th>\n    </tr>\n  </thead>\n  <tbody>\n    <tr>\n      <td>1</td>\n      <td>NaN</td>\n    </tr>\n    <tr>\n      <td>2</td>\n      <td>NaN</td>\n    </tr>\n    <tr>\n      <td>3</td>\n      <td>NaN</td>\n    </tr>\n    <tr>\n      <td>4</td>\n      <td>NaN</td>\n    </tr>\n    <tr>\n      <td>316</td>\n      <td>NaN</td>\n    </tr>\n    <tr>\n      <td>...</td>\n      <td>...</td>\n    </tr>\n    <tr>\n      <td>995</td>\n      <td>168.00</td>\n    </tr>\n    <tr>\n      <td>996</td>\n      <td>170.00</td>\n    </tr>\n    <tr>\n      <td>997</td>\n      <td>19.77</td>\n    </tr>\n    <tr>\n      <td>998</td>\n      <td>20.13</td>\n    </tr>\n    <tr>\n      <td>999</td>\n      <td>20.42</td>\n    </tr>\n  </tbody>\n</table>\n<p>504 rows × 1 columns</p>\n</div>",
      "text/plain": "           Weight\nProductID        \n1             NaN\n2             NaN\n3             NaN\n4             NaN\n316           NaN\n...           ...\n995        168.00\n996        170.00\n997         19.77\n998         20.13\n999         20.42\n\n[504 rows x 1 columns]"
     },
     "execution_count": 183,
     "metadata": {},
     "output_type": "execute_result"
    }
   ],
   "source": [
    "prod[[\"Weight\"]] # this creates a NEW dataframe"
   ]
  },
  {
   "cell_type": "code",
   "execution_count": 184,
   "metadata": {},
   "outputs": [
    {
     "data": {
      "text/html": "<div>\n<style scoped>\n    .dataframe tbody tr th:only-of-type {\n        vertical-align: middle;\n    }\n\n    .dataframe tbody tr th {\n        vertical-align: top;\n    }\n\n    .dataframe thead th {\n        text-align: right;\n    }\n</style>\n<table border=\"1\" class=\"dataframe\">\n  <thead>\n    <tr style=\"text-align: right;\">\n      <th></th>\n      <th>Weight</th>\n      <th>ListPrice</th>\n      <th>Color</th>\n    </tr>\n    <tr>\n      <th>ProductID</th>\n      <th></th>\n      <th></th>\n      <th></th>\n    </tr>\n  </thead>\n  <tbody>\n    <tr>\n      <td>1</td>\n      <td>NaN</td>\n      <td>0.00</td>\n      <td>NaN</td>\n    </tr>\n    <tr>\n      <td>2</td>\n      <td>NaN</td>\n      <td>0.00</td>\n      <td>NaN</td>\n    </tr>\n    <tr>\n      <td>3</td>\n      <td>NaN</td>\n      <td>0.00</td>\n      <td>NaN</td>\n    </tr>\n    <tr>\n      <td>4</td>\n      <td>NaN</td>\n      <td>0.00</td>\n      <td>NaN</td>\n    </tr>\n    <tr>\n      <td>316</td>\n      <td>NaN</td>\n      <td>0.00</td>\n      <td>NaN</td>\n    </tr>\n    <tr>\n      <td>...</td>\n      <td>...</td>\n      <td>...</td>\n      <td>...</td>\n    </tr>\n    <tr>\n      <td>995</td>\n      <td>168.00</td>\n      <td>101.24</td>\n      <td>NaN</td>\n    </tr>\n    <tr>\n      <td>996</td>\n      <td>170.00</td>\n      <td>121.49</td>\n      <td>NaN</td>\n    </tr>\n    <tr>\n      <td>997</td>\n      <td>19.77</td>\n      <td>539.99</td>\n      <td>Black</td>\n    </tr>\n    <tr>\n      <td>998</td>\n      <td>20.13</td>\n      <td>539.99</td>\n      <td>Black</td>\n    </tr>\n    <tr>\n      <td>999</td>\n      <td>20.42</td>\n      <td>539.99</td>\n      <td>Black</td>\n    </tr>\n  </tbody>\n</table>\n<p>504 rows × 3 columns</p>\n</div>",
      "text/plain": "           Weight  ListPrice  Color\nProductID                          \n1             NaN       0.00    NaN\n2             NaN       0.00    NaN\n3             NaN       0.00    NaN\n4             NaN       0.00    NaN\n316           NaN       0.00    NaN\n...           ...        ...    ...\n995        168.00     101.24    NaN\n996        170.00     121.49    NaN\n997         19.77     539.99  Black\n998         20.13     539.99  Black\n999         20.42     539.99  Black\n\n[504 rows x 3 columns]"
     },
     "execution_count": 184,
     "metadata": {},
     "output_type": "execute_result"
    }
   ],
   "source": [
    "# this also makes a new dataframe\n",
    "prod[[\"Weight\", \"ListPrice\", \"Color\"]]"
   ]
  },
  {
   "cell_type": "code",
   "execution_count": null,
   "metadata": {},
   "outputs": [],
   "source": []
  },
  {
   "cell_type": "code",
   "execution_count": null,
   "metadata": {},
   "outputs": [],
   "source": []
  },
  {
   "cell_type": "code",
   "execution_count": 185,
   "metadata": {},
   "outputs": [],
   "source": [
    "# select the Name column only, returned as a Series object"
   ]
  },
  {
   "cell_type": "code",
   "execution_count": 186,
   "metadata": {},
   "outputs": [],
   "source": [
    "# select the Name column only, returned as a DataFrame object"
   ]
  },
  {
   "cell_type": "code",
   "execution_count": 187,
   "metadata": {},
   "outputs": [],
   "source": [
    "# selecting > 1 column (must use double brackets!)"
   ]
  },
  {
   "cell_type": "markdown",
   "metadata": {},
   "source": [
    "**Class Question:** What if we wanted to select a column that has a space in it? Which method from the above two would we use? Why?"
   ]
  },
  {
   "cell_type": "markdown",
   "metadata": {},
   "source": [
    "## Renaming Columns\n",
    "\n",
    "Perhaps we want to rename our columns. There are a few options for doing this.\n",
    "\n",
    "Renaming **specific** columns by using a dictionary:"
   ]
  },
  {
   "cell_type": "code",
   "execution_count": 188,
   "metadata": {},
   "outputs": [
    {
     "data": {
      "text/html": "<div>\n<style scoped>\n    .dataframe tbody tr th:only-of-type {\n        vertical-align: middle;\n    }\n\n    .dataframe tbody tr th {\n        vertical-align: top;\n    }\n\n    .dataframe thead th {\n        text-align: right;\n    }\n</style>\n<table border=\"1\" class=\"dataframe\">\n  <thead>\n    <tr style=\"text-align: right;\">\n      <th></th>\n      <th>Name</th>\n      <th>ProductNumber</th>\n      <th>MakeFlag</th>\n      <th>FinishedGoodsFlag</th>\n      <th>Color</th>\n      <th>SafetyStockLevel</th>\n      <th>ReorderPoint</th>\n      <th>StandardCost</th>\n      <th>ListPrice</th>\n      <th>Size</th>\n      <th>...</th>\n      <th>ProductLine</th>\n      <th>Class</th>\n      <th>Style</th>\n      <th>ProductSubcategoryID</th>\n      <th>ProductModelID</th>\n      <th>SellStartDate</th>\n      <th>SellEndDate</th>\n      <th>DiscontinuedDate</th>\n      <th>rowguid</th>\n      <th>ModifiedDate</th>\n    </tr>\n    <tr>\n      <th>ProductID</th>\n      <th></th>\n      <th></th>\n      <th></th>\n      <th></th>\n      <th></th>\n      <th></th>\n      <th></th>\n      <th></th>\n      <th></th>\n      <th></th>\n      <th></th>\n      <th></th>\n      <th></th>\n      <th></th>\n      <th></th>\n      <th></th>\n      <th></th>\n      <th></th>\n      <th></th>\n      <th></th>\n      <th></th>\n    </tr>\n  </thead>\n  <tbody>\n    <tr>\n      <td>1</td>\n      <td>Adjustable Race</td>\n      <td>AR-5381</td>\n      <td>0</td>\n      <td>0</td>\n      <td>NaN</td>\n      <td>1000</td>\n      <td>750</td>\n      <td>0.0000</td>\n      <td>0.00</td>\n      <td>NaN</td>\n      <td>...</td>\n      <td>NaN</td>\n      <td>NaN</td>\n      <td>NaN</td>\n      <td>NaN</td>\n      <td>NaN</td>\n      <td>2008-04-30 00:00:00</td>\n      <td>NaN</td>\n      <td>NaN</td>\n      <td>{694215B7-08F7-4C0D-ACB1-D734BA44C0C8}</td>\n      <td>2014-02-08 10:01:36.827000000</td>\n    </tr>\n    <tr>\n      <td>2</td>\n      <td>Bearing Ball</td>\n      <td>BA-8327</td>\n      <td>0</td>\n      <td>0</td>\n      <td>NaN</td>\n      <td>1000</td>\n      <td>750</td>\n      <td>0.0000</td>\n      <td>0.00</td>\n      <td>NaN</td>\n      <td>...</td>\n      <td>NaN</td>\n      <td>NaN</td>\n      <td>NaN</td>\n      <td>NaN</td>\n      <td>NaN</td>\n      <td>2008-04-30 00:00:00</td>\n      <td>NaN</td>\n      <td>NaN</td>\n      <td>{58AE3C20-4F3A-4749-A7D4-D568806CC537}</td>\n      <td>2014-02-08 10:01:36.827000000</td>\n    </tr>\n    <tr>\n      <td>3</td>\n      <td>BB Ball Bearing</td>\n      <td>BE-2349</td>\n      <td>1</td>\n      <td>0</td>\n      <td>NaN</td>\n      <td>800</td>\n      <td>600</td>\n      <td>0.0000</td>\n      <td>0.00</td>\n      <td>NaN</td>\n      <td>...</td>\n      <td>NaN</td>\n      <td>NaN</td>\n      <td>NaN</td>\n      <td>NaN</td>\n      <td>NaN</td>\n      <td>2008-04-30 00:00:00</td>\n      <td>NaN</td>\n      <td>NaN</td>\n      <td>{9C21AED2-5BFA-4F18-BCB8-F11638DC2E4E}</td>\n      <td>2014-02-08 10:01:36.827000000</td>\n    </tr>\n    <tr>\n      <td>4</td>\n      <td>Headset Ball Bearings</td>\n      <td>BE-2908</td>\n      <td>0</td>\n      <td>0</td>\n      <td>NaN</td>\n      <td>800</td>\n      <td>600</td>\n      <td>0.0000</td>\n      <td>0.00</td>\n      <td>NaN</td>\n      <td>...</td>\n      <td>NaN</td>\n      <td>NaN</td>\n      <td>NaN</td>\n      <td>NaN</td>\n      <td>NaN</td>\n      <td>2008-04-30 00:00:00</td>\n      <td>NaN</td>\n      <td>NaN</td>\n      <td>{ECFED6CB-51FF-49B5-B06C-7D8AC834DB8B}</td>\n      <td>2014-02-08 10:01:36.827000000</td>\n    </tr>\n    <tr>\n      <td>316</td>\n      <td>Blade</td>\n      <td>BL-2036</td>\n      <td>1</td>\n      <td>0</td>\n      <td>NaN</td>\n      <td>800</td>\n      <td>600</td>\n      <td>0.0000</td>\n      <td>0.00</td>\n      <td>NaN</td>\n      <td>...</td>\n      <td>NaN</td>\n      <td>NaN</td>\n      <td>NaN</td>\n      <td>NaN</td>\n      <td>NaN</td>\n      <td>2008-04-30 00:00:00</td>\n      <td>NaN</td>\n      <td>NaN</td>\n      <td>{E73E9750-603B-4131-89F5-3DD15ED5FF80}</td>\n      <td>2014-02-08 10:01:36.827000000</td>\n    </tr>\n    <tr>\n      <td>...</td>\n      <td>...</td>\n      <td>...</td>\n      <td>...</td>\n      <td>...</td>\n      <td>...</td>\n      <td>...</td>\n      <td>...</td>\n      <td>...</td>\n      <td>...</td>\n      <td>...</td>\n      <td>...</td>\n      <td>...</td>\n      <td>...</td>\n      <td>...</td>\n      <td>...</td>\n      <td>...</td>\n      <td>...</td>\n      <td>...</td>\n      <td>...</td>\n      <td>...</td>\n      <td>...</td>\n    </tr>\n    <tr>\n      <td>995</td>\n      <td>ML Bottom Bracket</td>\n      <td>BB-8107</td>\n      <td>1</td>\n      <td>1</td>\n      <td>NaN</td>\n      <td>500</td>\n      <td>375</td>\n      <td>44.9506</td>\n      <td>101.24</td>\n      <td>NaN</td>\n      <td>...</td>\n      <td>NaN</td>\n      <td>M</td>\n      <td>NaN</td>\n      <td>5.0</td>\n      <td>96.0</td>\n      <td>2013-05-30 00:00:00</td>\n      <td>NaN</td>\n      <td>NaN</td>\n      <td>{71AB847F-D091-42D6-B735-7B0C2D82FC84}</td>\n      <td>2014-02-08 10:01:36.827000000</td>\n    </tr>\n    <tr>\n      <td>996</td>\n      <td>HL Bottom Bracket</td>\n      <td>BB-9108</td>\n      <td>1</td>\n      <td>1</td>\n      <td>NaN</td>\n      <td>500</td>\n      <td>375</td>\n      <td>53.9416</td>\n      <td>121.49</td>\n      <td>NaN</td>\n      <td>...</td>\n      <td>NaN</td>\n      <td>H</td>\n      <td>NaN</td>\n      <td>5.0</td>\n      <td>97.0</td>\n      <td>2013-05-30 00:00:00</td>\n      <td>NaN</td>\n      <td>NaN</td>\n      <td>{230C47C5-08B2-4CE3-B706-69C0BDD62965}</td>\n      <td>2014-02-08 10:01:36.827000000</td>\n    </tr>\n    <tr>\n      <td>997</td>\n      <td>Road-750 Black, 44</td>\n      <td>BK-R19B-44</td>\n      <td>1</td>\n      <td>1</td>\n      <td>Black</td>\n      <td>100</td>\n      <td>75</td>\n      <td>343.6496</td>\n      <td>539.99</td>\n      <td>44</td>\n      <td>...</td>\n      <td>R</td>\n      <td>L</td>\n      <td>U</td>\n      <td>2.0</td>\n      <td>31.0</td>\n      <td>2013-05-30 00:00:00</td>\n      <td>NaN</td>\n      <td>NaN</td>\n      <td>{44CE4802-409F-43AB-9B27-CA53421805BE}</td>\n      <td>2014-02-08 10:01:36.827000000</td>\n    </tr>\n    <tr>\n      <td>998</td>\n      <td>Road-750 Black, 48</td>\n      <td>BK-R19B-48</td>\n      <td>1</td>\n      <td>1</td>\n      <td>Black</td>\n      <td>100</td>\n      <td>75</td>\n      <td>343.6496</td>\n      <td>539.99</td>\n      <td>48</td>\n      <td>...</td>\n      <td>R</td>\n      <td>L</td>\n      <td>U</td>\n      <td>2.0</td>\n      <td>31.0</td>\n      <td>2013-05-30 00:00:00</td>\n      <td>NaN</td>\n      <td>NaN</td>\n      <td>{3DE9A212-1D49-40B6-B10A-F564D981DBDE}</td>\n      <td>2014-02-08 10:01:36.827000000</td>\n    </tr>\n    <tr>\n      <td>999</td>\n      <td>Road-750 Black, 52</td>\n      <td>BK-R19B-52</td>\n      <td>1</td>\n      <td>1</td>\n      <td>Black</td>\n      <td>100</td>\n      <td>75</td>\n      <td>343.6496</td>\n      <td>539.99</td>\n      <td>52</td>\n      <td>...</td>\n      <td>R</td>\n      <td>L</td>\n      <td>U</td>\n      <td>2.0</td>\n      <td>31.0</td>\n      <td>2013-05-30 00:00:00</td>\n      <td>NaN</td>\n      <td>NaN</td>\n      <td>{AE638923-2B67-4679-B90E-ABBAB17DCA31}</td>\n      <td>2014-02-08 10:01:36.827000000</td>\n    </tr>\n  </tbody>\n</table>\n<p>504 rows × 24 columns</p>\n</div>",
      "text/plain": "                            Name ProductNumber  MakeFlag  FinishedGoodsFlag  \\\nProductID                                                                     \n1                Adjustable Race       AR-5381         0                  0   \n2                   Bearing Ball       BA-8327         0                  0   \n3                BB Ball Bearing       BE-2349         1                  0   \n4          Headset Ball Bearings       BE-2908         0                  0   \n316                        Blade       BL-2036         1                  0   \n...                          ...           ...       ...                ...   \n995            ML Bottom Bracket       BB-8107         1                  1   \n996            HL Bottom Bracket       BB-9108         1                  1   \n997           Road-750 Black, 44    BK-R19B-44         1                  1   \n998           Road-750 Black, 48    BK-R19B-48         1                  1   \n999           Road-750 Black, 52    BK-R19B-52         1                  1   \n\n           Color  SafetyStockLevel  ReorderPoint  StandardCost  ListPrice  \\\nProductID                                                                   \n1            NaN              1000           750        0.0000       0.00   \n2            NaN              1000           750        0.0000       0.00   \n3            NaN               800           600        0.0000       0.00   \n4            NaN               800           600        0.0000       0.00   \n316          NaN               800           600        0.0000       0.00   \n...          ...               ...           ...           ...        ...   \n995          NaN               500           375       44.9506     101.24   \n996          NaN               500           375       53.9416     121.49   \n997        Black               100            75      343.6496     539.99   \n998        Black               100            75      343.6496     539.99   \n999        Black               100            75      343.6496     539.99   \n\n          Size  ... ProductLine Class  Style  ProductSubcategoryID  \\\nProductID       ...                                                  \n1          NaN  ...         NaN   NaN    NaN                   NaN   \n2          NaN  ...         NaN   NaN    NaN                   NaN   \n3          NaN  ...         NaN   NaN    NaN                   NaN   \n4          NaN  ...         NaN   NaN    NaN                   NaN   \n316        NaN  ...         NaN   NaN    NaN                   NaN   \n...        ...  ...         ...   ...    ...                   ...   \n995        NaN  ...         NaN    M     NaN                   5.0   \n996        NaN  ...         NaN    H     NaN                   5.0   \n997         44  ...          R     L      U                    2.0   \n998         48  ...          R     L      U                    2.0   \n999         52  ...          R     L      U                    2.0   \n\n          ProductModelID        SellStartDate SellEndDate  DiscontinuedDate  \\\nProductID                                                                     \n1                    NaN  2008-04-30 00:00:00         NaN               NaN   \n2                    NaN  2008-04-30 00:00:00         NaN               NaN   \n3                    NaN  2008-04-30 00:00:00         NaN               NaN   \n4                    NaN  2008-04-30 00:00:00         NaN               NaN   \n316                  NaN  2008-04-30 00:00:00         NaN               NaN   \n...                  ...                  ...         ...               ...   \n995                 96.0  2013-05-30 00:00:00         NaN               NaN   \n996                 97.0  2013-05-30 00:00:00         NaN               NaN   \n997                 31.0  2013-05-30 00:00:00         NaN               NaN   \n998                 31.0  2013-05-30 00:00:00         NaN               NaN   \n999                 31.0  2013-05-30 00:00:00         NaN               NaN   \n\n                                          rowguid  \\\nProductID                                           \n1          {694215B7-08F7-4C0D-ACB1-D734BA44C0C8}   \n2          {58AE3C20-4F3A-4749-A7D4-D568806CC537}   \n3          {9C21AED2-5BFA-4F18-BCB8-F11638DC2E4E}   \n4          {ECFED6CB-51FF-49B5-B06C-7D8AC834DB8B}   \n316        {E73E9750-603B-4131-89F5-3DD15ED5FF80}   \n...                                           ...   \n995        {71AB847F-D091-42D6-B735-7B0C2D82FC84}   \n996        {230C47C5-08B2-4CE3-B706-69C0BDD62965}   \n997        {44CE4802-409F-43AB-9B27-CA53421805BE}   \n998        {3DE9A212-1D49-40B6-B10A-F564D981DBDE}   \n999        {AE638923-2B67-4679-B90E-ABBAB17DCA31}   \n\n                            ModifiedDate  \nProductID                                 \n1          2014-02-08 10:01:36.827000000  \n2          2014-02-08 10:01:36.827000000  \n3          2014-02-08 10:01:36.827000000  \n4          2014-02-08 10:01:36.827000000  \n316        2014-02-08 10:01:36.827000000  \n...                                  ...  \n995        2014-02-08 10:01:36.827000000  \n996        2014-02-08 10:01:36.827000000  \n997        2014-02-08 10:01:36.827000000  \n998        2014-02-08 10:01:36.827000000  \n999        2014-02-08 10:01:36.827000000  \n\n[504 rows x 24 columns]"
     },
     "execution_count": 188,
     "metadata": {},
     "output_type": "execute_result"
    }
   ],
   "source": [
    "# rename one or more columns with a dictionary. Note: inplace=False will return a new dataframe,\n",
    "# but leave the original dataframe untouched. Change this to True to modify the original dataframe.\n",
    "\n",
    "#prod.rename(columns={\"Name\":\"ProductName\"}, inplace=True)\n",
    "prod"
   ]
  },
  {
   "cell_type": "code",
   "execution_count": 189,
   "metadata": {},
   "outputs": [
    {
     "data": {
      "text/html": "<div>\n<style scoped>\n    .dataframe tbody tr th:only-of-type {\n        vertical-align: middle;\n    }\n\n    .dataframe tbody tr th {\n        vertical-align: top;\n    }\n\n    .dataframe thead th {\n        text-align: right;\n    }\n</style>\n<table border=\"1\" class=\"dataframe\">\n  <thead>\n    <tr style=\"text-align: right;\">\n      <th></th>\n      <th>Name</th>\n      <th>ProductNumber</th>\n      <th>MakeFlag</th>\n      <th>FinishedGoodsFlag</th>\n      <th>Color</th>\n      <th>SafetyStockLevel</th>\n      <th>ReorderPoint</th>\n      <th>StandardCost</th>\n      <th>ListPrice</th>\n      <th>Size</th>\n      <th>...</th>\n      <th>ProductLine</th>\n      <th>Class</th>\n      <th>Style</th>\n      <th>ProductSubcategoryID</th>\n      <th>ProductModelID</th>\n      <th>SellStartDate</th>\n      <th>SellEndDate</th>\n      <th>DiscontinuedDate</th>\n      <th>rowguid</th>\n      <th>ModifiedDate</th>\n    </tr>\n    <tr>\n      <th>ProductID</th>\n      <th></th>\n      <th></th>\n      <th></th>\n      <th></th>\n      <th></th>\n      <th></th>\n      <th></th>\n      <th></th>\n      <th></th>\n      <th></th>\n      <th></th>\n      <th></th>\n      <th></th>\n      <th></th>\n      <th></th>\n      <th></th>\n      <th></th>\n      <th></th>\n      <th></th>\n      <th></th>\n      <th></th>\n    </tr>\n  </thead>\n  <tbody>\n    <tr>\n      <td>1</td>\n      <td>Adjustable Race</td>\n      <td>AR-5381</td>\n      <td>0</td>\n      <td>0</td>\n      <td>NaN</td>\n      <td>1000</td>\n      <td>750</td>\n      <td>0.0000</td>\n      <td>0.00</td>\n      <td>NaN</td>\n      <td>...</td>\n      <td>NaN</td>\n      <td>NaN</td>\n      <td>NaN</td>\n      <td>NaN</td>\n      <td>NaN</td>\n      <td>2008-04-30 00:00:00</td>\n      <td>NaN</td>\n      <td>NaN</td>\n      <td>{694215B7-08F7-4C0D-ACB1-D734BA44C0C8}</td>\n      <td>2014-02-08 10:01:36.827000000</td>\n    </tr>\n    <tr>\n      <td>2</td>\n      <td>Bearing Ball</td>\n      <td>BA-8327</td>\n      <td>0</td>\n      <td>0</td>\n      <td>NaN</td>\n      <td>1000</td>\n      <td>750</td>\n      <td>0.0000</td>\n      <td>0.00</td>\n      <td>NaN</td>\n      <td>...</td>\n      <td>NaN</td>\n      <td>NaN</td>\n      <td>NaN</td>\n      <td>NaN</td>\n      <td>NaN</td>\n      <td>2008-04-30 00:00:00</td>\n      <td>NaN</td>\n      <td>NaN</td>\n      <td>{58AE3C20-4F3A-4749-A7D4-D568806CC537}</td>\n      <td>2014-02-08 10:01:36.827000000</td>\n    </tr>\n    <tr>\n      <td>3</td>\n      <td>BB Ball Bearing</td>\n      <td>BE-2349</td>\n      <td>1</td>\n      <td>0</td>\n      <td>NaN</td>\n      <td>800</td>\n      <td>600</td>\n      <td>0.0000</td>\n      <td>0.00</td>\n      <td>NaN</td>\n      <td>...</td>\n      <td>NaN</td>\n      <td>NaN</td>\n      <td>NaN</td>\n      <td>NaN</td>\n      <td>NaN</td>\n      <td>2008-04-30 00:00:00</td>\n      <td>NaN</td>\n      <td>NaN</td>\n      <td>{9C21AED2-5BFA-4F18-BCB8-F11638DC2E4E}</td>\n      <td>2014-02-08 10:01:36.827000000</td>\n    </tr>\n    <tr>\n      <td>4</td>\n      <td>Headset Ball Bearings</td>\n      <td>BE-2908</td>\n      <td>0</td>\n      <td>0</td>\n      <td>NaN</td>\n      <td>800</td>\n      <td>600</td>\n      <td>0.0000</td>\n      <td>0.00</td>\n      <td>NaN</td>\n      <td>...</td>\n      <td>NaN</td>\n      <td>NaN</td>\n      <td>NaN</td>\n      <td>NaN</td>\n      <td>NaN</td>\n      <td>2008-04-30 00:00:00</td>\n      <td>NaN</td>\n      <td>NaN</td>\n      <td>{ECFED6CB-51FF-49B5-B06C-7D8AC834DB8B}</td>\n      <td>2014-02-08 10:01:36.827000000</td>\n    </tr>\n    <tr>\n      <td>316</td>\n      <td>Blade</td>\n      <td>BL-2036</td>\n      <td>1</td>\n      <td>0</td>\n      <td>NaN</td>\n      <td>800</td>\n      <td>600</td>\n      <td>0.0000</td>\n      <td>0.00</td>\n      <td>NaN</td>\n      <td>...</td>\n      <td>NaN</td>\n      <td>NaN</td>\n      <td>NaN</td>\n      <td>NaN</td>\n      <td>NaN</td>\n      <td>2008-04-30 00:00:00</td>\n      <td>NaN</td>\n      <td>NaN</td>\n      <td>{E73E9750-603B-4131-89F5-3DD15ED5FF80}</td>\n      <td>2014-02-08 10:01:36.827000000</td>\n    </tr>\n    <tr>\n      <td>...</td>\n      <td>...</td>\n      <td>...</td>\n      <td>...</td>\n      <td>...</td>\n      <td>...</td>\n      <td>...</td>\n      <td>...</td>\n      <td>...</td>\n      <td>...</td>\n      <td>...</td>\n      <td>...</td>\n      <td>...</td>\n      <td>...</td>\n      <td>...</td>\n      <td>...</td>\n      <td>...</td>\n      <td>...</td>\n      <td>...</td>\n      <td>...</td>\n      <td>...</td>\n      <td>...</td>\n    </tr>\n    <tr>\n      <td>995</td>\n      <td>ML Bottom Bracket</td>\n      <td>BB-8107</td>\n      <td>1</td>\n      <td>1</td>\n      <td>NaN</td>\n      <td>500</td>\n      <td>375</td>\n      <td>44.9506</td>\n      <td>101.24</td>\n      <td>NaN</td>\n      <td>...</td>\n      <td>NaN</td>\n      <td>M</td>\n      <td>NaN</td>\n      <td>5.0</td>\n      <td>96.0</td>\n      <td>2013-05-30 00:00:00</td>\n      <td>NaN</td>\n      <td>NaN</td>\n      <td>{71AB847F-D091-42D6-B735-7B0C2D82FC84}</td>\n      <td>2014-02-08 10:01:36.827000000</td>\n    </tr>\n    <tr>\n      <td>996</td>\n      <td>HL Bottom Bracket</td>\n      <td>BB-9108</td>\n      <td>1</td>\n      <td>1</td>\n      <td>NaN</td>\n      <td>500</td>\n      <td>375</td>\n      <td>53.9416</td>\n      <td>121.49</td>\n      <td>NaN</td>\n      <td>...</td>\n      <td>NaN</td>\n      <td>H</td>\n      <td>NaN</td>\n      <td>5.0</td>\n      <td>97.0</td>\n      <td>2013-05-30 00:00:00</td>\n      <td>NaN</td>\n      <td>NaN</td>\n      <td>{230C47C5-08B2-4CE3-B706-69C0BDD62965}</td>\n      <td>2014-02-08 10:01:36.827000000</td>\n    </tr>\n    <tr>\n      <td>997</td>\n      <td>Road-750 Black, 44</td>\n      <td>BK-R19B-44</td>\n      <td>1</td>\n      <td>1</td>\n      <td>Black</td>\n      <td>100</td>\n      <td>75</td>\n      <td>343.6496</td>\n      <td>539.99</td>\n      <td>44</td>\n      <td>...</td>\n      <td>R</td>\n      <td>L</td>\n      <td>U</td>\n      <td>2.0</td>\n      <td>31.0</td>\n      <td>2013-05-30 00:00:00</td>\n      <td>NaN</td>\n      <td>NaN</td>\n      <td>{44CE4802-409F-43AB-9B27-CA53421805BE}</td>\n      <td>2014-02-08 10:01:36.827000000</td>\n    </tr>\n    <tr>\n      <td>998</td>\n      <td>Road-750 Black, 48</td>\n      <td>BK-R19B-48</td>\n      <td>1</td>\n      <td>1</td>\n      <td>Black</td>\n      <td>100</td>\n      <td>75</td>\n      <td>343.6496</td>\n      <td>539.99</td>\n      <td>48</td>\n      <td>...</td>\n      <td>R</td>\n      <td>L</td>\n      <td>U</td>\n      <td>2.0</td>\n      <td>31.0</td>\n      <td>2013-05-30 00:00:00</td>\n      <td>NaN</td>\n      <td>NaN</td>\n      <td>{3DE9A212-1D49-40B6-B10A-F564D981DBDE}</td>\n      <td>2014-02-08 10:01:36.827000000</td>\n    </tr>\n    <tr>\n      <td>999</td>\n      <td>Road-750 Black, 52</td>\n      <td>BK-R19B-52</td>\n      <td>1</td>\n      <td>1</td>\n      <td>Black</td>\n      <td>100</td>\n      <td>75</td>\n      <td>343.6496</td>\n      <td>539.99</td>\n      <td>52</td>\n      <td>...</td>\n      <td>R</td>\n      <td>L</td>\n      <td>U</td>\n      <td>2.0</td>\n      <td>31.0</td>\n      <td>2013-05-30 00:00:00</td>\n      <td>NaN</td>\n      <td>NaN</td>\n      <td>{AE638923-2B67-4679-B90E-ABBAB17DCA31}</td>\n      <td>2014-02-08 10:01:36.827000000</td>\n    </tr>\n  </tbody>\n</table>\n<p>504 rows × 24 columns</p>\n</div>",
      "text/plain": "                            Name ProductNumber  MakeFlag  FinishedGoodsFlag  \\\nProductID                                                                     \n1                Adjustable Race       AR-5381         0                  0   \n2                   Bearing Ball       BA-8327         0                  0   \n3                BB Ball Bearing       BE-2349         1                  0   \n4          Headset Ball Bearings       BE-2908         0                  0   \n316                        Blade       BL-2036         1                  0   \n...                          ...           ...       ...                ...   \n995            ML Bottom Bracket       BB-8107         1                  1   \n996            HL Bottom Bracket       BB-9108         1                  1   \n997           Road-750 Black, 44    BK-R19B-44         1                  1   \n998           Road-750 Black, 48    BK-R19B-48         1                  1   \n999           Road-750 Black, 52    BK-R19B-52         1                  1   \n\n           Color  SafetyStockLevel  ReorderPoint  StandardCost  ListPrice  \\\nProductID                                                                   \n1            NaN              1000           750        0.0000       0.00   \n2            NaN              1000           750        0.0000       0.00   \n3            NaN               800           600        0.0000       0.00   \n4            NaN               800           600        0.0000       0.00   \n316          NaN               800           600        0.0000       0.00   \n...          ...               ...           ...           ...        ...   \n995          NaN               500           375       44.9506     101.24   \n996          NaN               500           375       53.9416     121.49   \n997        Black               100            75      343.6496     539.99   \n998        Black               100            75      343.6496     539.99   \n999        Black               100            75      343.6496     539.99   \n\n          Size  ... ProductLine Class  Style  ProductSubcategoryID  \\\nProductID       ...                                                  \n1          NaN  ...         NaN   NaN    NaN                   NaN   \n2          NaN  ...         NaN   NaN    NaN                   NaN   \n3          NaN  ...         NaN   NaN    NaN                   NaN   \n4          NaN  ...         NaN   NaN    NaN                   NaN   \n316        NaN  ...         NaN   NaN    NaN                   NaN   \n...        ...  ...         ...   ...    ...                   ...   \n995        NaN  ...         NaN    M     NaN                   5.0   \n996        NaN  ...         NaN    H     NaN                   5.0   \n997         44  ...          R     L      U                    2.0   \n998         48  ...          R     L      U                    2.0   \n999         52  ...          R     L      U                    2.0   \n\n          ProductModelID        SellStartDate SellEndDate  DiscontinuedDate  \\\nProductID                                                                     \n1                    NaN  2008-04-30 00:00:00         NaN               NaN   \n2                    NaN  2008-04-30 00:00:00         NaN               NaN   \n3                    NaN  2008-04-30 00:00:00         NaN               NaN   \n4                    NaN  2008-04-30 00:00:00         NaN               NaN   \n316                  NaN  2008-04-30 00:00:00         NaN               NaN   \n...                  ...                  ...         ...               ...   \n995                 96.0  2013-05-30 00:00:00         NaN               NaN   \n996                 97.0  2013-05-30 00:00:00         NaN               NaN   \n997                 31.0  2013-05-30 00:00:00         NaN               NaN   \n998                 31.0  2013-05-30 00:00:00         NaN               NaN   \n999                 31.0  2013-05-30 00:00:00         NaN               NaN   \n\n                                          rowguid  \\\nProductID                                           \n1          {694215B7-08F7-4C0D-ACB1-D734BA44C0C8}   \n2          {58AE3C20-4F3A-4749-A7D4-D568806CC537}   \n3          {9C21AED2-5BFA-4F18-BCB8-F11638DC2E4E}   \n4          {ECFED6CB-51FF-49B5-B06C-7D8AC834DB8B}   \n316        {E73E9750-603B-4131-89F5-3DD15ED5FF80}   \n...                                           ...   \n995        {71AB847F-D091-42D6-B735-7B0C2D82FC84}   \n996        {230C47C5-08B2-4CE3-B706-69C0BDD62965}   \n997        {44CE4802-409F-43AB-9B27-CA53421805BE}   \n998        {3DE9A212-1D49-40B6-B10A-F564D981DBDE}   \n999        {AE638923-2B67-4679-B90E-ABBAB17DCA31}   \n\n                            ModifiedDate  \nProductID                                 \n1          2014-02-08 10:01:36.827000000  \n2          2014-02-08 10:01:36.827000000  \n3          2014-02-08 10:01:36.827000000  \n4          2014-02-08 10:01:36.827000000  \n316        2014-02-08 10:01:36.827000000  \n...                                  ...  \n995        2014-02-08 10:01:36.827000000  \n996        2014-02-08 10:01:36.827000000  \n997        2014-02-08 10:01:36.827000000  \n998        2014-02-08 10:01:36.827000000  \n999        2014-02-08 10:01:36.827000000  \n\n[504 rows x 24 columns]"
     },
     "execution_count": 189,
     "metadata": {},
     "output_type": "execute_result"
    }
   ],
   "source": [
    "#prod.rename(columns={\"Color\":\"Product Color\",\"Size\":\"Product Size\"},inplace=True)\n",
    "prod"
   ]
  },
  {
   "cell_type": "code",
   "execution_count": null,
   "metadata": {},
   "outputs": [],
   "source": []
  },
  {
   "cell_type": "code",
   "execution_count": null,
   "metadata": {},
   "outputs": [],
   "source": []
  },
  {
   "cell_type": "code",
   "execution_count": null,
   "metadata": {},
   "outputs": [],
   "source": []
  },
  {
   "cell_type": "code",
   "execution_count": null,
   "metadata": {},
   "outputs": [],
   "source": []
  },
  {
   "cell_type": "code",
   "execution_count": null,
   "metadata": {},
   "outputs": [],
   "source": []
  },
  {
   "cell_type": "markdown",
   "metadata": {},
   "source": [
    "Renaming **ALL** columns with a new list of column names.\n",
    "\n",
    "Note that the `pd.DataFrame.columns` property can be cast to a `list` type. Originally, it's a `pd.core.indexes.base.Index` object:"
   ]
  },
  {
   "cell_type": "code",
   "execution_count": 190,
   "metadata": {},
   "outputs": [
    {
     "data": {
      "text/plain": "Index(['Name', 'ProductNumber', 'MakeFlag', 'FinishedGoodsFlag', 'Color',\n       'SafetyStockLevel', 'ReorderPoint', 'StandardCost', 'ListPrice', 'Size',\n       'SizeUnitMeasureCode', 'WeightUnitMeasureCode', 'Weight',\n       'DaysToManufacture', 'ProductLine', 'Class', 'Style',\n       'ProductSubcategoryID', 'ProductModelID', 'SellStartDate',\n       'SellEndDate', 'DiscontinuedDate', 'rowguid', 'ModifiedDate'],\n      dtype='object')"
     },
     "execution_count": 190,
     "metadata": {},
     "output_type": "execute_result"
    }
   ],
   "source": [
    "# print('My columns look like:\\n', prod.columns)\n",
    "# print('\\nAnd the type is:\\n', type(prod.columns))\n",
    "prod.columns"
   ]
  },
  {
   "cell_type": "code",
   "execution_count": 191,
   "metadata": {},
   "outputs": [],
   "source": [
    "prod.columns = ['HelloWorld', 'ProductNumber', 'MakeFlag', 'FinishedGoodsFlag',\n",
    "       'Product Color', 'SafetyStockLevel', 'ReorderPoint', 'StandardCost',\n",
    "       'ListPrice', 'Product Size', 'SizeUnitMeasureCode',\n",
    "       'WeightUnitMeasureCode', 'Weight', 'DaysToManufacture', 'ProductLine',\n",
    "       'Class', 'Style', 'ProductSubcategoryID', 'ProductModelID',\n",
    "       'SellStartDate', 'SellEndDate', 'DiscontinuedDate', 'rowguid',\n",
    "       'ModifiedDate']"
   ]
  },
  {
   "cell_type": "code",
   "execution_count": 192,
   "metadata": {},
   "outputs": [],
   "source": [
    "#prod.columns"
   ]
  },
  {
   "cell_type": "code",
   "execution_count": null,
   "metadata": {},
   "outputs": [],
   "source": []
  },
  {
   "cell_type": "markdown",
   "metadata": {},
   "source": [
    "We can explicitly cast these to a list object as such, by using the built-in `list()` function:"
   ]
  },
  {
   "cell_type": "code",
   "execution_count": 193,
   "metadata": {},
   "outputs": [],
   "source": [
    "# print('Now my columns look like:\\n', list(prod.columns))\n",
    "# print('\\nAnd are of type:\\n', type(list(prod.columns)))"
   ]
  },
  {
   "cell_type": "markdown",
   "metadata": {},
   "source": [
    "We can place these columns into a variable, `cols`:"
   ]
  },
  {
   "cell_type": "code",
   "execution_count": 194,
   "metadata": {},
   "outputs": [],
   "source": [
    "# declare a list of strings - these strings will become the new column names"
   ]
  },
  {
   "cell_type": "markdown",
   "metadata": {},
   "source": [
    "We can use list indexing to mutate the columns we want:"
   ]
  },
  {
   "cell_type": "code",
   "execution_count": 195,
   "metadata": {},
   "outputs": [],
   "source": [
    "# overwrite one of the column names using list indexing"
   ]
  },
  {
   "cell_type": "markdown",
   "metadata": {},
   "source": [
    "Finally, we can set the `pd.DataFrame.columns` property (this is a settable class property), to the new `cols` list, overwriting the existing columns header names:"
   ]
  },
  {
   "cell_type": "code",
   "execution_count": 196,
   "metadata": {},
   "outputs": [],
   "source": [
    "# Note that our first column name has changed from 'Name' to 'NewName'"
   ]
  },
  {
   "cell_type": "code",
   "execution_count": 197,
   "metadata": {},
   "outputs": [],
   "source": [
    "# display the final result of the 'NewName' column\n",
    "# prod.head(3)[['NewName']]"
   ]
  },
  {
   "cell_type": "code",
   "execution_count": 198,
   "metadata": {},
   "outputs": [],
   "source": [
    "# whenever you're using the \"=\" operator, that's changing the original table. But the method.example() way to do it is nonpermanent, and you need inplace=True"
   ]
  },
  {
   "cell_type": "markdown",
   "metadata": {},
   "source": [
    "## Common Column Operations\n",
    "\n",
    "While this is non-comprehensive, these are a few key column-specific data checks.\n"
   ]
  },
  {
   "cell_type": "markdown",
   "metadata": {},
   "source": [
    "**Descriptive statistics:**  the minimum, first quartile, median, third quartile, and maximum.\n",
    "\n",
    "(And more! The mean too.)"
   ]
  },
  {
   "cell_type": "markdown",
   "metadata": {},
   "source": [
    "Five Number Summary (all assumes numeric data):\n",
    "- **Min:** The smallest value in the column\n",
    "- **Max:** The largest value in the column\n",
    "- **Quartile:** A quartile is one fourth of our data\n",
    "    - **First quartile:** This is the bottom most 25 percent\n",
    "    - **Median:** The middle value. (Line all values biggest to smallest - median is the middle!) Also the 50th percentile\n",
    "    - **Third quartile:** This the the top 75 percentile of our data\n"
   ]
  },
  {
   "cell_type": "markdown",
   "metadata": {},
   "source": [
    "![](https://www.mathsisfun.com/data/images/quartiles-a.svg)"
   ]
  },
  {
   "cell_type": "code",
   "execution_count": 199,
   "metadata": {},
   "outputs": [
    {
     "data": {
      "text/html": "<div>\n<style scoped>\n    .dataframe tbody tr th:only-of-type {\n        vertical-align: middle;\n    }\n\n    .dataframe tbody tr th {\n        vertical-align: top;\n    }\n\n    .dataframe thead th {\n        text-align: right;\n    }\n</style>\n<table border=\"1\" class=\"dataframe\">\n  <thead>\n    <tr style=\"text-align: right;\">\n      <th></th>\n      <th>MakeFlag</th>\n      <th>FinishedGoodsFlag</th>\n      <th>SafetyStockLevel</th>\n      <th>ReorderPoint</th>\n      <th>StandardCost</th>\n      <th>ListPrice</th>\n      <th>Weight</th>\n      <th>DaysToManufacture</th>\n      <th>ProductSubcategoryID</th>\n      <th>ProductModelID</th>\n      <th>DiscontinuedDate</th>\n    </tr>\n  </thead>\n  <tbody>\n    <tr>\n      <td>count</td>\n      <td>504.000000</td>\n      <td>504.000000</td>\n      <td>504.000000</td>\n      <td>504.000000</td>\n      <td>504.000000</td>\n      <td>504.000000</td>\n      <td>205.000000</td>\n      <td>504.000000</td>\n      <td>295.000000</td>\n      <td>295.000000</td>\n      <td>0.0</td>\n    </tr>\n    <tr>\n      <td>mean</td>\n      <td>0.474206</td>\n      <td>0.585317</td>\n      <td>535.150794</td>\n      <td>401.363095</td>\n      <td>258.602961</td>\n      <td>438.666250</td>\n      <td>74.069220</td>\n      <td>1.103175</td>\n      <td>12.294915</td>\n      <td>37.444068</td>\n      <td>NaN</td>\n    </tr>\n    <tr>\n      <td>std</td>\n      <td>0.499830</td>\n      <td>0.493157</td>\n      <td>374.112954</td>\n      <td>280.584715</td>\n      <td>461.632808</td>\n      <td>773.602843</td>\n      <td>182.166588</td>\n      <td>1.492616</td>\n      <td>9.860135</td>\n      <td>34.025442</td>\n      <td>NaN</td>\n    </tr>\n    <tr>\n      <td>min</td>\n      <td>0.000000</td>\n      <td>0.000000</td>\n      <td>4.000000</td>\n      <td>3.000000</td>\n      <td>0.000000</td>\n      <td>0.000000</td>\n      <td>2.120000</td>\n      <td>0.000000</td>\n      <td>1.000000</td>\n      <td>1.000000</td>\n      <td>NaN</td>\n    </tr>\n    <tr>\n      <td>25%</td>\n      <td>0.000000</td>\n      <td>0.000000</td>\n      <td>100.000000</td>\n      <td>75.000000</td>\n      <td>0.000000</td>\n      <td>0.000000</td>\n      <td>2.880000</td>\n      <td>0.000000</td>\n      <td>2.000000</td>\n      <td>11.000000</td>\n      <td>NaN</td>\n    </tr>\n    <tr>\n      <td>50%</td>\n      <td>0.000000</td>\n      <td>1.000000</td>\n      <td>500.000000</td>\n      <td>375.000000</td>\n      <td>23.372200</td>\n      <td>49.990000</td>\n      <td>17.900000</td>\n      <td>1.000000</td>\n      <td>12.000000</td>\n      <td>26.000000</td>\n      <td>NaN</td>\n    </tr>\n    <tr>\n      <td>75%</td>\n      <td>1.000000</td>\n      <td>1.000000</td>\n      <td>1000.000000</td>\n      <td>750.000000</td>\n      <td>317.075825</td>\n      <td>564.990000</td>\n      <td>27.350000</td>\n      <td>1.000000</td>\n      <td>17.000000</td>\n      <td>48.500000</td>\n      <td>NaN</td>\n    </tr>\n    <tr>\n      <td>max</td>\n      <td>1.000000</td>\n      <td>1.000000</td>\n      <td>1000.000000</td>\n      <td>750.000000</td>\n      <td>2171.294200</td>\n      <td>3578.270000</td>\n      <td>1050.000000</td>\n      <td>4.000000</td>\n      <td>37.000000</td>\n      <td>128.000000</td>\n      <td>NaN</td>\n    </tr>\n  </tbody>\n</table>\n</div>",
      "text/plain": "         MakeFlag  FinishedGoodsFlag  SafetyStockLevel  ReorderPoint  \\\ncount  504.000000         504.000000        504.000000    504.000000   \nmean     0.474206           0.585317        535.150794    401.363095   \nstd      0.499830           0.493157        374.112954    280.584715   \nmin      0.000000           0.000000          4.000000      3.000000   \n25%      0.000000           0.000000        100.000000     75.000000   \n50%      0.000000           1.000000        500.000000    375.000000   \n75%      1.000000           1.000000       1000.000000    750.000000   \nmax      1.000000           1.000000       1000.000000    750.000000   \n\n       StandardCost    ListPrice       Weight  DaysToManufacture  \\\ncount    504.000000   504.000000   205.000000         504.000000   \nmean     258.602961   438.666250    74.069220           1.103175   \nstd      461.632808   773.602843   182.166588           1.492616   \nmin        0.000000     0.000000     2.120000           0.000000   \n25%        0.000000     0.000000     2.880000           0.000000   \n50%       23.372200    49.990000    17.900000           1.000000   \n75%      317.075825   564.990000    27.350000           1.000000   \nmax     2171.294200  3578.270000  1050.000000           4.000000   \n\n       ProductSubcategoryID  ProductModelID  DiscontinuedDate  \ncount            295.000000      295.000000               0.0  \nmean              12.294915       37.444068               NaN  \nstd                9.860135       34.025442               NaN  \nmin                1.000000        1.000000               NaN  \n25%                2.000000       11.000000               NaN  \n50%               12.000000       26.000000               NaN  \n75%               17.000000       48.500000               NaN  \nmax               37.000000      128.000000               NaN  "
     },
     "execution_count": 199,
     "metadata": {},
     "output_type": "execute_result"
    }
   ],
   "source": [
    "# note - .describe() *default* only checks numeric datatypes\n",
    "# show .describe() for the 'MakeFlag', 'SafetyStockLevel', 'StandardCost' fields.\n",
    "prod.describe()\n"
   ]
  },
  {
   "cell_type": "code",
   "execution_count": 200,
   "metadata": {},
   "outputs": [
    {
     "data": {
      "text/plain": "Black           93\nSilver          43\nRed             38\nYellow          36\nBlue            26\nMulti            8\nSilver/Black     7\nWhite            4\nGrey             1\nName: Product Color, dtype: int64"
     },
     "execution_count": 200,
     "metadata": {},
     "output_type": "execute_result"
    }
   ],
   "source": [
    "prod[\"Product Color\"].value_counts()\n"
   ]
  },
  {
   "cell_type": "code",
   "execution_count": 201,
   "metadata": {},
   "outputs": [
    {
     "data": {
      "text/plain": "<matplotlib.axes._subplots.AxesSubplot at 0x10dc5ad0>"
     },
     "execution_count": 201,
     "metadata": {},
     "output_type": "execute_result"
    },
    {
     "data": {
      "image/png": "[encoded data removed]",
      "image/svg+xml": "<?xml version=\"1.0\" encoding=\"utf-8\" standalone=\"no\"?>\r\n<!DOCTYPE svg PUBLIC \"-//W3C//DTD SVG 1.1//EN\"\r\n  \"http://www.w3.org/Graphics/SVG/1.1/DTD/svg11.dtd\">\r\n<!-- Created with matplotlib (https://matplotlib.org/) -->\r\n<svg height=\"297.3525pt\" version=\"1.1\" viewBox=\"0 0 368.925 297.3525\" width=\"368.925pt\" xmlns=\"http://www.w3.org/2000/svg\" xmlns:xlink=\"http://www.w3.org/1999/xlink\">\r\n <defs>\r\n  <style type=\"text/css\">\r\n*{stroke-linecap:butt;stroke-linejoin:round;}\r\n  </style>\r\n </defs>\r\n <g id=\"figure_1\">\r\n  <g id=\"patch_1\">\r\n   <path d=\"M -0 297.3525 \r\nL 368.925 297.3525 \r\nL 368.925 0 \r\nL -0 0 \r\nz\r\n\" style=\"fill:none;\"/>\r\n  </g>\r\n  <g id=\"axes_1\">\r\n   <g id=\"patch_2\">\r\n    <path d=\"M 26.925 224.64 \r\nL 361.725 224.64 \r\nL 361.725 7.2 \r\nL 26.925 7.2 \r\nz\r\n\" style=\"fill:#ffffff;\"/>\r\n   </g>\r\n   <g id=\"patch_3\">\r\n    <path clip-path=\"url(#pfb14029632)\" d=\"M 36.225 224.64 \r\nL 54.825 224.64 \r\nL 54.825 17.554286 \r\nL 36.225 17.554286 \r\nz\r\n\" style=\"fill:#1f77b4;\"/>\r\n   </g>\r\n   <g id=\"patch_4\">\r\n    <path clip-path=\"url(#pfb14029632)\" d=\"M 73.425 224.64 \r\nL 92.025 224.64 \r\nL 92.025 128.890691 \r\nL 73.425 128.890691 \r\nz\r\n\" style=\"fill:#1f77b4;\"/>\r\n   </g>\r\n   <g id=\"patch_5\">\r\n    <path clip-path=\"url(#pfb14029632)\" d=\"M 110.625 224.64 \r\nL 129.225 224.64 \r\nL 129.225 140.024332 \r\nL 110.625 140.024332 \r\nz\r\n\" style=\"fill:#1f77b4;\"/>\r\n   </g>\r\n   <g id=\"patch_6\">\r\n    <path clip-path=\"url(#pfb14029632)\" d=\"M 147.825 224.64 \r\nL 166.425 224.64 \r\nL 166.425 144.477788 \r\nL 147.825 144.477788 \r\nz\r\n\" style=\"fill:#1f77b4;\"/>\r\n   </g>\r\n   <g id=\"patch_7\">\r\n    <path clip-path=\"url(#pfb14029632)\" d=\"M 185.025 224.64 \r\nL 203.625 224.64 \r\nL 203.625 166.745069 \r\nL 185.025 166.745069 \r\nz\r\n\" style=\"fill:#1f77b4;\"/>\r\n   </g>\r\n   <g id=\"patch_8\">\r\n    <path clip-path=\"url(#pfb14029632)\" d=\"M 222.225 224.64 \r\nL 240.825 224.64 \r\nL 240.825 206.826175 \r\nL 222.225 206.826175 \r\nz\r\n\" style=\"fill:#1f77b4;\"/>\r\n   </g>\r\n   <g id=\"patch_9\">\r\n    <path clip-path=\"url(#pfb14029632)\" d=\"M 259.425 224.64 \r\nL 278.025 224.64 \r\nL 278.025 209.052903 \r\nL 259.425 209.052903 \r\nz\r\n\" style=\"fill:#1f77b4;\"/>\r\n   </g>\r\n   <g id=\"patch_10\">\r\n    <path clip-path=\"url(#pfb14029632)\" d=\"M 296.625 224.64 \r\nL 315.225 224.64 \r\nL 315.225 215.733088 \r\nL 296.625 215.733088 \r\nz\r\n\" style=\"fill:#1f77b4;\"/>\r\n   </g>\r\n   <g id=\"patch_11\">\r\n    <path clip-path=\"url(#pfb14029632)\" d=\"M 333.825 224.64 \r\nL 352.425 224.64 \r\nL 352.425 222.413272 \r\nL 333.825 222.413272 \r\nz\r\n\" style=\"fill:#1f77b4;\"/>\r\n   </g>\r\n   <g id=\"matplotlib.axis_1\">\r\n    <g id=\"xtick_1\">\r\n     <g id=\"line2d_1\">\r\n      <defs>\r\n       <path d=\"M 0 0 \r\nL 0 3.5 \r\n\" id=\"m8ce271279f\" style=\"stroke:#000000;stroke-width:0.8;\"/>\r\n      </defs>\r\n      <g>\r\n       <use style=\"stroke:#000000;stroke-width:0.8;\" x=\"45.525\" xlink:href=\"#m8ce271279f\" y=\"224.64\"/>\r\n      </g>\r\n     </g>\r\n     <g id=\"text_1\">\r\n      <!-- Black -->\r\n      <defs>\r\n       <path d=\"M 19.671875 34.8125 \r\nL 19.671875 8.109375 \r\nL 35.5 8.109375 \r\nQ 43.453125 8.109375 47.28125 11.40625 \r\nQ 51.125 14.703125 51.125 21.484375 \r\nQ 51.125 28.328125 47.28125 31.5625 \r\nQ 43.453125 34.8125 35.5 34.8125 \r\nz\r\nM 19.671875 64.796875 \r\nL 19.671875 42.828125 \r\nL 34.28125 42.828125 \r\nQ 41.5 42.828125 45.03125 45.53125 \r\nQ 48.578125 48.25 48.578125 53.8125 \r\nQ 48.578125 59.328125 45.03125 62.0625 \r\nQ 41.5 64.796875 34.28125 64.796875 \r\nz\r\nM 9.8125 72.90625 \r\nL 35.015625 72.90625 \r\nQ 46.296875 72.90625 52.390625 68.21875 \r\nQ 58.5 63.53125 58.5 54.890625 \r\nQ 58.5 48.1875 55.375 44.234375 \r\nQ 52.25 40.28125 46.1875 39.3125 \r\nQ 53.46875 37.75 57.5 32.78125 \r\nQ 61.53125 27.828125 61.53125 20.40625 \r\nQ 61.53125 10.640625 54.890625 5.3125 \r\nQ 48.25 0 35.984375 0 \r\nL 9.8125 0 \r\nz\r\n\" id=\"DejaVuSans-66\"/>\r\n       <path d=\"M 9.421875 75.984375 \r\nL 18.40625 75.984375 \r\nL 18.40625 0 \r\nL 9.421875 0 \r\nz\r\n\" id=\"DejaVuSans-108\"/>\r\n       <path d=\"M 34.28125 27.484375 \r\nQ 23.390625 27.484375 19.1875 25 \r\nQ 14.984375 22.515625 14.984375 16.5 \r\nQ 14.984375 11.71875 18.140625 8.90625 \r\nQ 21.296875 6.109375 26.703125 6.109375 \r\nQ 34.1875 6.109375 38.703125 11.40625 \r\nQ 43.21875 16.703125 43.21875 25.484375 \r\nL 43.21875 27.484375 \r\nz\r\nM 52.203125 31.203125 \r\nL 52.203125 0 \r\nL 43.21875 0 \r\nL 43.21875 8.296875 \r\nQ 40.140625 3.328125 35.546875 0.953125 \r\nQ 30.953125 -1.421875 24.3125 -1.421875 \r\nQ 15.921875 -1.421875 10.953125 3.296875 \r\nQ 6 8.015625 6 15.921875 \r\nQ 6 25.140625 12.171875 29.828125 \r\nQ 18.359375 34.515625 30.609375 34.515625 \r\nL 43.21875 34.515625 \r\nL 43.21875 35.40625 \r\nQ 43.21875 41.609375 39.140625 45 \r\nQ 35.0625 48.390625 27.6875 48.390625 \r\nQ 23 48.390625 18.546875 47.265625 \r\nQ 14.109375 46.140625 10.015625 43.890625 \r\nL 10.015625 52.203125 \r\nQ 14.9375 54.109375 19.578125 55.046875 \r\nQ 24.21875 56 28.609375 56 \r\nQ 40.484375 56 46.34375 49.84375 \r\nQ 52.203125 43.703125 52.203125 31.203125 \r\nz\r\n\" id=\"DejaVuSans-97\"/>\r\n       <path d=\"M 48.78125 52.59375 \r\nL 48.78125 44.1875 \r\nQ 44.96875 46.296875 41.140625 47.34375 \r\nQ 37.3125 48.390625 33.40625 48.390625 \r\nQ 24.65625 48.390625 19.8125 42.84375 \r\nQ 14.984375 37.3125 14.984375 27.296875 \r\nQ 14.984375 17.28125 19.8125 11.734375 \r\nQ 24.65625 6.203125 33.40625 6.203125 \r\nQ 37.3125 6.203125 41.140625 7.25 \r\nQ 44.96875 8.296875 48.78125 10.40625 \r\nL 48.78125 2.09375 \r\nQ 45.015625 0.34375 40.984375 -0.53125 \r\nQ 36.96875 -1.421875 32.421875 -1.421875 \r\nQ 20.0625 -1.421875 12.78125 6.34375 \r\nQ 5.515625 14.109375 5.515625 27.296875 \r\nQ 5.515625 40.671875 12.859375 48.328125 \r\nQ 20.21875 56 33.015625 56 \r\nQ 37.15625 56 41.109375 55.140625 \r\nQ 45.0625 54.296875 48.78125 52.59375 \r\nz\r\n\" id=\"DejaVuSans-99\"/>\r\n       <path d=\"M 9.078125 75.984375 \r\nL 18.109375 75.984375 \r\nL 18.109375 31.109375 \r\nL 44.921875 54.6875 \r\nL 56.390625 54.6875 \r\nL 27.390625 29.109375 \r\nL 57.625 0 \r\nL 45.90625 0 \r\nL 18.109375 26.703125 \r\nL 18.109375 0 \r\nL 9.078125 0 \r\nz\r\n\" id=\"DejaVuSans-107\"/>\r\n      </defs>\r\n      <g transform=\"translate(48.284375 258.69625)rotate(-90)scale(0.1 -0.1)\">\r\n       <use xlink:href=\"#DejaVuSans-66\"/>\r\n       <use x=\"68.603516\" xlink:href=\"#DejaVuSans-108\"/>\r\n       <use x=\"96.386719\" xlink:href=\"#DejaVuSans-97\"/>\r\n       <use x=\"157.666016\" xlink:href=\"#DejaVuSans-99\"/>\r\n       <use x=\"212.646484\" xlink:href=\"#DejaVuSans-107\"/>\r\n      </g>\r\n     </g>\r\n    </g>\r\n    <g id=\"xtick_2\">\r\n     <g id=\"line2d_2\">\r\n      <g>\r\n       <use style=\"stroke:#000000;stroke-width:0.8;\" x=\"82.725\" xlink:href=\"#m8ce271279f\" y=\"224.64\"/>\r\n      </g>\r\n     </g>\r\n     <g id=\"text_2\">\r\n      <!-- Silver -->\r\n      <defs>\r\n       <path d=\"M 53.515625 70.515625 \r\nL 53.515625 60.890625 \r\nQ 47.90625 63.578125 42.921875 64.890625 \r\nQ 37.9375 66.21875 33.296875 66.21875 \r\nQ 25.25 66.21875 20.875 63.09375 \r\nQ 16.5 59.96875 16.5 54.203125 \r\nQ 16.5 49.359375 19.40625 46.890625 \r\nQ 22.3125 44.4375 30.421875 42.921875 \r\nL 36.375 41.703125 \r\nQ 47.40625 39.59375 52.65625 34.296875 \r\nQ 57.90625 29 57.90625 20.125 \r\nQ 57.90625 9.515625 50.796875 4.046875 \r\nQ 43.703125 -1.421875 29.984375 -1.421875 \r\nQ 24.8125 -1.421875 18.96875 -0.25 \r\nQ 13.140625 0.921875 6.890625 3.21875 \r\nL 6.890625 13.375 \r\nQ 12.890625 10.015625 18.65625 8.296875 \r\nQ 24.421875 6.59375 29.984375 6.59375 \r\nQ 38.421875 6.59375 43.015625 9.90625 \r\nQ 47.609375 13.234375 47.609375 19.390625 \r\nQ 47.609375 24.75 44.3125 27.78125 \r\nQ 41.015625 30.8125 33.5 32.328125 \r\nL 27.484375 33.5 \r\nQ 16.453125 35.6875 11.515625 40.375 \r\nQ 6.59375 45.0625 6.59375 53.421875 \r\nQ 6.59375 63.09375 13.40625 68.65625 \r\nQ 20.21875 74.21875 32.171875 74.21875 \r\nQ 37.3125 74.21875 42.625 73.28125 \r\nQ 47.953125 72.359375 53.515625 70.515625 \r\nz\r\n\" id=\"DejaVuSans-83\"/>\r\n       <path d=\"M 9.421875 54.6875 \r\nL 18.40625 54.6875 \r\nL 18.40625 0 \r\nL 9.421875 0 \r\nz\r\nM 9.421875 75.984375 \r\nL 18.40625 75.984375 \r\nL 18.40625 64.59375 \r\nL 9.421875 64.59375 \r\nz\r\n\" id=\"DejaVuSans-105\"/>\r\n       <path d=\"M 2.984375 54.6875 \r\nL 12.5 54.6875 \r\nL 29.59375 8.796875 \r\nL 46.6875 54.6875 \r\nL 56.203125 54.6875 \r\nL 35.6875 0 \r\nL 23.484375 0 \r\nz\r\n\" id=\"DejaVuSans-118\"/>\r\n       <path d=\"M 56.203125 29.59375 \r\nL 56.203125 25.203125 \r\nL 14.890625 25.203125 \r\nQ 15.484375 15.921875 20.484375 11.0625 \r\nQ 25.484375 6.203125 34.421875 6.203125 \r\nQ 39.59375 6.203125 44.453125 7.46875 \r\nQ 49.3125 8.734375 54.109375 11.28125 \r\nL 54.109375 2.78125 \r\nQ 49.265625 0.734375 44.1875 -0.34375 \r\nQ 39.109375 -1.421875 33.890625 -1.421875 \r\nQ 20.796875 -1.421875 13.15625 6.1875 \r\nQ 5.515625 13.8125 5.515625 26.8125 \r\nQ 5.515625 40.234375 12.765625 48.109375 \r\nQ 20.015625 56 32.328125 56 \r\nQ 43.359375 56 49.78125 48.890625 \r\nQ 56.203125 41.796875 56.203125 29.59375 \r\nz\r\nM 47.21875 32.234375 \r\nQ 47.125 39.59375 43.09375 43.984375 \r\nQ 39.0625 48.390625 32.421875 48.390625 \r\nQ 24.90625 48.390625 20.390625 44.140625 \r\nQ 15.875 39.890625 15.1875 32.171875 \r\nz\r\n\" id=\"DejaVuSans-101\"/>\r\n       <path d=\"M 41.109375 46.296875 \r\nQ 39.59375 47.171875 37.8125 47.578125 \r\nQ 36.03125 48 33.890625 48 \r\nQ 26.265625 48 22.1875 43.046875 \r\nQ 18.109375 38.09375 18.109375 28.8125 \r\nL 18.109375 0 \r\nL 9.078125 0 \r\nL 9.078125 54.6875 \r\nL 18.109375 54.6875 \r\nL 18.109375 46.1875 \r\nQ 20.953125 51.171875 25.484375 53.578125 \r\nQ 30.03125 56 36.53125 56 \r\nQ 37.453125 56 38.578125 55.875 \r\nQ 39.703125 55.765625 41.0625 55.515625 \r\nz\r\n\" id=\"DejaVuSans-114\"/>\r\n      </defs>\r\n      <g transform=\"translate(85.484375 259.7275)rotate(-90)scale(0.1 -0.1)\">\r\n       <use xlink:href=\"#DejaVuSans-83\"/>\r\n       <use x=\"63.476562\" xlink:href=\"#DejaVuSans-105\"/>\r\n       <use x=\"91.259766\" xlink:href=\"#DejaVuSans-108\"/>\r\n       <use x=\"119.042969\" xlink:href=\"#DejaVuSans-118\"/>\r\n       <use x=\"178.222656\" xlink:href=\"#DejaVuSans-101\"/>\r\n       <use x=\"239.746094\" xlink:href=\"#DejaVuSans-114\"/>\r\n      </g>\r\n     </g>\r\n    </g>\r\n    <g id=\"xtick_3\">\r\n     <g id=\"line2d_3\">\r\n      <g>\r\n       <use style=\"stroke:#000000;stroke-width:0.8;\" x=\"119.925\" xlink:href=\"#m8ce271279f\" y=\"224.64\"/>\r\n      </g>\r\n     </g>\r\n     <g id=\"text_3\">\r\n      <!-- Red -->\r\n      <defs>\r\n       <path d=\"M 44.390625 34.1875 \r\nQ 47.5625 33.109375 50.5625 29.59375 \r\nQ 53.5625 26.078125 56.59375 19.921875 \r\nL 66.609375 0 \r\nL 56 0 \r\nL 46.6875 18.703125 \r\nQ 43.0625 26.03125 39.671875 28.421875 \r\nQ 36.28125 30.8125 30.421875 30.8125 \r\nL 19.671875 30.8125 \r\nL 19.671875 0 \r\nL 9.8125 0 \r\nL 9.8125 72.90625 \r\nL 32.078125 72.90625 \r\nQ 44.578125 72.90625 50.734375 67.671875 \r\nQ 56.890625 62.453125 56.890625 51.90625 \r\nQ 56.890625 45.015625 53.6875 40.46875 \r\nQ 50.484375 35.9375 44.390625 34.1875 \r\nz\r\nM 19.671875 64.796875 \r\nL 19.671875 38.921875 \r\nL 32.078125 38.921875 \r\nQ 39.203125 38.921875 42.84375 42.21875 \r\nQ 46.484375 45.515625 46.484375 51.90625 \r\nQ 46.484375 58.296875 42.84375 61.546875 \r\nQ 39.203125 64.796875 32.078125 64.796875 \r\nz\r\n\" id=\"DejaVuSans-82\"/>\r\n       <path d=\"M 45.40625 46.390625 \r\nL 45.40625 75.984375 \r\nL 54.390625 75.984375 \r\nL 54.390625 0 \r\nL 45.40625 0 \r\nL 45.40625 8.203125 \r\nQ 42.578125 3.328125 38.25 0.953125 \r\nQ 33.9375 -1.421875 27.875 -1.421875 \r\nQ 17.96875 -1.421875 11.734375 6.484375 \r\nQ 5.515625 14.40625 5.515625 27.296875 \r\nQ 5.515625 40.1875 11.734375 48.09375 \r\nQ 17.96875 56 27.875 56 \r\nQ 33.9375 56 38.25 53.625 \r\nQ 42.578125 51.265625 45.40625 46.390625 \r\nz\r\nM 14.796875 27.296875 \r\nQ 14.796875 17.390625 18.875 11.75 \r\nQ 22.953125 6.109375 30.078125 6.109375 \r\nQ 37.203125 6.109375 41.296875 11.75 \r\nQ 45.40625 17.390625 45.40625 27.296875 \r\nQ 45.40625 37.203125 41.296875 42.84375 \r\nQ 37.203125 48.484375 30.078125 48.484375 \r\nQ 22.953125 48.484375 18.875 42.84375 \r\nQ 14.796875 37.203125 14.796875 27.296875 \r\nz\r\n\" id=\"DejaVuSans-100\"/>\r\n      </defs>\r\n      <g transform=\"translate(122.684375 251.08375)rotate(-90)scale(0.1 -0.1)\">\r\n       <use xlink:href=\"#DejaVuSans-82\"/>\r\n       <use x=\"69.419922\" xlink:href=\"#DejaVuSans-101\"/>\r\n       <use x=\"130.943359\" xlink:href=\"#DejaVuSans-100\"/>\r\n      </g>\r\n     </g>\r\n    </g>\r\n    <g id=\"xtick_4\">\r\n     <g id=\"line2d_4\">\r\n      <g>\r\n       <use style=\"stroke:#000000;stroke-width:0.8;\" x=\"157.125\" xlink:href=\"#m8ce271279f\" y=\"224.64\"/>\r\n      </g>\r\n     </g>\r\n     <g id=\"text_4\">\r\n      <!-- Yellow -->\r\n      <defs>\r\n       <path d=\"M -0.203125 72.90625 \r\nL 10.40625 72.90625 \r\nL 30.609375 42.921875 \r\nL 50.6875 72.90625 \r\nL 61.28125 72.90625 \r\nL 35.5 34.71875 \r\nL 35.5 0 \r\nL 25.59375 0 \r\nL 25.59375 34.71875 \r\nz\r\n\" id=\"DejaVuSans-89\"/>\r\n       <path d=\"M 30.609375 48.390625 \r\nQ 23.390625 48.390625 19.1875 42.75 \r\nQ 14.984375 37.109375 14.984375 27.296875 \r\nQ 14.984375 17.484375 19.15625 11.84375 \r\nQ 23.34375 6.203125 30.609375 6.203125 \r\nQ 37.796875 6.203125 41.984375 11.859375 \r\nQ 46.1875 17.53125 46.1875 27.296875 \r\nQ 46.1875 37.015625 41.984375 42.703125 \r\nQ 37.796875 48.390625 30.609375 48.390625 \r\nz\r\nM 30.609375 56 \r\nQ 42.328125 56 49.015625 48.375 \r\nQ 55.71875 40.765625 55.71875 27.296875 \r\nQ 55.71875 13.875 49.015625 6.21875 \r\nQ 42.328125 -1.421875 30.609375 -1.421875 \r\nQ 18.84375 -1.421875 12.171875 6.21875 \r\nQ 5.515625 13.875 5.515625 27.296875 \r\nQ 5.515625 40.765625 12.171875 48.375 \r\nQ 18.84375 56 30.609375 56 \r\nz\r\n\" id=\"DejaVuSans-111\"/>\r\n       <path d=\"M 4.203125 54.6875 \r\nL 13.1875 54.6875 \r\nL 24.421875 12.015625 \r\nL 35.59375 54.6875 \r\nL 46.1875 54.6875 \r\nL 57.421875 12.015625 \r\nL 68.609375 54.6875 \r\nL 77.59375 54.6875 \r\nL 63.28125 0 \r\nL 52.6875 0 \r\nL 40.921875 44.828125 \r\nL 29.109375 0 \r\nL 18.5 0 \r\nz\r\n\" id=\"DejaVuSans-119\"/>\r\n      </defs>\r\n      <g transform=\"translate(159.884375 263.73375)rotate(-90)scale(0.1 -0.1)\">\r\n       <use xlink:href=\"#DejaVuSans-89\"/>\r\n       <use x=\"60.880859\" xlink:href=\"#DejaVuSans-101\"/>\r\n       <use x=\"122.404297\" xlink:href=\"#DejaVuSans-108\"/>\r\n       <use x=\"150.1875\" xlink:href=\"#DejaVuSans-108\"/>\r\n       <use x=\"177.970703\" xlink:href=\"#DejaVuSans-111\"/>\r\n       <use x=\"239.152344\" xlink:href=\"#DejaVuSans-119\"/>\r\n      </g>\r\n     </g>\r\n    </g>\r\n    <g id=\"xtick_5\">\r\n     <g id=\"line2d_5\">\r\n      <g>\r\n       <use style=\"stroke:#000000;stroke-width:0.8;\" x=\"194.325\" xlink:href=\"#m8ce271279f\" y=\"224.64\"/>\r\n      </g>\r\n     </g>\r\n     <g id=\"text_5\">\r\n      <!-- Blue -->\r\n      <defs>\r\n       <path d=\"M 8.5 21.578125 \r\nL 8.5 54.6875 \r\nL 17.484375 54.6875 \r\nL 17.484375 21.921875 \r\nQ 17.484375 14.15625 20.5 10.265625 \r\nQ 23.53125 6.390625 29.59375 6.390625 \r\nQ 36.859375 6.390625 41.078125 11.03125 \r\nQ 45.3125 15.671875 45.3125 23.6875 \r\nL 45.3125 54.6875 \r\nL 54.296875 54.6875 \r\nL 54.296875 0 \r\nL 45.3125 0 \r\nL 45.3125 8.40625 \r\nQ 42.046875 3.421875 37.71875 1 \r\nQ 33.40625 -1.421875 27.6875 -1.421875 \r\nQ 18.265625 -1.421875 13.375 4.4375 \r\nQ 8.5 10.296875 8.5 21.578125 \r\nz\r\nM 31.109375 56 \r\nz\r\n\" id=\"DejaVuSans-117\"/>\r\n      </defs>\r\n      <g transform=\"translate(197.084375 253.769688)rotate(-90)scale(0.1 -0.1)\">\r\n       <use xlink:href=\"#DejaVuSans-66\"/>\r\n       <use x=\"68.603516\" xlink:href=\"#DejaVuSans-108\"/>\r\n       <use x=\"96.386719\" xlink:href=\"#DejaVuSans-117\"/>\r\n       <use x=\"159.765625\" xlink:href=\"#DejaVuSans-101\"/>\r\n      </g>\r\n     </g>\r\n    </g>\r\n    <g id=\"xtick_6\">\r\n     <g id=\"line2d_6\">\r\n      <g>\r\n       <use style=\"stroke:#000000;stroke-width:0.8;\" x=\"231.525\" xlink:href=\"#m8ce271279f\" y=\"224.64\"/>\r\n      </g>\r\n     </g>\r\n     <g id=\"text_6\">\r\n      <!-- Multi -->\r\n      <defs>\r\n       <path d=\"M 9.8125 72.90625 \r\nL 24.515625 72.90625 \r\nL 43.109375 23.296875 \r\nL 61.8125 72.90625 \r\nL 76.515625 72.90625 \r\nL 76.515625 0 \r\nL 66.890625 0 \r\nL 66.890625 64.015625 \r\nL 48.09375 14.015625 \r\nL 38.1875 14.015625 \r\nL 19.390625 64.015625 \r\nL 19.390625 0 \r\nL 9.8125 0 \r\nz\r\n\" id=\"DejaVuSans-77\"/>\r\n       <path d=\"M 18.3125 70.21875 \r\nL 18.3125 54.6875 \r\nL 36.8125 54.6875 \r\nL 36.8125 47.703125 \r\nL 18.3125 47.703125 \r\nL 18.3125 18.015625 \r\nQ 18.3125 11.328125 20.140625 9.421875 \r\nQ 21.96875 7.515625 27.59375 7.515625 \r\nL 36.8125 7.515625 \r\nL 36.8125 0 \r\nL 27.59375 0 \r\nQ 17.1875 0 13.234375 3.875 \r\nQ 9.28125 7.765625 9.28125 18.015625 \r\nL 9.28125 47.703125 \r\nL 2.6875 47.703125 \r\nL 2.6875 54.6875 \r\nL 9.28125 54.6875 \r\nL 9.28125 70.21875 \r\nz\r\n\" id=\"DejaVuSans-116\"/>\r\n      </defs>\r\n      <g transform=\"translate(234.284375 256.082188)rotate(-90)scale(0.1 -0.1)\">\r\n       <use xlink:href=\"#DejaVuSans-77\"/>\r\n       <use x=\"86.279297\" xlink:href=\"#DejaVuSans-117\"/>\r\n       <use x=\"149.658203\" xlink:href=\"#DejaVuSans-108\"/>\r\n       <use x=\"177.441406\" xlink:href=\"#DejaVuSans-116\"/>\r\n       <use x=\"216.650391\" xlink:href=\"#DejaVuSans-105\"/>\r\n      </g>\r\n     </g>\r\n    </g>\r\n    <g id=\"xtick_7\">\r\n     <g id=\"line2d_7\">\r\n      <g>\r\n       <use style=\"stroke:#000000;stroke-width:0.8;\" x=\"268.725\" xlink:href=\"#m8ce271279f\" y=\"224.64\"/>\r\n      </g>\r\n     </g>\r\n     <g id=\"text_7\">\r\n      <!-- Silver/Black -->\r\n      <defs>\r\n       <path d=\"M 25.390625 72.90625 \r\nL 33.6875 72.90625 \r\nL 8.296875 -9.28125 \r\nL 0 -9.28125 \r\nz\r\n\" id=\"DejaVuSans-47\"/>\r\n      </defs>\r\n      <g transform=\"translate(271.484375 290.1525)rotate(-90)scale(0.1 -0.1)\">\r\n       <use xlink:href=\"#DejaVuSans-83\"/>\r\n       <use x=\"63.476562\" xlink:href=\"#DejaVuSans-105\"/>\r\n       <use x=\"91.259766\" xlink:href=\"#DejaVuSans-108\"/>\r\n       <use x=\"119.042969\" xlink:href=\"#DejaVuSans-118\"/>\r\n       <use x=\"178.222656\" xlink:href=\"#DejaVuSans-101\"/>\r\n       <use x=\"239.746094\" xlink:href=\"#DejaVuSans-114\"/>\r\n       <use x=\"280.859375\" xlink:href=\"#DejaVuSans-47\"/>\r\n       <use x=\"314.550781\" xlink:href=\"#DejaVuSans-66\"/>\r\n       <use x=\"383.154297\" xlink:href=\"#DejaVuSans-108\"/>\r\n       <use x=\"410.9375\" xlink:href=\"#DejaVuSans-97\"/>\r\n       <use x=\"472.216797\" xlink:href=\"#DejaVuSans-99\"/>\r\n       <use x=\"527.197266\" xlink:href=\"#DejaVuSans-107\"/>\r\n      </g>\r\n     </g>\r\n    </g>\r\n    <g id=\"xtick_8\">\r\n     <g id=\"line2d_8\">\r\n      <g>\r\n       <use style=\"stroke:#000000;stroke-width:0.8;\" x=\"305.925\" xlink:href=\"#m8ce271279f\" y=\"224.64\"/>\r\n      </g>\r\n     </g>\r\n     <g id=\"text_8\">\r\n      <!-- White -->\r\n      <defs>\r\n       <path d=\"M 3.328125 72.90625 \r\nL 13.28125 72.90625 \r\nL 28.609375 11.28125 \r\nL 43.890625 72.90625 \r\nL 54.984375 72.90625 \r\nL 70.3125 11.28125 \r\nL 85.59375 72.90625 \r\nL 95.609375 72.90625 \r\nL 77.296875 0 \r\nL 64.890625 0 \r\nL 49.515625 63.28125 \r\nL 33.984375 0 \r\nL 21.578125 0 \r\nz\r\n\" id=\"DejaVuSans-87\"/>\r\n       <path d=\"M 54.890625 33.015625 \r\nL 54.890625 0 \r\nL 45.90625 0 \r\nL 45.90625 32.71875 \r\nQ 45.90625 40.484375 42.875 44.328125 \r\nQ 39.84375 48.1875 33.796875 48.1875 \r\nQ 26.515625 48.1875 22.3125 43.546875 \r\nQ 18.109375 38.921875 18.109375 30.90625 \r\nL 18.109375 0 \r\nL 9.078125 0 \r\nL 9.078125 75.984375 \r\nL 18.109375 75.984375 \r\nL 18.109375 46.1875 \r\nQ 21.34375 51.125 25.703125 53.5625 \r\nQ 30.078125 56 35.796875 56 \r\nQ 45.21875 56 50.046875 50.171875 \r\nQ 54.890625 44.34375 54.890625 33.015625 \r\nz\r\n\" id=\"DejaVuSans-104\"/>\r\n      </defs>\r\n      <g transform=\"translate(308.684375 260.716563)rotate(-90)scale(0.1 -0.1)\">\r\n       <use xlink:href=\"#DejaVuSans-87\"/>\r\n       <use x=\"98.876953\" xlink:href=\"#DejaVuSans-104\"/>\r\n       <use x=\"162.255859\" xlink:href=\"#DejaVuSans-105\"/>\r\n       <use x=\"190.039062\" xlink:href=\"#DejaVuSans-116\"/>\r\n       <use x=\"229.248047\" xlink:href=\"#DejaVuSans-101\"/>\r\n      </g>\r\n     </g>\r\n    </g>\r\n    <g id=\"xtick_9\">\r\n     <g id=\"line2d_9\">\r\n      <g>\r\n       <use style=\"stroke:#000000;stroke-width:0.8;\" x=\"343.125\" xlink:href=\"#m8ce271279f\" y=\"224.64\"/>\r\n      </g>\r\n     </g>\r\n     <g id=\"text_9\">\r\n      <!-- Grey -->\r\n      <defs>\r\n       <path d=\"M 59.515625 10.40625 \r\nL 59.515625 29.984375 \r\nL 43.40625 29.984375 \r\nL 43.40625 38.09375 \r\nL 69.28125 38.09375 \r\nL 69.28125 6.78125 \r\nQ 63.578125 2.734375 56.6875 0.65625 \r\nQ 49.8125 -1.421875 42 -1.421875 \r\nQ 24.90625 -1.421875 15.25 8.5625 \r\nQ 5.609375 18.5625 5.609375 36.375 \r\nQ 5.609375 54.25 15.25 64.234375 \r\nQ 24.90625 74.21875 42 74.21875 \r\nQ 49.125 74.21875 55.546875 72.453125 \r\nQ 61.96875 70.703125 67.390625 67.28125 \r\nL 67.390625 56.78125 \r\nQ 61.921875 61.421875 55.765625 63.765625 \r\nQ 49.609375 66.109375 42.828125 66.109375 \r\nQ 29.4375 66.109375 22.71875 58.640625 \r\nQ 16.015625 51.171875 16.015625 36.375 \r\nQ 16.015625 21.625 22.71875 14.15625 \r\nQ 29.4375 6.6875 42.828125 6.6875 \r\nQ 48.046875 6.6875 52.140625 7.59375 \r\nQ 56.25 8.5 59.515625 10.40625 \r\nz\r\n\" id=\"DejaVuSans-71\"/>\r\n       <path d=\"M 32.171875 -5.078125 \r\nQ 28.375 -14.84375 24.75 -17.8125 \r\nQ 21.140625 -20.796875 15.09375 -20.796875 \r\nL 7.90625 -20.796875 \r\nL 7.90625 -13.28125 \r\nL 13.1875 -13.28125 \r\nQ 16.890625 -13.28125 18.9375 -11.515625 \r\nQ 21 -9.765625 23.484375 -3.21875 \r\nL 25.09375 0.875 \r\nL 2.984375 54.6875 \r\nL 12.5 54.6875 \r\nL 29.59375 11.921875 \r\nL 46.6875 54.6875 \r\nL 56.203125 54.6875 \r\nz\r\n\" id=\"DejaVuSans-121\"/>\r\n      </defs>\r\n      <g transform=\"translate(345.884375 255.568125)rotate(-90)scale(0.1 -0.1)\">\r\n       <use xlink:href=\"#DejaVuSans-71\"/>\r\n       <use x=\"77.490234\" xlink:href=\"#DejaVuSans-114\"/>\r\n       <use x=\"118.572266\" xlink:href=\"#DejaVuSans-101\"/>\r\n       <use x=\"180.095703\" xlink:href=\"#DejaVuSans-121\"/>\r\n      </g>\r\n     </g>\r\n    </g>\r\n   </g>\r\n   <g id=\"matplotlib.axis_2\">\r\n    <g id=\"ytick_1\">\r\n     <g id=\"line2d_10\">\r\n      <defs>\r\n       <path d=\"M 0 0 \r\nL -3.5 0 \r\n\" id=\"m78f1d0a712\" style=\"stroke:#000000;stroke-width:0.8;\"/>\r\n      </defs>\r\n      <g>\r\n       <use style=\"stroke:#000000;stroke-width:0.8;\" x=\"26.925\" xlink:href=\"#m78f1d0a712\" y=\"224.64\"/>\r\n      </g>\r\n     </g>\r\n     <g id=\"text_10\">\r\n      <!-- 0 -->\r\n      <defs>\r\n       <path d=\"M 31.78125 66.40625 \r\nQ 24.171875 66.40625 20.328125 58.90625 \r\nQ 16.5 51.421875 16.5 36.375 \r\nQ 16.5 21.390625 20.328125 13.890625 \r\nQ 24.171875 6.390625 31.78125 6.390625 \r\nQ 39.453125 6.390625 43.28125 13.890625 \r\nQ 47.125 21.390625 47.125 36.375 \r\nQ 47.125 51.421875 43.28125 58.90625 \r\nQ 39.453125 66.40625 31.78125 66.40625 \r\nz\r\nM 31.78125 74.21875 \r\nQ 44.046875 74.21875 50.515625 64.515625 \r\nQ 56.984375 54.828125 56.984375 36.375 \r\nQ 56.984375 17.96875 50.515625 8.265625 \r\nQ 44.046875 -1.421875 31.78125 -1.421875 \r\nQ 19.53125 -1.421875 13.0625 8.265625 \r\nQ 6.59375 17.96875 6.59375 36.375 \r\nQ 6.59375 54.828125 13.0625 64.515625 \r\nQ 19.53125 74.21875 31.78125 74.21875 \r\nz\r\n\" id=\"DejaVuSans-48\"/>\r\n      </defs>\r\n      <g transform=\"translate(13.5625 228.439219)scale(0.1 -0.1)\">\r\n       <use xlink:href=\"#DejaVuSans-48\"/>\r\n      </g>\r\n     </g>\r\n    </g>\r\n    <g id=\"ytick_2\">\r\n     <g id=\"line2d_11\">\r\n      <g>\r\n       <use style=\"stroke:#000000;stroke-width:0.8;\" x=\"26.925\" xlink:href=\"#m78f1d0a712\" y=\"180.105438\"/>\r\n      </g>\r\n     </g>\r\n     <g id=\"text_11\">\r\n      <!-- 20 -->\r\n      <defs>\r\n       <path d=\"M 19.1875 8.296875 \r\nL 53.609375 8.296875 \r\nL 53.609375 0 \r\nL 7.328125 0 \r\nL 7.328125 8.296875 \r\nQ 12.9375 14.109375 22.625 23.890625 \r\nQ 32.328125 33.6875 34.8125 36.53125 \r\nQ 39.546875 41.84375 41.421875 45.53125 \r\nQ 43.3125 49.21875 43.3125 52.78125 \r\nQ 43.3125 58.59375 39.234375 62.25 \r\nQ 35.15625 65.921875 28.609375 65.921875 \r\nQ 23.96875 65.921875 18.8125 64.3125 \r\nQ 13.671875 62.703125 7.8125 59.421875 \r\nL 7.8125 69.390625 \r\nQ 13.765625 71.78125 18.9375 73 \r\nQ 24.125 74.21875 28.421875 74.21875 \r\nQ 39.75 74.21875 46.484375 68.546875 \r\nQ 53.21875 62.890625 53.21875 53.421875 \r\nQ 53.21875 48.921875 51.53125 44.890625 \r\nQ 49.859375 40.875 45.40625 35.40625 \r\nQ 44.1875 33.984375 37.640625 27.21875 \r\nQ 31.109375 20.453125 19.1875 8.296875 \r\nz\r\n\" id=\"DejaVuSans-50\"/>\r\n      </defs>\r\n      <g transform=\"translate(7.2 183.904657)scale(0.1 -0.1)\">\r\n       <use xlink:href=\"#DejaVuSans-50\"/>\r\n       <use x=\"63.623047\" xlink:href=\"#DejaVuSans-48\"/>\r\n      </g>\r\n     </g>\r\n    </g>\r\n    <g id=\"ytick_3\">\r\n     <g id=\"line2d_12\">\r\n      <g>\r\n       <use style=\"stroke:#000000;stroke-width:0.8;\" x=\"26.925\" xlink:href=\"#m78f1d0a712\" y=\"135.570876\"/>\r\n      </g>\r\n     </g>\r\n     <g id=\"text_12\">\r\n      <!-- 40 -->\r\n      <defs>\r\n       <path d=\"M 37.796875 64.3125 \r\nL 12.890625 25.390625 \r\nL 37.796875 25.390625 \r\nz\r\nM 35.203125 72.90625 \r\nL 47.609375 72.90625 \r\nL 47.609375 25.390625 \r\nL 58.015625 25.390625 \r\nL 58.015625 17.1875 \r\nL 47.609375 17.1875 \r\nL 47.609375 0 \r\nL 37.796875 0 \r\nL 37.796875 17.1875 \r\nL 4.890625 17.1875 \r\nL 4.890625 26.703125 \r\nz\r\n\" id=\"DejaVuSans-52\"/>\r\n      </defs>\r\n      <g transform=\"translate(7.2 139.370094)scale(0.1 -0.1)\">\r\n       <use xlink:href=\"#DejaVuSans-52\"/>\r\n       <use x=\"63.623047\" xlink:href=\"#DejaVuSans-48\"/>\r\n      </g>\r\n     </g>\r\n    </g>\r\n    <g id=\"ytick_4\">\r\n     <g id=\"line2d_13\">\r\n      <g>\r\n       <use style=\"stroke:#000000;stroke-width:0.8;\" x=\"26.925\" xlink:href=\"#m78f1d0a712\" y=\"91.036313\"/>\r\n      </g>\r\n     </g>\r\n     <g id=\"text_13\">\r\n      <!-- 60 -->\r\n      <defs>\r\n       <path d=\"M 33.015625 40.375 \r\nQ 26.375 40.375 22.484375 35.828125 \r\nQ 18.609375 31.296875 18.609375 23.390625 \r\nQ 18.609375 15.53125 22.484375 10.953125 \r\nQ 26.375 6.390625 33.015625 6.390625 \r\nQ 39.65625 6.390625 43.53125 10.953125 \r\nQ 47.40625 15.53125 47.40625 23.390625 \r\nQ 47.40625 31.296875 43.53125 35.828125 \r\nQ 39.65625 40.375 33.015625 40.375 \r\nz\r\nM 52.59375 71.296875 \r\nL 52.59375 62.3125 \r\nQ 48.875 64.0625 45.09375 64.984375 \r\nQ 41.3125 65.921875 37.59375 65.921875 \r\nQ 27.828125 65.921875 22.671875 59.328125 \r\nQ 17.53125 52.734375 16.796875 39.40625 \r\nQ 19.671875 43.65625 24.015625 45.921875 \r\nQ 28.375 48.1875 33.59375 48.1875 \r\nQ 44.578125 48.1875 50.953125 41.515625 \r\nQ 57.328125 34.859375 57.328125 23.390625 \r\nQ 57.328125 12.15625 50.6875 5.359375 \r\nQ 44.046875 -1.421875 33.015625 -1.421875 \r\nQ 20.359375 -1.421875 13.671875 8.265625 \r\nQ 6.984375 17.96875 6.984375 36.375 \r\nQ 6.984375 53.65625 15.1875 63.9375 \r\nQ 23.390625 74.21875 37.203125 74.21875 \r\nQ 40.921875 74.21875 44.703125 73.484375 \r\nQ 48.484375 72.75 52.59375 71.296875 \r\nz\r\n\" id=\"DejaVuSans-54\"/>\r\n      </defs>\r\n      <g transform=\"translate(7.2 94.835532)scale(0.1 -0.1)\">\r\n       <use xlink:href=\"#DejaVuSans-54\"/>\r\n       <use x=\"63.623047\" xlink:href=\"#DejaVuSans-48\"/>\r\n      </g>\r\n     </g>\r\n    </g>\r\n    <g id=\"ytick_5\">\r\n     <g id=\"line2d_14\">\r\n      <g>\r\n       <use style=\"stroke:#000000;stroke-width:0.8;\" x=\"26.925\" xlink:href=\"#m78f1d0a712\" y=\"46.501751\"/>\r\n      </g>\r\n     </g>\r\n     <g id=\"text_14\">\r\n      <!-- 80 -->\r\n      <defs>\r\n       <path d=\"M 31.78125 34.625 \r\nQ 24.75 34.625 20.71875 30.859375 \r\nQ 16.703125 27.09375 16.703125 20.515625 \r\nQ 16.703125 13.921875 20.71875 10.15625 \r\nQ 24.75 6.390625 31.78125 6.390625 \r\nQ 38.8125 6.390625 42.859375 10.171875 \r\nQ 46.921875 13.96875 46.921875 20.515625 \r\nQ 46.921875 27.09375 42.890625 30.859375 \r\nQ 38.875 34.625 31.78125 34.625 \r\nz\r\nM 21.921875 38.8125 \r\nQ 15.578125 40.375 12.03125 44.71875 \r\nQ 8.5 49.078125 8.5 55.328125 \r\nQ 8.5 64.0625 14.71875 69.140625 \r\nQ 20.953125 74.21875 31.78125 74.21875 \r\nQ 42.671875 74.21875 48.875 69.140625 \r\nQ 55.078125 64.0625 55.078125 55.328125 \r\nQ 55.078125 49.078125 51.53125 44.71875 \r\nQ 48 40.375 41.703125 38.8125 \r\nQ 48.828125 37.15625 52.796875 32.3125 \r\nQ 56.78125 27.484375 56.78125 20.515625 \r\nQ 56.78125 9.90625 50.3125 4.234375 \r\nQ 43.84375 -1.421875 31.78125 -1.421875 \r\nQ 19.734375 -1.421875 13.25 4.234375 \r\nQ 6.78125 9.90625 6.78125 20.515625 \r\nQ 6.78125 27.484375 10.78125 32.3125 \r\nQ 14.796875 37.15625 21.921875 38.8125 \r\nz\r\nM 18.3125 54.390625 \r\nQ 18.3125 48.734375 21.84375 45.5625 \r\nQ 25.390625 42.390625 31.78125 42.390625 \r\nQ 38.140625 42.390625 41.71875 45.5625 \r\nQ 45.3125 48.734375 45.3125 54.390625 \r\nQ 45.3125 60.0625 41.71875 63.234375 \r\nQ 38.140625 66.40625 31.78125 66.40625 \r\nQ 25.390625 66.40625 21.84375 63.234375 \r\nQ 18.3125 60.0625 18.3125 54.390625 \r\nz\r\n\" id=\"DejaVuSans-56\"/>\r\n      </defs>\r\n      <g transform=\"translate(7.2 50.30097)scale(0.1 -0.1)\">\r\n       <use xlink:href=\"#DejaVuSans-56\"/>\r\n       <use x=\"63.623047\" xlink:href=\"#DejaVuSans-48\"/>\r\n      </g>\r\n     </g>\r\n    </g>\r\n   </g>\r\n   <g id=\"patch_12\">\r\n    <path d=\"M 26.925 224.64 \r\nL 26.925 7.2 \r\n\" style=\"fill:none;stroke:#000000;stroke-linecap:square;stroke-linejoin:miter;stroke-width:0.8;\"/>\r\n   </g>\r\n   <g id=\"patch_13\">\r\n    <path d=\"M 361.725 224.64 \r\nL 361.725 7.2 \r\n\" style=\"fill:none;stroke:#000000;stroke-linecap:square;stroke-linejoin:miter;stroke-width:0.8;\"/>\r\n   </g>\r\n   <g id=\"patch_14\">\r\n    <path d=\"M 26.925 224.64 \r\nL 361.725 224.64 \r\n\" style=\"fill:none;stroke:#000000;stroke-linecap:square;stroke-linejoin:miter;stroke-width:0.8;\"/>\r\n   </g>\r\n   <g id=\"patch_15\">\r\n    <path d=\"M 26.925 7.2 \r\nL 361.725 7.2 \r\n\" style=\"fill:none;stroke:#000000;stroke-linecap:square;stroke-linejoin:miter;stroke-width:0.8;\"/>\r\n   </g>\r\n  </g>\r\n </g>\r\n <defs>\r\n  <clipPath id=\"pfb14029632\">\r\n   <rect height=\"217.44\" width=\"334.8\" x=\"26.925\" y=\"7.2\"/>\r\n  </clipPath>\r\n </defs>\r\n</svg>\r\n",
      "text/plain": "<Figure size 432x288 with 1 Axes>"
     },
     "metadata": {
      "needs_background": "light"
     },
     "output_type": "display_data"
    }
   ],
   "source": [
    "prod[\"Product Color\"].value_counts().plot(kind=\"bar\")\n",
    "# SERIES and DATAFRAME are the main parts of Pandas"
   ]
  },
  {
   "cell_type": "code",
   "execution_count": 202,
   "metadata": {},
   "outputs": [
    {
     "data": {
      "text/plain": "pandas.core.series.Series"
     },
     "execution_count": 202,
     "metadata": {},
     "output_type": "execute_result"
    }
   ],
   "source": [
    "type(prod[\"Product Color\"].value_counts())"
   ]
  },
  {
   "cell_type": "code",
   "execution_count": 203,
   "metadata": {},
   "outputs": [],
   "source": [
    "#prod.columns"
   ]
  },
  {
   "cell_type": "code",
   "execution_count": 204,
   "metadata": {},
   "outputs": [
    {
     "data": {
      "text/plain": "114"
     },
     "execution_count": 204,
     "metadata": {},
     "output_type": "execute_result"
    }
   ],
   "source": [
    "prod[\"StandardCost\"].nunique()"
   ]
  },
  {
   "cell_type": "code",
   "execution_count": 205,
   "metadata": {},
   "outputs": [
    {
     "data": {
      "text/plain": "3"
     },
     "execution_count": 205,
     "metadata": {},
     "output_type": "execute_result"
    }
   ],
   "source": [
    "prod[\"Style\"].nunique()"
   ]
  },
  {
   "cell_type": "code",
   "execution_count": null,
   "metadata": {},
   "outputs": [],
   "source": []
  },
  {
   "cell_type": "code",
   "execution_count": null,
   "metadata": {},
   "outputs": [],
   "source": []
  },
  {
   "cell_type": "code",
   "execution_count": null,
   "metadata": {},
   "outputs": [],
   "source": []
  },
  {
   "cell_type": "code",
   "execution_count": null,
   "metadata": {},
   "outputs": [],
   "source": []
  },
  {
   "cell_type": "code",
   "execution_count": null,
   "metadata": {},
   "outputs": [],
   "source": []
  },
  {
   "cell_type": "code",
   "execution_count": null,
   "metadata": {},
   "outputs": [],
   "source": []
  },
  {
   "cell_type": "code",
   "execution_count": null,
   "metadata": {},
   "outputs": [],
   "source": []
  },
  {
   "cell_type": "code",
   "execution_count": null,
   "metadata": {},
   "outputs": [],
   "source": []
  },
  {
   "cell_type": "markdown",
   "metadata": {},
   "source": [
    "**Value Counts:** `pd.Series.value_counts()` count the occurrence of each value within our series."
   ]
  },
  {
   "cell_type": "code",
   "execution_count": 206,
   "metadata": {},
   "outputs": [],
   "source": [
    "# show the most popular product colors (aggregated by count, descending by default)"
   ]
  },
  {
   "cell_type": "markdown",
   "metadata": {},
   "source": [
    "**Unique values:** Determine the number of distinct values within a given series."
   ]
  },
  {
   "cell_type": "code",
   "execution_count": 207,
   "metadata": {},
   "outputs": [],
   "source": [
    "# What are the unique colors for the products?"
   ]
  },
  {
   "cell_type": "code",
   "execution_count": 208,
   "metadata": {},
   "outputs": [],
   "source": [
    "# how many distinct colors are there?"
   ]
  },
  {
   "cell_type": "code",
   "execution_count": 209,
   "metadata": {},
   "outputs": [],
   "source": [
    "# We can also include nulls with .nunique() as such:"
   ]
  },
  {
   "cell_type": "markdown",
   "metadata": {},
   "source": [
    "## Filtering on a Single Condition\n",
    "\n",
    "Filtering and sorting are key processes that allow us to drill into the 'nitty gritty' and cross sections of our dataset.\n",
    "\n",
    "To filter, we use a process called **Boolean Filtering**, wherein we define a Boolean condition, and use that Boolean condition to filer on our DataFrame."
   ]
  },
  {
   "cell_type": "markdown",
   "metadata": {},
   "source": [
    "Recall: our given dataset has a column `Color`. Let's see if we can find all products that are `Black`. Let's take a look at the first 10 rows of the dataframe to see how it looks as-is:"
   ]
  },
  {
   "cell_type": "code",
   "execution_count": 210,
   "metadata": {},
   "outputs": [
    {
     "data": {
      "text/plain": "ProductID\n1      NaN\n2      NaN\n3      NaN\n4      NaN\n316    NaN\nName: Style, dtype: object"
     },
     "execution_count": 210,
     "metadata": {},
     "output_type": "execute_result"
    }
   ],
   "source": [
    "# show the first 10 rows of the 'Color' column\n",
    "prod[\"Style\"].head()"
   ]
  },
  {
   "cell_type": "code",
   "execution_count": null,
   "metadata": {},
   "outputs": [],
   "source": []
  },
  {
   "cell_type": "code",
   "execution_count": null,
   "metadata": {},
   "outputs": [],
   "source": []
  },
  {
   "cell_type": "markdown",
   "metadata": {},
   "source": [
    "By applying a `boolean mask` to this dataframe, `== 'Black'`, we can get the following:"
   ]
  },
  {
   "cell_type": "code",
   "execution_count": 211,
   "metadata": {},
   "outputs": [],
   "source": [
    "# set the previous output to == Black\n",
    "mask = (prod[\"Style\"] == 1) & (prod[\"Weight\"] > 20) #the ampersand is shown here as a \"bitwise and\" to go row by row, not just for a single value using \"and\"."
   ]
  },
  {
   "cell_type": "code",
   "execution_count": null,
   "metadata": {},
   "outputs": [],
   "source": []
  },
  {
   "cell_type": "code",
   "execution_count": 212,
   "metadata": {},
   "outputs": [
    {
     "data": {
      "text/plain": "ProductID\n1      False\n2      False\n3      False\n4      False\n316    False\n       ...  \n995    False\n996    False\n997    False\n998    False\n999    False\nName: Style, Length: 504, dtype: bool"
     },
     "execution_count": 212,
     "metadata": {},
     "output_type": "execute_result"
    }
   ],
   "source": [
    "prod[\"Style\"] == 3\n"
   ]
  },
  {
   "cell_type": "code",
   "execution_count": 213,
   "metadata": {},
   "outputs": [
    {
     "data": {
      "text/html": "<div>\n<style scoped>\n    .dataframe tbody tr th:only-of-type {\n        vertical-align: middle;\n    }\n\n    .dataframe tbody tr th {\n        vertical-align: top;\n    }\n\n    .dataframe thead th {\n        text-align: right;\n    }\n</style>\n<table border=\"1\" class=\"dataframe\">\n  <thead>\n    <tr style=\"text-align: right;\">\n      <th></th>\n      <th>HelloWorld</th>\n      <th>ProductNumber</th>\n      <th>MakeFlag</th>\n      <th>FinishedGoodsFlag</th>\n      <th>Product Color</th>\n      <th>SafetyStockLevel</th>\n      <th>ReorderPoint</th>\n      <th>StandardCost</th>\n      <th>ListPrice</th>\n      <th>Product Size</th>\n      <th>...</th>\n      <th>ProductLine</th>\n      <th>Class</th>\n      <th>Style</th>\n      <th>ProductSubcategoryID</th>\n      <th>ProductModelID</th>\n      <th>SellStartDate</th>\n      <th>SellEndDate</th>\n      <th>DiscontinuedDate</th>\n      <th>rowguid</th>\n      <th>ModifiedDate</th>\n    </tr>\n    <tr>\n      <th>ProductID</th>\n      <th></th>\n      <th></th>\n      <th></th>\n      <th></th>\n      <th></th>\n      <th></th>\n      <th></th>\n      <th></th>\n      <th></th>\n      <th></th>\n      <th></th>\n      <th></th>\n      <th></th>\n      <th></th>\n      <th></th>\n      <th></th>\n      <th></th>\n      <th></th>\n      <th></th>\n      <th></th>\n      <th></th>\n    </tr>\n  </thead>\n  <tbody>\n  </tbody>\n</table>\n<p>0 rows × 24 columns</p>\n</div>",
      "text/plain": "Empty DataFrame\nColumns: [HelloWorld, ProductNumber, MakeFlag, FinishedGoodsFlag, Product Color, SafetyStockLevel, ReorderPoint, StandardCost, ListPrice, Product Size, SizeUnitMeasureCode, WeightUnitMeasureCode, Weight, DaysToManufacture, ProductLine, Class, Style, ProductSubcategoryID, ProductModelID, SellStartDate, SellEndDate, DiscontinuedDate, rowguid, ModifiedDate]\nIndex: []\n\n[0 rows x 24 columns]"
     },
     "execution_count": 213,
     "metadata": {},
     "output_type": "execute_result"
    }
   ],
   "source": [
    "prod[mask]"
   ]
  },
  {
   "cell_type": "code",
   "execution_count": 214,
   "metadata": {},
   "outputs": [
    {
     "data": {
      "text/plain": "<bound method NDFrame.describe of                       HelloWorld ProductNumber  MakeFlag  FinishedGoodsFlag  \\\nProductID                                                                     \n1                Adjustable Race       AR-5381         0                  0   \n2                   Bearing Ball       BA-8327         0                  0   \n3                BB Ball Bearing       BE-2349         1                  0   \n4          Headset Ball Bearings       BE-2908         0                  0   \n316                        Blade       BL-2036         1                  0   \n...                          ...           ...       ...                ...   \n995            ML Bottom Bracket       BB-8107         1                  1   \n996            HL Bottom Bracket       BB-9108         1                  1   \n997           Road-750 Black, 44    BK-R19B-44         1                  1   \n998           Road-750 Black, 48    BK-R19B-48         1                  1   \n999           Road-750 Black, 52    BK-R19B-52         1                  1   \n\n          Product Color  SafetyStockLevel  ReorderPoint  StandardCost  \\\nProductID                                                               \n1                   NaN              1000           750        0.0000   \n2                   NaN              1000           750        0.0000   \n3                   NaN               800           600        0.0000   \n4                   NaN               800           600        0.0000   \n316                 NaN               800           600        0.0000   \n...                 ...               ...           ...           ...   \n995                 NaN               500           375       44.9506   \n996                 NaN               500           375       53.9416   \n997               Black               100            75      343.6496   \n998               Black               100            75      343.6496   \n999               Black               100            75      343.6496   \n\n           ListPrice Product Size  ... ProductLine Class  Style  \\\nProductID                          ...                            \n1               0.00          NaN  ...         NaN   NaN    NaN   \n2               0.00          NaN  ...         NaN   NaN    NaN   \n3               0.00          NaN  ...         NaN   NaN    NaN   \n4               0.00          NaN  ...         NaN   NaN    NaN   \n316             0.00          NaN  ...         NaN   NaN    NaN   \n...              ...          ...  ...         ...   ...    ...   \n995           101.24          NaN  ...         NaN    M     NaN   \n996           121.49          NaN  ...         NaN    H     NaN   \n997           539.99           44  ...          R     L      U    \n998           539.99           48  ...          R     L      U    \n999           539.99           52  ...          R     L      U    \n\n           ProductSubcategoryID ProductModelID        SellStartDate  \\\nProductID                                                             \n1                           NaN            NaN  2008-04-30 00:00:00   \n2                           NaN            NaN  2008-04-30 00:00:00   \n3                           NaN            NaN  2008-04-30 00:00:00   \n4                           NaN            NaN  2008-04-30 00:00:00   \n316                         NaN            NaN  2008-04-30 00:00:00   \n...                         ...            ...                  ...   \n995                         5.0           96.0  2013-05-30 00:00:00   \n996                         5.0           97.0  2013-05-30 00:00:00   \n997                         2.0           31.0  2013-05-30 00:00:00   \n998                         2.0           31.0  2013-05-30 00:00:00   \n999                         2.0           31.0  2013-05-30 00:00:00   \n\n          SellEndDate  DiscontinuedDate  \\\nProductID                                 \n1                 NaN               NaN   \n2                 NaN               NaN   \n3                 NaN               NaN   \n4                 NaN               NaN   \n316               NaN               NaN   \n...               ...               ...   \n995               NaN               NaN   \n996               NaN               NaN   \n997               NaN               NaN   \n998               NaN               NaN   \n999               NaN               NaN   \n\n                                          rowguid  \\\nProductID                                           \n1          {694215B7-08F7-4C0D-ACB1-D734BA44C0C8}   \n2          {58AE3C20-4F3A-4749-A7D4-D568806CC537}   \n3          {9C21AED2-5BFA-4F18-BCB8-F11638DC2E4E}   \n4          {ECFED6CB-51FF-49B5-B06C-7D8AC834DB8B}   \n316        {E73E9750-603B-4131-89F5-3DD15ED5FF80}   \n...                                           ...   \n995        {71AB847F-D091-42D6-B735-7B0C2D82FC84}   \n996        {230C47C5-08B2-4CE3-B706-69C0BDD62965}   \n997        {44CE4802-409F-43AB-9B27-CA53421805BE}   \n998        {3DE9A212-1D49-40B6-B10A-F564D981DBDE}   \n999        {AE638923-2B67-4679-B90E-ABBAB17DCA31}   \n\n                            ModifiedDate  \nProductID                                 \n1          2014-02-08 10:01:36.827000000  \n2          2014-02-08 10:01:36.827000000  \n3          2014-02-08 10:01:36.827000000  \n4          2014-02-08 10:01:36.827000000  \n316        2014-02-08 10:01:36.827000000  \n...                                  ...  \n995        2014-02-08 10:01:36.827000000  \n996        2014-02-08 10:01:36.827000000  \n997        2014-02-08 10:01:36.827000000  \n998        2014-02-08 10:01:36.827000000  \n999        2014-02-08 10:01:36.827000000  \n\n[504 rows x 24 columns]>"
     },
     "execution_count": 214,
     "metadata": {},
     "output_type": "execute_result"
    }
   ],
   "source": [
    "prod.describe"
   ]
  },
  {
   "cell_type": "code",
   "execution_count": null,
   "metadata": {},
   "outputs": [],
   "source": []
  },
  {
   "cell_type": "code",
   "execution_count": null,
   "metadata": {},
   "outputs": [],
   "source": []
  },
  {
   "cell_type": "code",
   "execution_count": null,
   "metadata": {},
   "outputs": [],
   "source": []
  },
  {
   "cell_type": "markdown",
   "metadata": {},
   "source": [
    "Now we can use that 'mask' from above, and apply it to our full dataframe. Every time we have a `True` in a row, we return the row. If we have a `False` in that row, we do not return it. The result is a dataframe that only has rows where `Color` is `Black`:"
   ]
  },
  {
   "cell_type": "code",
   "execution_count": 215,
   "metadata": {},
   "outputs": [],
   "source": [
    "# show the full prod DataFrame where Color is Black"
   ]
  },
  {
   "cell_type": "markdown",
   "metadata": {},
   "source": [
    "Let's calculate the **average ListPrice** for the **salable products**."
   ]
  },
  {
   "cell_type": "markdown",
   "metadata": {},
   "source": [
    "> Think: What are the component parts of this problem?"
   ]
  },
  {
   "cell_type": "code",
   "execution_count": 216,
   "metadata": {},
   "outputs": [],
   "source": [
    "# First, we need to get salable items. \n",
    "# Use your data dictionary from the beginning of this lesson."
   ]
  },
  {
   "cell_type": "markdown",
   "metadata": {},
   "source": [
    "Now, we need to find average list price of those above items. Let's just get the 'ListPrice' column for starters."
   ]
  },
  {
   "cell_type": "code",
   "execution_count": null,
   "metadata": {},
   "outputs": [],
   "source": []
  },
  {
   "cell_type": "markdown",
   "metadata": {},
   "source": [
    "To get the average of that column, just take `.mean()`"
   ]
  },
  {
   "cell_type": "code",
   "execution_count": null,
   "metadata": {},
   "outputs": [],
   "source": []
  },
  {
   "cell_type": "markdown",
   "metadata": {},
   "source": [
    "We can take a shortcut and just use `.describe()` here:"
   ]
  },
  {
   "cell_type": "code",
   "execution_count": 217,
   "metadata": {},
   "outputs": [
    {
     "data": {
      "text/plain": "ProductID\n1        0.00\n2        0.00\n3        0.00\n4        0.00\n316      0.00\n        ...  \n995    101.24\n996    121.49\n997    539.99\n998    539.99\n999    539.99\nName: ListPrice, Length: 504, dtype: float64"
     },
     "execution_count": 217,
     "metadata": {},
     "output_type": "execute_result"
    }
   ],
   "source": [
    "prod[\"ListPrice\"]"
   ]
  },
  {
   "cell_type": "code",
   "execution_count": 218,
   "metadata": {},
   "outputs": [
    {
     "data": {
      "text/plain": "<matplotlib.axes._subplots.AxesSubplot at 0x58560d0>"
     },
     "execution_count": 218,
     "metadata": {},
     "output_type": "execute_result"
    },
    {
     "data": {
      "image/png": "[encoded data removed]",
      "image/svg+xml": "<?xml version=\"1.0\" encoding=\"utf-8\" standalone=\"no\"?>\r\n<!DOCTYPE svg PUBLIC \"-//W3C//DTD SVG 1.1//EN\"\r\n  \"http://www.w3.org/Graphics/SVG/1.1/DTD/svg11.dtd\">\r\n<!-- Created with matplotlib (https://matplotlib.org/) -->\r\n<svg height=\"248.518125pt\" version=\"1.1\" viewBox=\"0 0 375.2875 248.518125\" width=\"375.2875pt\" xmlns=\"http://www.w3.org/2000/svg\" xmlns:xlink=\"http://www.w3.org/1999/xlink\">\r\n <defs>\r\n  <style type=\"text/css\">\r\n*{stroke-linecap:butt;stroke-linejoin:round;}\r\n  </style>\r\n </defs>\r\n <g id=\"figure_1\">\r\n  <g id=\"patch_1\">\r\n   <path d=\"M 0 248.518125 \r\nL 375.2875 248.518125 \r\nL 375.2875 0 \r\nL 0 0 \r\nz\r\n\" style=\"fill:none;\"/>\r\n  </g>\r\n  <g id=\"axes_1\">\r\n   <g id=\"patch_2\">\r\n    <path d=\"M 33.2875 224.64 \r\nL 368.0875 224.64 \r\nL 368.0875 7.2 \r\nL 33.2875 7.2 \r\nz\r\n\" style=\"fill:#ffffff;\"/>\r\n   </g>\r\n   <g id=\"patch_3\">\r\n    <path clip-path=\"url(#p7b005d61c9)\" d=\"M 48.505682 224.64 \r\nL 78.942045 224.64 \r\nL 78.942045 17.554286 \r\nL 48.505682 17.554286 \r\nz\r\n\" style=\"fill:#1f77b4;\"/>\r\n   </g>\r\n   <g id=\"patch_4\">\r\n    <path clip-path=\"url(#p7b005d61c9)\" d=\"M 78.942045 224.64 \r\nL 109.378409 224.64 \r\nL 109.378409 208.095962 \r\nL 78.942045 208.095962 \r\nz\r\n\" style=\"fill:#1f77b4;\"/>\r\n   </g>\r\n   <g id=\"patch_5\">\r\n    <path clip-path=\"url(#p7b005d61c9)\" d=\"M 109.378409 224.64 \r\nL 139.814773 224.64 \r\nL 139.814773 205.243542 \r\nL 109.378409 205.243542 \r\nz\r\n\" style=\"fill:#1f77b4;\"/>\r\n   </g>\r\n   <g id=\"patch_6\">\r\n    <path clip-path=\"url(#p7b005d61c9)\" d=\"M 139.814773 224.64 \r\nL 170.251136 224.64 \r\nL 170.251136 211.518867 \r\nL 139.814773 211.518867 \r\nz\r\n\" style=\"fill:#1f77b4;\"/>\r\n   </g>\r\n   <g id=\"patch_7\">\r\n    <path clip-path=\"url(#p7b005d61c9)\" d=\"M 170.251136 224.64 \r\nL 200.6875 224.64 \r\nL 200.6875 213.230319 \r\nL 170.251136 213.230319 \r\nz\r\n\" style=\"fill:#1f77b4;\"/>\r\n   </g>\r\n   <g id=\"patch_8\">\r\n    <path clip-path=\"url(#p7b005d61c9)\" d=\"M 200.6875 224.64 \r\nL 231.123864 224.64 \r\nL 231.123864 224.64 \r\nL 200.6875 224.64 \r\nz\r\n\" style=\"fill:#1f77b4;\"/>\r\n   </g>\r\n   <g id=\"patch_9\">\r\n    <path clip-path=\"url(#p7b005d61c9)\" d=\"M 231.123864 224.64 \r\nL 261.560227 224.64 \r\nL 261.560227 212.089351 \r\nL 231.123864 212.089351 \r\nz\r\n\" style=\"fill:#1f77b4;\"/>\r\n   </g>\r\n   <g id=\"patch_10\">\r\n    <path clip-path=\"url(#p7b005d61c9)\" d=\"M 261.560227 224.64 \r\nL 291.996591 224.64 \r\nL 291.996591 224.64 \r\nL 261.560227 224.64 \r\nz\r\n\" style=\"fill:#1f77b4;\"/>\r\n   </g>\r\n   <g id=\"patch_11\">\r\n    <path clip-path=\"url(#p7b005d61c9)\" d=\"M 291.996591 224.64 \r\nL 322.432955 224.64 \r\nL 322.432955 224.64 \r\nL 291.996591 224.64 \r\nz\r\n\" style=\"fill:#1f77b4;\"/>\r\n   </g>\r\n   <g id=\"patch_12\">\r\n    <path clip-path=\"url(#p7b005d61c9)\" d=\"M 322.432955 224.64 \r\nL 352.869318 224.64 \r\nL 352.869318 217.223707 \r\nL 322.432955 217.223707 \r\nz\r\n\" style=\"fill:#1f77b4;\"/>\r\n   </g>\r\n   <g id=\"matplotlib.axis_1\">\r\n    <g id=\"xtick_1\">\r\n     <g id=\"line2d_1\">\r\n      <path clip-path=\"url(#p7b005d61c9)\" d=\"M 48.505682 224.64 \r\nL 48.505682 7.2 \r\n\" style=\"fill:none;stroke:#b0b0b0;stroke-linecap:square;stroke-width:0.8;\"/>\r\n     </g>\r\n     <g id=\"line2d_2\">\r\n      <defs>\r\n       <path d=\"M 0 0 \r\nL 0 3.5 \r\n\" id=\"mf611646389\" style=\"stroke:#000000;stroke-width:0.8;\"/>\r\n      </defs>\r\n      <g>\r\n       <use style=\"stroke:#000000;stroke-width:0.8;\" x=\"48.505682\" xlink:href=\"#mf611646389\" y=\"224.64\"/>\r\n      </g>\r\n     </g>\r\n     <g id=\"text_1\">\r\n      <!-- 0 -->\r\n      <defs>\r\n       <path d=\"M 31.78125 66.40625 \r\nQ 24.171875 66.40625 20.328125 58.90625 \r\nQ 16.5 51.421875 16.5 36.375 \r\nQ 16.5 21.390625 20.328125 13.890625 \r\nQ 24.171875 6.390625 31.78125 6.390625 \r\nQ 39.453125 6.390625 43.28125 13.890625 \r\nQ 47.125 21.390625 47.125 36.375 \r\nQ 47.125 51.421875 43.28125 58.90625 \r\nQ 39.453125 66.40625 31.78125 66.40625 \r\nz\r\nM 31.78125 74.21875 \r\nQ 44.046875 74.21875 50.515625 64.515625 \r\nQ 56.984375 54.828125 56.984375 36.375 \r\nQ 56.984375 17.96875 50.515625 8.265625 \r\nQ 44.046875 -1.421875 31.78125 -1.421875 \r\nQ 19.53125 -1.421875 13.0625 8.265625 \r\nQ 6.59375 17.96875 6.59375 36.375 \r\nQ 6.59375 54.828125 13.0625 64.515625 \r\nQ 19.53125 74.21875 31.78125 74.21875 \r\nz\r\n\" id=\"DejaVuSans-48\"/>\r\n      </defs>\r\n      <g transform=\"translate(45.324432 239.238437)scale(0.1 -0.1)\">\r\n       <use xlink:href=\"#DejaVuSans-48\"/>\r\n      </g>\r\n     </g>\r\n    </g>\r\n    <g id=\"xtick_2\">\r\n     <g id=\"line2d_3\">\r\n      <path clip-path=\"url(#p7b005d61c9)\" d=\"M 91.035122 224.64 \r\nL 91.035122 7.2 \r\n\" style=\"fill:none;stroke:#b0b0b0;stroke-linecap:square;stroke-width:0.8;\"/>\r\n     </g>\r\n     <g id=\"line2d_4\">\r\n      <g>\r\n       <use style=\"stroke:#000000;stroke-width:0.8;\" x=\"91.035122\" xlink:href=\"#mf611646389\" y=\"224.64\"/>\r\n      </g>\r\n     </g>\r\n     <g id=\"text_2\">\r\n      <!-- 500 -->\r\n      <defs>\r\n       <path d=\"M 10.796875 72.90625 \r\nL 49.515625 72.90625 \r\nL 49.515625 64.59375 \r\nL 19.828125 64.59375 \r\nL 19.828125 46.734375 \r\nQ 21.96875 47.46875 24.109375 47.828125 \r\nQ 26.265625 48.1875 28.421875 48.1875 \r\nQ 40.625 48.1875 47.75 41.5 \r\nQ 54.890625 34.8125 54.890625 23.390625 \r\nQ 54.890625 11.625 47.5625 5.09375 \r\nQ 40.234375 -1.421875 26.90625 -1.421875 \r\nQ 22.3125 -1.421875 17.546875 -0.640625 \r\nQ 12.796875 0.140625 7.71875 1.703125 \r\nL 7.71875 11.625 \r\nQ 12.109375 9.234375 16.796875 8.0625 \r\nQ 21.484375 6.890625 26.703125 6.890625 \r\nQ 35.15625 6.890625 40.078125 11.328125 \r\nQ 45.015625 15.765625 45.015625 23.390625 \r\nQ 45.015625 31 40.078125 35.4375 \r\nQ 35.15625 39.890625 26.703125 39.890625 \r\nQ 22.75 39.890625 18.8125 39.015625 \r\nQ 14.890625 38.140625 10.796875 36.28125 \r\nz\r\n\" id=\"DejaVuSans-53\"/>\r\n      </defs>\r\n      <g transform=\"translate(81.491372 239.238437)scale(0.1 -0.1)\">\r\n       <use xlink:href=\"#DejaVuSans-53\"/>\r\n       <use x=\"63.623047\" xlink:href=\"#DejaVuSans-48\"/>\r\n       <use x=\"127.246094\" xlink:href=\"#DejaVuSans-48\"/>\r\n      </g>\r\n     </g>\r\n    </g>\r\n    <g id=\"xtick_3\">\r\n     <g id=\"line2d_5\">\r\n      <path clip-path=\"url(#p7b005d61c9)\" d=\"M 133.564561 224.64 \r\nL 133.564561 7.2 \r\n\" style=\"fill:none;stroke:#b0b0b0;stroke-linecap:square;stroke-width:0.8;\"/>\r\n     </g>\r\n     <g id=\"line2d_6\">\r\n      <g>\r\n       <use style=\"stroke:#000000;stroke-width:0.8;\" x=\"133.564561\" xlink:href=\"#mf611646389\" y=\"224.64\"/>\r\n      </g>\r\n     </g>\r\n     <g id=\"text_3\">\r\n      <!-- 1000 -->\r\n      <defs>\r\n       <path d=\"M 12.40625 8.296875 \r\nL 28.515625 8.296875 \r\nL 28.515625 63.921875 \r\nL 10.984375 60.40625 \r\nL 10.984375 69.390625 \r\nL 28.421875 72.90625 \r\nL 38.28125 72.90625 \r\nL 38.28125 8.296875 \r\nL 54.390625 8.296875 \r\nL 54.390625 0 \r\nL 12.40625 0 \r\nz\r\n\" id=\"DejaVuSans-49\"/>\r\n      </defs>\r\n      <g transform=\"translate(120.839561 239.238437)scale(0.1 -0.1)\">\r\n       <use xlink:href=\"#DejaVuSans-49\"/>\r\n       <use x=\"63.623047\" xlink:href=\"#DejaVuSans-48\"/>\r\n       <use x=\"127.246094\" xlink:href=\"#DejaVuSans-48\"/>\r\n       <use x=\"190.869141\" xlink:href=\"#DejaVuSans-48\"/>\r\n      </g>\r\n     </g>\r\n    </g>\r\n    <g id=\"xtick_4\">\r\n     <g id=\"line2d_7\">\r\n      <path clip-path=\"url(#p7b005d61c9)\" d=\"M 176.094001 224.64 \r\nL 176.094001 7.2 \r\n\" style=\"fill:none;stroke:#b0b0b0;stroke-linecap:square;stroke-width:0.8;\"/>\r\n     </g>\r\n     <g id=\"line2d_8\">\r\n      <g>\r\n       <use style=\"stroke:#000000;stroke-width:0.8;\" x=\"176.094001\" xlink:href=\"#mf611646389\" y=\"224.64\"/>\r\n      </g>\r\n     </g>\r\n     <g id=\"text_4\">\r\n      <!-- 1500 -->\r\n      <g transform=\"translate(163.369001 239.238437)scale(0.1 -0.1)\">\r\n       <use xlink:href=\"#DejaVuSans-49\"/>\r\n       <use x=\"63.623047\" xlink:href=\"#DejaVuSans-53\"/>\r\n       <use x=\"127.246094\" xlink:href=\"#DejaVuSans-48\"/>\r\n       <use x=\"190.869141\" xlink:href=\"#DejaVuSans-48\"/>\r\n      </g>\r\n     </g>\r\n    </g>\r\n    <g id=\"xtick_5\">\r\n     <g id=\"line2d_9\">\r\n      <path clip-path=\"url(#p7b005d61c9)\" d=\"M 218.623441 224.64 \r\nL 218.623441 7.2 \r\n\" style=\"fill:none;stroke:#b0b0b0;stroke-linecap:square;stroke-width:0.8;\"/>\r\n     </g>\r\n     <g id=\"line2d_10\">\r\n      <g>\r\n       <use style=\"stroke:#000000;stroke-width:0.8;\" x=\"218.623441\" xlink:href=\"#mf611646389\" y=\"224.64\"/>\r\n      </g>\r\n     </g>\r\n     <g id=\"text_5\">\r\n      <!-- 2000 -->\r\n      <defs>\r\n       <path d=\"M 19.1875 8.296875 \r\nL 53.609375 8.296875 \r\nL 53.609375 0 \r\nL 7.328125 0 \r\nL 7.328125 8.296875 \r\nQ 12.9375 14.109375 22.625 23.890625 \r\nQ 32.328125 33.6875 34.8125 36.53125 \r\nQ 39.546875 41.84375 41.421875 45.53125 \r\nQ 43.3125 49.21875 43.3125 52.78125 \r\nQ 43.3125 58.59375 39.234375 62.25 \r\nQ 35.15625 65.921875 28.609375 65.921875 \r\nQ 23.96875 65.921875 18.8125 64.3125 \r\nQ 13.671875 62.703125 7.8125 59.421875 \r\nL 7.8125 69.390625 \r\nQ 13.765625 71.78125 18.9375 73 \r\nQ 24.125 74.21875 28.421875 74.21875 \r\nQ 39.75 74.21875 46.484375 68.546875 \r\nQ 53.21875 62.890625 53.21875 53.421875 \r\nQ 53.21875 48.921875 51.53125 44.890625 \r\nQ 49.859375 40.875 45.40625 35.40625 \r\nQ 44.1875 33.984375 37.640625 27.21875 \r\nQ 31.109375 20.453125 19.1875 8.296875 \r\nz\r\n\" id=\"DejaVuSans-50\"/>\r\n      </defs>\r\n      <g transform=\"translate(205.898441 239.238437)scale(0.1 -0.1)\">\r\n       <use xlink:href=\"#DejaVuSans-50\"/>\r\n       <use x=\"63.623047\" xlink:href=\"#DejaVuSans-48\"/>\r\n       <use x=\"127.246094\" xlink:href=\"#DejaVuSans-48\"/>\r\n       <use x=\"190.869141\" xlink:href=\"#DejaVuSans-48\"/>\r\n      </g>\r\n     </g>\r\n    </g>\r\n    <g id=\"xtick_6\">\r\n     <g id=\"line2d_11\">\r\n      <path clip-path=\"url(#p7b005d61c9)\" d=\"M 261.15288 224.64 \r\nL 261.15288 7.2 \r\n\" style=\"fill:none;stroke:#b0b0b0;stroke-linecap:square;stroke-width:0.8;\"/>\r\n     </g>\r\n     <g id=\"line2d_12\">\r\n      <g>\r\n       <use style=\"stroke:#000000;stroke-width:0.8;\" x=\"261.15288\" xlink:href=\"#mf611646389\" y=\"224.64\"/>\r\n      </g>\r\n     </g>\r\n     <g id=\"text_6\">\r\n      <!-- 2500 -->\r\n      <g transform=\"translate(248.42788 239.238437)scale(0.1 -0.1)\">\r\n       <use xlink:href=\"#DejaVuSans-50\"/>\r\n       <use x=\"63.623047\" xlink:href=\"#DejaVuSans-53\"/>\r\n       <use x=\"127.246094\" xlink:href=\"#DejaVuSans-48\"/>\r\n       <use x=\"190.869141\" xlink:href=\"#DejaVuSans-48\"/>\r\n      </g>\r\n     </g>\r\n    </g>\r\n    <g id=\"xtick_7\">\r\n     <g id=\"line2d_13\">\r\n      <path clip-path=\"url(#p7b005d61c9)\" d=\"M 303.68232 224.64 \r\nL 303.68232 7.2 \r\n\" style=\"fill:none;stroke:#b0b0b0;stroke-linecap:square;stroke-width:0.8;\"/>\r\n     </g>\r\n     <g id=\"line2d_14\">\r\n      <g>\r\n       <use style=\"stroke:#000000;stroke-width:0.8;\" x=\"303.68232\" xlink:href=\"#mf611646389\" y=\"224.64\"/>\r\n      </g>\r\n     </g>\r\n     <g id=\"text_7\">\r\n      <!-- 3000 -->\r\n      <defs>\r\n       <path d=\"M 40.578125 39.3125 \r\nQ 47.65625 37.796875 51.625 33 \r\nQ 55.609375 28.21875 55.609375 21.1875 \r\nQ 55.609375 10.40625 48.1875 4.484375 \r\nQ 40.765625 -1.421875 27.09375 -1.421875 \r\nQ 22.515625 -1.421875 17.65625 -0.515625 \r\nQ 12.796875 0.390625 7.625 2.203125 \r\nL 7.625 11.71875 \r\nQ 11.71875 9.328125 16.59375 8.109375 \r\nQ 21.484375 6.890625 26.8125 6.890625 \r\nQ 36.078125 6.890625 40.9375 10.546875 \r\nQ 45.796875 14.203125 45.796875 21.1875 \r\nQ 45.796875 27.640625 41.28125 31.265625 \r\nQ 36.765625 34.90625 28.71875 34.90625 \r\nL 20.21875 34.90625 \r\nL 20.21875 43.015625 \r\nL 29.109375 43.015625 \r\nQ 36.375 43.015625 40.234375 45.921875 \r\nQ 44.09375 48.828125 44.09375 54.296875 \r\nQ 44.09375 59.90625 40.109375 62.90625 \r\nQ 36.140625 65.921875 28.71875 65.921875 \r\nQ 24.65625 65.921875 20.015625 65.03125 \r\nQ 15.375 64.15625 9.8125 62.3125 \r\nL 9.8125 71.09375 \r\nQ 15.4375 72.65625 20.34375 73.4375 \r\nQ 25.25 74.21875 29.59375 74.21875 \r\nQ 40.828125 74.21875 47.359375 69.109375 \r\nQ 53.90625 64.015625 53.90625 55.328125 \r\nQ 53.90625 49.265625 50.4375 45.09375 \r\nQ 46.96875 40.921875 40.578125 39.3125 \r\nz\r\n\" id=\"DejaVuSans-51\"/>\r\n      </defs>\r\n      <g transform=\"translate(290.95732 239.238437)scale(0.1 -0.1)\">\r\n       <use xlink:href=\"#DejaVuSans-51\"/>\r\n       <use x=\"63.623047\" xlink:href=\"#DejaVuSans-48\"/>\r\n       <use x=\"127.246094\" xlink:href=\"#DejaVuSans-48\"/>\r\n       <use x=\"190.869141\" xlink:href=\"#DejaVuSans-48\"/>\r\n      </g>\r\n     </g>\r\n    </g>\r\n    <g id=\"xtick_8\">\r\n     <g id=\"line2d_15\">\r\n      <path clip-path=\"url(#p7b005d61c9)\" d=\"M 346.21176 224.64 \r\nL 346.21176 7.2 \r\n\" style=\"fill:none;stroke:#b0b0b0;stroke-linecap:square;stroke-width:0.8;\"/>\r\n     </g>\r\n     <g id=\"line2d_16\">\r\n      <g>\r\n       <use style=\"stroke:#000000;stroke-width:0.8;\" x=\"346.21176\" xlink:href=\"#mf611646389\" y=\"224.64\"/>\r\n      </g>\r\n     </g>\r\n     <g id=\"text_8\">\r\n      <!-- 3500 -->\r\n      <g transform=\"translate(333.48676 239.238437)scale(0.1 -0.1)\">\r\n       <use xlink:href=\"#DejaVuSans-51\"/>\r\n       <use x=\"63.623047\" xlink:href=\"#DejaVuSans-53\"/>\r\n       <use x=\"127.246094\" xlink:href=\"#DejaVuSans-48\"/>\r\n       <use x=\"190.869141\" xlink:href=\"#DejaVuSans-48\"/>\r\n      </g>\r\n     </g>\r\n    </g>\r\n   </g>\r\n   <g id=\"matplotlib.axis_2\">\r\n    <g id=\"ytick_1\">\r\n     <g id=\"line2d_17\">\r\n      <path clip-path=\"url(#p7b005d61c9)\" d=\"M 33.2875 224.64 \r\nL 368.0875 224.64 \r\n\" style=\"fill:none;stroke:#b0b0b0;stroke-linecap:square;stroke-width:0.8;\"/>\r\n     </g>\r\n     <g id=\"line2d_18\">\r\n      <defs>\r\n       <path d=\"M 0 0 \r\nL -3.5 0 \r\n\" id=\"mdc1a638eee\" style=\"stroke:#000000;stroke-width:0.8;\"/>\r\n      </defs>\r\n      <g>\r\n       <use style=\"stroke:#000000;stroke-width:0.8;\" x=\"33.2875\" xlink:href=\"#mdc1a638eee\" y=\"224.64\"/>\r\n      </g>\r\n     </g>\r\n     <g id=\"text_9\">\r\n      <!-- 0 -->\r\n      <g transform=\"translate(19.925 228.439219)scale(0.1 -0.1)\">\r\n       <use xlink:href=\"#DejaVuSans-48\"/>\r\n      </g>\r\n     </g>\r\n    </g>\r\n    <g id=\"ytick_2\">\r\n     <g id=\"line2d_19\">\r\n      <path clip-path=\"url(#p7b005d61c9)\" d=\"M 33.2875 196.115797 \r\nL 368.0875 196.115797 \r\n\" style=\"fill:none;stroke:#b0b0b0;stroke-linecap:square;stroke-width:0.8;\"/>\r\n     </g>\r\n     <g id=\"line2d_20\">\r\n      <g>\r\n       <use style=\"stroke:#000000;stroke-width:0.8;\" x=\"33.2875\" xlink:href=\"#mdc1a638eee\" y=\"196.115797\"/>\r\n      </g>\r\n     </g>\r\n     <g id=\"text_10\">\r\n      <!-- 50 -->\r\n      <g transform=\"translate(13.5625 199.915016)scale(0.1 -0.1)\">\r\n       <use xlink:href=\"#DejaVuSans-53\"/>\r\n       <use x=\"63.623047\" xlink:href=\"#DejaVuSans-48\"/>\r\n      </g>\r\n     </g>\r\n    </g>\r\n    <g id=\"ytick_3\">\r\n     <g id=\"line2d_21\">\r\n      <path clip-path=\"url(#p7b005d61c9)\" d=\"M 33.2875 167.591594 \r\nL 368.0875 167.591594 \r\n\" style=\"fill:none;stroke:#b0b0b0;stroke-linecap:square;stroke-width:0.8;\"/>\r\n     </g>\r\n     <g id=\"line2d_22\">\r\n      <g>\r\n       <use style=\"stroke:#000000;stroke-width:0.8;\" x=\"33.2875\" xlink:href=\"#mdc1a638eee\" y=\"167.591594\"/>\r\n      </g>\r\n     </g>\r\n     <g id=\"text_11\">\r\n      <!-- 100 -->\r\n      <g transform=\"translate(7.2 171.390813)scale(0.1 -0.1)\">\r\n       <use xlink:href=\"#DejaVuSans-49\"/>\r\n       <use x=\"63.623047\" xlink:href=\"#DejaVuSans-48\"/>\r\n       <use x=\"127.246094\" xlink:href=\"#DejaVuSans-48\"/>\r\n      </g>\r\n     </g>\r\n    </g>\r\n    <g id=\"ytick_4\">\r\n     <g id=\"line2d_23\">\r\n      <path clip-path=\"url(#p7b005d61c9)\" d=\"M 33.2875 139.067391 \r\nL 368.0875 139.067391 \r\n\" style=\"fill:none;stroke:#b0b0b0;stroke-linecap:square;stroke-width:0.8;\"/>\r\n     </g>\r\n     <g id=\"line2d_24\">\r\n      <g>\r\n       <use style=\"stroke:#000000;stroke-width:0.8;\" x=\"33.2875\" xlink:href=\"#mdc1a638eee\" y=\"139.067391\"/>\r\n      </g>\r\n     </g>\r\n     <g id=\"text_12\">\r\n      <!-- 150 -->\r\n      <g transform=\"translate(7.2 142.86661)scale(0.1 -0.1)\">\r\n       <use xlink:href=\"#DejaVuSans-49\"/>\r\n       <use x=\"63.623047\" xlink:href=\"#DejaVuSans-53\"/>\r\n       <use x=\"127.246094\" xlink:href=\"#DejaVuSans-48\"/>\r\n      </g>\r\n     </g>\r\n    </g>\r\n    <g id=\"ytick_5\">\r\n     <g id=\"line2d_25\">\r\n      <path clip-path=\"url(#p7b005d61c9)\" d=\"M 33.2875 110.543188 \r\nL 368.0875 110.543188 \r\n\" style=\"fill:none;stroke:#b0b0b0;stroke-linecap:square;stroke-width:0.8;\"/>\r\n     </g>\r\n     <g id=\"line2d_26\">\r\n      <g>\r\n       <use style=\"stroke:#000000;stroke-width:0.8;\" x=\"33.2875\" xlink:href=\"#mdc1a638eee\" y=\"110.543188\"/>\r\n      </g>\r\n     </g>\r\n     <g id=\"text_13\">\r\n      <!-- 200 -->\r\n      <g transform=\"translate(7.2 114.342406)scale(0.1 -0.1)\">\r\n       <use xlink:href=\"#DejaVuSans-50\"/>\r\n       <use x=\"63.623047\" xlink:href=\"#DejaVuSans-48\"/>\r\n       <use x=\"127.246094\" xlink:href=\"#DejaVuSans-48\"/>\r\n      </g>\r\n     </g>\r\n    </g>\r\n    <g id=\"ytick_6\">\r\n     <g id=\"line2d_27\">\r\n      <path clip-path=\"url(#p7b005d61c9)\" d=\"M 33.2875 82.018985 \r\nL 368.0875 82.018985 \r\n\" style=\"fill:none;stroke:#b0b0b0;stroke-linecap:square;stroke-width:0.8;\"/>\r\n     </g>\r\n     <g id=\"line2d_28\">\r\n      <g>\r\n       <use style=\"stroke:#000000;stroke-width:0.8;\" x=\"33.2875\" xlink:href=\"#mdc1a638eee\" y=\"82.018985\"/>\r\n      </g>\r\n     </g>\r\n     <g id=\"text_14\">\r\n      <!-- 250 -->\r\n      <g transform=\"translate(7.2 85.818203)scale(0.1 -0.1)\">\r\n       <use xlink:href=\"#DejaVuSans-50\"/>\r\n       <use x=\"63.623047\" xlink:href=\"#DejaVuSans-53\"/>\r\n       <use x=\"127.246094\" xlink:href=\"#DejaVuSans-48\"/>\r\n      </g>\r\n     </g>\r\n    </g>\r\n    <g id=\"ytick_7\">\r\n     <g id=\"line2d_29\">\r\n      <path clip-path=\"url(#p7b005d61c9)\" d=\"M 33.2875 53.494782 \r\nL 368.0875 53.494782 \r\n\" style=\"fill:none;stroke:#b0b0b0;stroke-linecap:square;stroke-width:0.8;\"/>\r\n     </g>\r\n     <g id=\"line2d_30\">\r\n      <g>\r\n       <use style=\"stroke:#000000;stroke-width:0.8;\" x=\"33.2875\" xlink:href=\"#mdc1a638eee\" y=\"53.494782\"/>\r\n      </g>\r\n     </g>\r\n     <g id=\"text_15\">\r\n      <!-- 300 -->\r\n      <g transform=\"translate(7.2 57.294)scale(0.1 -0.1)\">\r\n       <use xlink:href=\"#DejaVuSans-51\"/>\r\n       <use x=\"63.623047\" xlink:href=\"#DejaVuSans-48\"/>\r\n       <use x=\"127.246094\" xlink:href=\"#DejaVuSans-48\"/>\r\n      </g>\r\n     </g>\r\n    </g>\r\n    <g id=\"ytick_8\">\r\n     <g id=\"line2d_31\">\r\n      <path clip-path=\"url(#p7b005d61c9)\" d=\"M 33.2875 24.970579 \r\nL 368.0875 24.970579 \r\n\" style=\"fill:none;stroke:#b0b0b0;stroke-linecap:square;stroke-width:0.8;\"/>\r\n     </g>\r\n     <g id=\"line2d_32\">\r\n      <g>\r\n       <use style=\"stroke:#000000;stroke-width:0.8;\" x=\"33.2875\" xlink:href=\"#mdc1a638eee\" y=\"24.970579\"/>\r\n      </g>\r\n     </g>\r\n     <g id=\"text_16\">\r\n      <!-- 350 -->\r\n      <g transform=\"translate(7.2 28.769797)scale(0.1 -0.1)\">\r\n       <use xlink:href=\"#DejaVuSans-51\"/>\r\n       <use x=\"63.623047\" xlink:href=\"#DejaVuSans-53\"/>\r\n       <use x=\"127.246094\" xlink:href=\"#DejaVuSans-48\"/>\r\n      </g>\r\n     </g>\r\n    </g>\r\n   </g>\r\n   <g id=\"patch_13\">\r\n    <path d=\"M 33.2875 224.64 \r\nL 33.2875 7.2 \r\n\" style=\"fill:none;stroke:#000000;stroke-linecap:square;stroke-linejoin:miter;stroke-width:0.8;\"/>\r\n   </g>\r\n   <g id=\"patch_14\">\r\n    <path d=\"M 368.0875 224.64 \r\nL 368.0875 7.2 \r\n\" style=\"fill:none;stroke:#000000;stroke-linecap:square;stroke-linejoin:miter;stroke-width:0.8;\"/>\r\n   </g>\r\n   <g id=\"patch_15\">\r\n    <path d=\"M 33.2875 224.64 \r\nL 368.0875 224.64 \r\n\" style=\"fill:none;stroke:#000000;stroke-linecap:square;stroke-linejoin:miter;stroke-width:0.8;\"/>\r\n   </g>\r\n   <g id=\"patch_16\">\r\n    <path d=\"M 33.2875 7.2 \r\nL 368.0875 7.2 \r\n\" style=\"fill:none;stroke:#000000;stroke-linecap:square;stroke-linejoin:miter;stroke-width:0.8;\"/>\r\n   </g>\r\n  </g>\r\n </g>\r\n <defs>\r\n  <clipPath id=\"p7b005d61c9\">\r\n   <rect height=\"217.44\" width=\"334.8\" x=\"33.2875\" y=\"7.2\"/>\r\n  </clipPath>\r\n </defs>\r\n</svg>\r\n",
      "text/plain": "<Figure size 432x288 with 1 Axes>"
     },
     "metadata": {
      "needs_background": "light"
     },
     "output_type": "display_data"
    }
   ],
   "source": [
    "prod[\"ListPrice\"].hist()\n"
   ]
  },
  {
   "cell_type": "code",
   "execution_count": 219,
   "metadata": {},
   "outputs": [],
   "source": [
    "mask = (prod[\"ListPrice\"] < 500)"
   ]
  },
  {
   "cell_type": "code",
   "execution_count": 220,
   "metadata": {},
   "outputs": [],
   "source": [
    "filtered_prod = prod[mask]"
   ]
  },
  {
   "cell_type": "code",
   "execution_count": 221,
   "metadata": {},
   "outputs": [
    {
     "data": {
      "text/plain": "<matplotlib.axes._subplots.AxesSubplot at 0x11066590>"
     },
     "execution_count": 221,
     "metadata": {},
     "output_type": "execute_result"
    },
    {
     "data": {
      "image/png": "[encoded data removed]",
      "image/svg+xml": "<?xml version=\"1.0\" encoding=\"utf-8\" standalone=\"no\"?>\r\n<!DOCTYPE svg PUBLIC \"-//W3C//DTD SVG 1.1//EN\"\r\n  \"http://www.w3.org/Graphics/SVG/1.1/DTD/svg11.dtd\">\r\n<!-- Created with matplotlib (https://matplotlib.org/) -->\r\n<svg height=\"248.518125pt\" version=\"1.1\" viewBox=\"0 0 375.2875 248.518125\" width=\"375.2875pt\" xmlns=\"http://www.w3.org/2000/svg\" xmlns:xlink=\"http://www.w3.org/1999/xlink\">\r\n <defs>\r\n  <style type=\"text/css\">\r\n*{stroke-linecap:butt;stroke-linejoin:round;}\r\n  </style>\r\n </defs>\r\n <g id=\"figure_1\">\r\n  <g id=\"patch_1\">\r\n   <path d=\"M 0 248.518125 \r\nL 375.2875 248.518125 \r\nL 375.2875 0 \r\nL 0 0 \r\nz\r\n\" style=\"fill:none;\"/>\r\n  </g>\r\n  <g id=\"axes_1\">\r\n   <g id=\"patch_2\">\r\n    <path d=\"M 33.2875 224.64 \r\nL 368.0875 224.64 \r\nL 368.0875 7.2 \r\nL 33.2875 7.2 \r\nz\r\n\" style=\"fill:#ffffff;\"/>\r\n   </g>\r\n   <g id=\"patch_3\">\r\n    <path clip-path=\"url(#pac64e619e8)\" d=\"M 48.505682 224.64 \r\nL 78.942045 224.64 \r\nL 78.942045 17.554286 \r\nL 48.505682 17.554286 \r\nz\r\n\" style=\"fill:#1f77b4;\"/>\r\n   </g>\r\n   <g id=\"patch_4\">\r\n    <path clip-path=\"url(#pac64e619e8)\" d=\"M 78.942045 224.64 \r\nL 109.378409 224.64 \r\nL 109.378409 192.520583 \r\nL 78.942045 192.520583 \r\nz\r\n\" style=\"fill:#1f77b4;\"/>\r\n   </g>\r\n   <g id=\"patch_5\">\r\n    <path clip-path=\"url(#pac64e619e8)\" d=\"M 109.378409 224.64 \r\nL 139.814773 224.64 \r\nL 139.814773 210.270787 \r\nL 109.378409 210.270787 \r\nz\r\n\" style=\"fill:#1f77b4;\"/>\r\n   </g>\r\n   <g id=\"patch_6\">\r\n    <path clip-path=\"url(#pac64e619e8)\" d=\"M 139.814773 224.64 \r\nL 170.251136 224.64 \r\nL 170.251136 216.187522 \r\nL 139.814773 216.187522 \r\nz\r\n\" style=\"fill:#1f77b4;\"/>\r\n   </g>\r\n   <g id=\"patch_7\">\r\n    <path clip-path=\"url(#pac64e619e8)\" d=\"M 170.251136 224.64 \r\nL 200.6875 224.64 \r\nL 200.6875 220.413761 \r\nL 170.251136 220.413761 \r\nz\r\n\" style=\"fill:#1f77b4;\"/>\r\n   </g>\r\n   <g id=\"patch_8\">\r\n    <path clip-path=\"url(#pac64e619e8)\" d=\"M 200.6875 224.64 \r\nL 231.123864 224.64 \r\nL 231.123864 221.259009 \r\nL 200.6875 221.259009 \r\nz\r\n\" style=\"fill:#1f77b4;\"/>\r\n   </g>\r\n   <g id=\"patch_9\">\r\n    <path clip-path=\"url(#pac64e619e8)\" d=\"M 231.123864 224.64 \r\nL 261.560227 224.64 \r\nL 261.560227 212.806531 \r\nL 231.123864 212.806531 \r\nz\r\n\" style=\"fill:#1f77b4;\"/>\r\n   </g>\r\n   <g id=\"patch_10\">\r\n    <path clip-path=\"url(#pac64e619e8)\" d=\"M 261.560227 224.64 \r\nL 291.996591 224.64 \r\nL 291.996591 223.794752 \r\nL 261.560227 223.794752 \r\nz\r\n\" style=\"fill:#1f77b4;\"/>\r\n   </g>\r\n   <g id=\"patch_11\">\r\n    <path clip-path=\"url(#pac64e619e8)\" d=\"M 291.996591 224.64 \r\nL 322.432955 224.64 \r\nL 322.432955 196.746822 \r\nL 291.996591 196.746822 \r\nz\r\n\" style=\"fill:#1f77b4;\"/>\r\n   </g>\r\n   <g id=\"patch_12\">\r\n    <path clip-path=\"url(#pac64e619e8)\" d=\"M 322.432955 224.64 \r\nL 352.869318 224.64 \r\nL 352.869318 223.794752 \r\nL 322.432955 223.794752 \r\nz\r\n\" style=\"fill:#1f77b4;\"/>\r\n   </g>\r\n   <g id=\"matplotlib.axis_1\">\r\n    <g id=\"xtick_1\">\r\n     <g id=\"line2d_1\">\r\n      <path clip-path=\"url(#pac64e619e8)\" d=\"M 48.505682 224.64 \r\nL 48.505682 7.2 \r\n\" style=\"fill:none;stroke:#b0b0b0;stroke-linecap:square;stroke-width:0.8;\"/>\r\n     </g>\r\n     <g id=\"line2d_2\">\r\n      <defs>\r\n       <path d=\"M 0 0 \r\nL 0 3.5 \r\n\" id=\"mcee7ff7516\" style=\"stroke:#000000;stroke-width:0.8;\"/>\r\n      </defs>\r\n      <g>\r\n       <use style=\"stroke:#000000;stroke-width:0.8;\" x=\"48.505682\" xlink:href=\"#mcee7ff7516\" y=\"224.64\"/>\r\n      </g>\r\n     </g>\r\n     <g id=\"text_1\">\r\n      <!-- 0 -->\r\n      <defs>\r\n       <path d=\"M 31.78125 66.40625 \r\nQ 24.171875 66.40625 20.328125 58.90625 \r\nQ 16.5 51.421875 16.5 36.375 \r\nQ 16.5 21.390625 20.328125 13.890625 \r\nQ 24.171875 6.390625 31.78125 6.390625 \r\nQ 39.453125 6.390625 43.28125 13.890625 \r\nQ 47.125 21.390625 47.125 36.375 \r\nQ 47.125 51.421875 43.28125 58.90625 \r\nQ 39.453125 66.40625 31.78125 66.40625 \r\nz\r\nM 31.78125 74.21875 \r\nQ 44.046875 74.21875 50.515625 64.515625 \r\nQ 56.984375 54.828125 56.984375 36.375 \r\nQ 56.984375 17.96875 50.515625 8.265625 \r\nQ 44.046875 -1.421875 31.78125 -1.421875 \r\nQ 19.53125 -1.421875 13.0625 8.265625 \r\nQ 6.59375 17.96875 6.59375 36.375 \r\nQ 6.59375 54.828125 13.0625 64.515625 \r\nQ 19.53125 74.21875 31.78125 74.21875 \r\nz\r\n\" id=\"DejaVuSans-48\"/>\r\n      </defs>\r\n      <g transform=\"translate(45.324432 239.238437)scale(0.1 -0.1)\">\r\n       <use xlink:href=\"#DejaVuSans-48\"/>\r\n      </g>\r\n     </g>\r\n    </g>\r\n    <g id=\"xtick_2\">\r\n     <g id=\"line2d_3\">\r\n      <path clip-path=\"url(#pac64e619e8)\" d=\"M 86.082367 224.64 \r\nL 86.082367 7.2 \r\n\" style=\"fill:none;stroke:#b0b0b0;stroke-linecap:square;stroke-width:0.8;\"/>\r\n     </g>\r\n     <g id=\"line2d_4\">\r\n      <g>\r\n       <use style=\"stroke:#000000;stroke-width:0.8;\" x=\"86.082367\" xlink:href=\"#mcee7ff7516\" y=\"224.64\"/>\r\n      </g>\r\n     </g>\r\n     <g id=\"text_2\">\r\n      <!-- 50 -->\r\n      <defs>\r\n       <path d=\"M 10.796875 72.90625 \r\nL 49.515625 72.90625 \r\nL 49.515625 64.59375 \r\nL 19.828125 64.59375 \r\nL 19.828125 46.734375 \r\nQ 21.96875 47.46875 24.109375 47.828125 \r\nQ 26.265625 48.1875 28.421875 48.1875 \r\nQ 40.625 48.1875 47.75 41.5 \r\nQ 54.890625 34.8125 54.890625 23.390625 \r\nQ 54.890625 11.625 47.5625 5.09375 \r\nQ 40.234375 -1.421875 26.90625 -1.421875 \r\nQ 22.3125 -1.421875 17.546875 -0.640625 \r\nQ 12.796875 0.140625 7.71875 1.703125 \r\nL 7.71875 11.625 \r\nQ 12.109375 9.234375 16.796875 8.0625 \r\nQ 21.484375 6.890625 26.703125 6.890625 \r\nQ 35.15625 6.890625 40.078125 11.328125 \r\nQ 45.015625 15.765625 45.015625 23.390625 \r\nQ 45.015625 31 40.078125 35.4375 \r\nQ 35.15625 39.890625 26.703125 39.890625 \r\nQ 22.75 39.890625 18.8125 39.015625 \r\nQ 14.890625 38.140625 10.796875 36.28125 \r\nz\r\n\" id=\"DejaVuSans-53\"/>\r\n      </defs>\r\n      <g transform=\"translate(79.719867 239.238437)scale(0.1 -0.1)\">\r\n       <use xlink:href=\"#DejaVuSans-53\"/>\r\n       <use x=\"63.623047\" xlink:href=\"#DejaVuSans-48\"/>\r\n      </g>\r\n     </g>\r\n    </g>\r\n    <g id=\"xtick_3\">\r\n     <g id=\"line2d_5\">\r\n      <path clip-path=\"url(#pac64e619e8)\" d=\"M 123.659053 224.64 \r\nL 123.659053 7.2 \r\n\" style=\"fill:none;stroke:#b0b0b0;stroke-linecap:square;stroke-width:0.8;\"/>\r\n     </g>\r\n     <g id=\"line2d_6\">\r\n      <g>\r\n       <use style=\"stroke:#000000;stroke-width:0.8;\" x=\"123.659053\" xlink:href=\"#mcee7ff7516\" y=\"224.64\"/>\r\n      </g>\r\n     </g>\r\n     <g id=\"text_3\">\r\n      <!-- 100 -->\r\n      <defs>\r\n       <path d=\"M 12.40625 8.296875 \r\nL 28.515625 8.296875 \r\nL 28.515625 63.921875 \r\nL 10.984375 60.40625 \r\nL 10.984375 69.390625 \r\nL 28.421875 72.90625 \r\nL 38.28125 72.90625 \r\nL 38.28125 8.296875 \r\nL 54.390625 8.296875 \r\nL 54.390625 0 \r\nL 12.40625 0 \r\nz\r\n\" id=\"DejaVuSans-49\"/>\r\n      </defs>\r\n      <g transform=\"translate(114.115303 239.238437)scale(0.1 -0.1)\">\r\n       <use xlink:href=\"#DejaVuSans-49\"/>\r\n       <use x=\"63.623047\" xlink:href=\"#DejaVuSans-48\"/>\r\n       <use x=\"127.246094\" xlink:href=\"#DejaVuSans-48\"/>\r\n      </g>\r\n     </g>\r\n    </g>\r\n    <g id=\"xtick_4\">\r\n     <g id=\"line2d_7\">\r\n      <path clip-path=\"url(#pac64e619e8)\" d=\"M 161.235738 224.64 \r\nL 161.235738 7.2 \r\n\" style=\"fill:none;stroke:#b0b0b0;stroke-linecap:square;stroke-width:0.8;\"/>\r\n     </g>\r\n     <g id=\"line2d_8\">\r\n      <g>\r\n       <use style=\"stroke:#000000;stroke-width:0.8;\" x=\"161.235738\" xlink:href=\"#mcee7ff7516\" y=\"224.64\"/>\r\n      </g>\r\n     </g>\r\n     <g id=\"text_4\">\r\n      <!-- 150 -->\r\n      <g transform=\"translate(151.691988 239.238437)scale(0.1 -0.1)\">\r\n       <use xlink:href=\"#DejaVuSans-49\"/>\r\n       <use x=\"63.623047\" xlink:href=\"#DejaVuSans-53\"/>\r\n       <use x=\"127.246094\" xlink:href=\"#DejaVuSans-48\"/>\r\n      </g>\r\n     </g>\r\n    </g>\r\n    <g id=\"xtick_5\">\r\n     <g id=\"line2d_9\">\r\n      <path clip-path=\"url(#pac64e619e8)\" d=\"M 198.812423 224.64 \r\nL 198.812423 7.2 \r\n\" style=\"fill:none;stroke:#b0b0b0;stroke-linecap:square;stroke-width:0.8;\"/>\r\n     </g>\r\n     <g id=\"line2d_10\">\r\n      <g>\r\n       <use style=\"stroke:#000000;stroke-width:0.8;\" x=\"198.812423\" xlink:href=\"#mcee7ff7516\" y=\"224.64\"/>\r\n      </g>\r\n     </g>\r\n     <g id=\"text_5\">\r\n      <!-- 200 -->\r\n      <defs>\r\n       <path d=\"M 19.1875 8.296875 \r\nL 53.609375 8.296875 \r\nL 53.609375 0 \r\nL 7.328125 0 \r\nL 7.328125 8.296875 \r\nQ 12.9375 14.109375 22.625 23.890625 \r\nQ 32.328125 33.6875 34.8125 36.53125 \r\nQ 39.546875 41.84375 41.421875 45.53125 \r\nQ 43.3125 49.21875 43.3125 52.78125 \r\nQ 43.3125 58.59375 39.234375 62.25 \r\nQ 35.15625 65.921875 28.609375 65.921875 \r\nQ 23.96875 65.921875 18.8125 64.3125 \r\nQ 13.671875 62.703125 7.8125 59.421875 \r\nL 7.8125 69.390625 \r\nQ 13.765625 71.78125 18.9375 73 \r\nQ 24.125 74.21875 28.421875 74.21875 \r\nQ 39.75 74.21875 46.484375 68.546875 \r\nQ 53.21875 62.890625 53.21875 53.421875 \r\nQ 53.21875 48.921875 51.53125 44.890625 \r\nQ 49.859375 40.875 45.40625 35.40625 \r\nQ 44.1875 33.984375 37.640625 27.21875 \r\nQ 31.109375 20.453125 19.1875 8.296875 \r\nz\r\n\" id=\"DejaVuSans-50\"/>\r\n      </defs>\r\n      <g transform=\"translate(189.268673 239.238437)scale(0.1 -0.1)\">\r\n       <use xlink:href=\"#DejaVuSans-50\"/>\r\n       <use x=\"63.623047\" xlink:href=\"#DejaVuSans-48\"/>\r\n       <use x=\"127.246094\" xlink:href=\"#DejaVuSans-48\"/>\r\n      </g>\r\n     </g>\r\n    </g>\r\n    <g id=\"xtick_6\">\r\n     <g id=\"line2d_11\">\r\n      <path clip-path=\"url(#pac64e619e8)\" d=\"M 236.389109 224.64 \r\nL 236.389109 7.2 \r\n\" style=\"fill:none;stroke:#b0b0b0;stroke-linecap:square;stroke-width:0.8;\"/>\r\n     </g>\r\n     <g id=\"line2d_12\">\r\n      <g>\r\n       <use style=\"stroke:#000000;stroke-width:0.8;\" x=\"236.389109\" xlink:href=\"#mcee7ff7516\" y=\"224.64\"/>\r\n      </g>\r\n     </g>\r\n     <g id=\"text_6\">\r\n      <!-- 250 -->\r\n      <g transform=\"translate(226.845359 239.238437)scale(0.1 -0.1)\">\r\n       <use xlink:href=\"#DejaVuSans-50\"/>\r\n       <use x=\"63.623047\" xlink:href=\"#DejaVuSans-53\"/>\r\n       <use x=\"127.246094\" xlink:href=\"#DejaVuSans-48\"/>\r\n      </g>\r\n     </g>\r\n    </g>\r\n    <g id=\"xtick_7\">\r\n     <g id=\"line2d_13\">\r\n      <path clip-path=\"url(#pac64e619e8)\" d=\"M 273.965794 224.64 \r\nL 273.965794 7.2 \r\n\" style=\"fill:none;stroke:#b0b0b0;stroke-linecap:square;stroke-width:0.8;\"/>\r\n     </g>\r\n     <g id=\"line2d_14\">\r\n      <g>\r\n       <use style=\"stroke:#000000;stroke-width:0.8;\" x=\"273.965794\" xlink:href=\"#mcee7ff7516\" y=\"224.64\"/>\r\n      </g>\r\n     </g>\r\n     <g id=\"text_7\">\r\n      <!-- 300 -->\r\n      <defs>\r\n       <path d=\"M 40.578125 39.3125 \r\nQ 47.65625 37.796875 51.625 33 \r\nQ 55.609375 28.21875 55.609375 21.1875 \r\nQ 55.609375 10.40625 48.1875 4.484375 \r\nQ 40.765625 -1.421875 27.09375 -1.421875 \r\nQ 22.515625 -1.421875 17.65625 -0.515625 \r\nQ 12.796875 0.390625 7.625 2.203125 \r\nL 7.625 11.71875 \r\nQ 11.71875 9.328125 16.59375 8.109375 \r\nQ 21.484375 6.890625 26.8125 6.890625 \r\nQ 36.078125 6.890625 40.9375 10.546875 \r\nQ 45.796875 14.203125 45.796875 21.1875 \r\nQ 45.796875 27.640625 41.28125 31.265625 \r\nQ 36.765625 34.90625 28.71875 34.90625 \r\nL 20.21875 34.90625 \r\nL 20.21875 43.015625 \r\nL 29.109375 43.015625 \r\nQ 36.375 43.015625 40.234375 45.921875 \r\nQ 44.09375 48.828125 44.09375 54.296875 \r\nQ 44.09375 59.90625 40.109375 62.90625 \r\nQ 36.140625 65.921875 28.71875 65.921875 \r\nQ 24.65625 65.921875 20.015625 65.03125 \r\nQ 15.375 64.15625 9.8125 62.3125 \r\nL 9.8125 71.09375 \r\nQ 15.4375 72.65625 20.34375 73.4375 \r\nQ 25.25 74.21875 29.59375 74.21875 \r\nQ 40.828125 74.21875 47.359375 69.109375 \r\nQ 53.90625 64.015625 53.90625 55.328125 \r\nQ 53.90625 49.265625 50.4375 45.09375 \r\nQ 46.96875 40.921875 40.578125 39.3125 \r\nz\r\n\" id=\"DejaVuSans-51\"/>\r\n      </defs>\r\n      <g transform=\"translate(264.422044 239.238437)scale(0.1 -0.1)\">\r\n       <use xlink:href=\"#DejaVuSans-51\"/>\r\n       <use x=\"63.623047\" xlink:href=\"#DejaVuSans-48\"/>\r\n       <use x=\"127.246094\" xlink:href=\"#DejaVuSans-48\"/>\r\n      </g>\r\n     </g>\r\n    </g>\r\n    <g id=\"xtick_8\">\r\n     <g id=\"line2d_15\">\r\n      <path clip-path=\"url(#pac64e619e8)\" d=\"M 311.54248 224.64 \r\nL 311.54248 7.2 \r\n\" style=\"fill:none;stroke:#b0b0b0;stroke-linecap:square;stroke-width:0.8;\"/>\r\n     </g>\r\n     <g id=\"line2d_16\">\r\n      <g>\r\n       <use style=\"stroke:#000000;stroke-width:0.8;\" x=\"311.54248\" xlink:href=\"#mcee7ff7516\" y=\"224.64\"/>\r\n      </g>\r\n     </g>\r\n     <g id=\"text_8\">\r\n      <!-- 350 -->\r\n      <g transform=\"translate(301.99873 239.238437)scale(0.1 -0.1)\">\r\n       <use xlink:href=\"#DejaVuSans-51\"/>\r\n       <use x=\"63.623047\" xlink:href=\"#DejaVuSans-53\"/>\r\n       <use x=\"127.246094\" xlink:href=\"#DejaVuSans-48\"/>\r\n      </g>\r\n     </g>\r\n    </g>\r\n    <g id=\"xtick_9\">\r\n     <g id=\"line2d_17\">\r\n      <path clip-path=\"url(#pac64e619e8)\" d=\"M 349.119165 224.64 \r\nL 349.119165 7.2 \r\n\" style=\"fill:none;stroke:#b0b0b0;stroke-linecap:square;stroke-width:0.8;\"/>\r\n     </g>\r\n     <g id=\"line2d_18\">\r\n      <g>\r\n       <use style=\"stroke:#000000;stroke-width:0.8;\" x=\"349.119165\" xlink:href=\"#mcee7ff7516\" y=\"224.64\"/>\r\n      </g>\r\n     </g>\r\n     <g id=\"text_9\">\r\n      <!-- 400 -->\r\n      <defs>\r\n       <path d=\"M 37.796875 64.3125 \r\nL 12.890625 25.390625 \r\nL 37.796875 25.390625 \r\nz\r\nM 35.203125 72.90625 \r\nL 47.609375 72.90625 \r\nL 47.609375 25.390625 \r\nL 58.015625 25.390625 \r\nL 58.015625 17.1875 \r\nL 47.609375 17.1875 \r\nL 47.609375 0 \r\nL 37.796875 0 \r\nL 37.796875 17.1875 \r\nL 4.890625 17.1875 \r\nL 4.890625 26.703125 \r\nz\r\n\" id=\"DejaVuSans-52\"/>\r\n      </defs>\r\n      <g transform=\"translate(339.575415 239.238437)scale(0.1 -0.1)\">\r\n       <use xlink:href=\"#DejaVuSans-52\"/>\r\n       <use x=\"63.623047\" xlink:href=\"#DejaVuSans-48\"/>\r\n       <use x=\"127.246094\" xlink:href=\"#DejaVuSans-48\"/>\r\n      </g>\r\n     </g>\r\n    </g>\r\n   </g>\r\n   <g id=\"matplotlib.axis_2\">\r\n    <g id=\"ytick_1\">\r\n     <g id=\"line2d_19\">\r\n      <path clip-path=\"url(#pac64e619e8)\" d=\"M 33.2875 224.64 \r\nL 368.0875 224.64 \r\n\" style=\"fill:none;stroke:#b0b0b0;stroke-linecap:square;stroke-width:0.8;\"/>\r\n     </g>\r\n     <g id=\"line2d_20\">\r\n      <defs>\r\n       <path d=\"M 0 0 \r\nL -3.5 0 \r\n\" id=\"m38f340e8c1\" style=\"stroke:#000000;stroke-width:0.8;\"/>\r\n      </defs>\r\n      <g>\r\n       <use style=\"stroke:#000000;stroke-width:0.8;\" x=\"33.2875\" xlink:href=\"#m38f340e8c1\" y=\"224.64\"/>\r\n      </g>\r\n     </g>\r\n     <g id=\"text_10\">\r\n      <!-- 0 -->\r\n      <g transform=\"translate(19.925 228.439219)scale(0.1 -0.1)\">\r\n       <use xlink:href=\"#DejaVuSans-48\"/>\r\n      </g>\r\n     </g>\r\n    </g>\r\n    <g id=\"ytick_2\">\r\n     <g id=\"line2d_21\">\r\n      <path clip-path=\"url(#pac64e619e8)\" d=\"M 33.2875 182.377609 \r\nL 368.0875 182.377609 \r\n\" style=\"fill:none;stroke:#b0b0b0;stroke-linecap:square;stroke-width:0.8;\"/>\r\n     </g>\r\n     <g id=\"line2d_22\">\r\n      <g>\r\n       <use style=\"stroke:#000000;stroke-width:0.8;\" x=\"33.2875\" xlink:href=\"#m38f340e8c1\" y=\"182.377609\"/>\r\n      </g>\r\n     </g>\r\n     <g id=\"text_11\">\r\n      <!-- 50 -->\r\n      <g transform=\"translate(13.5625 186.176828)scale(0.1 -0.1)\">\r\n       <use xlink:href=\"#DejaVuSans-53\"/>\r\n       <use x=\"63.623047\" xlink:href=\"#DejaVuSans-48\"/>\r\n      </g>\r\n     </g>\r\n    </g>\r\n    <g id=\"ytick_3\">\r\n     <g id=\"line2d_23\">\r\n      <path clip-path=\"url(#pac64e619e8)\" d=\"M 33.2875 140.115219 \r\nL 368.0875 140.115219 \r\n\" style=\"fill:none;stroke:#b0b0b0;stroke-linecap:square;stroke-width:0.8;\"/>\r\n     </g>\r\n     <g id=\"line2d_24\">\r\n      <g>\r\n       <use style=\"stroke:#000000;stroke-width:0.8;\" x=\"33.2875\" xlink:href=\"#m38f340e8c1\" y=\"140.115219\"/>\r\n      </g>\r\n     </g>\r\n     <g id=\"text_12\">\r\n      <!-- 100 -->\r\n      <g transform=\"translate(7.2 143.914437)scale(0.1 -0.1)\">\r\n       <use xlink:href=\"#DejaVuSans-49\"/>\r\n       <use x=\"63.623047\" xlink:href=\"#DejaVuSans-48\"/>\r\n       <use x=\"127.246094\" xlink:href=\"#DejaVuSans-48\"/>\r\n      </g>\r\n     </g>\r\n    </g>\r\n    <g id=\"ytick_4\">\r\n     <g id=\"line2d_25\">\r\n      <path clip-path=\"url(#pac64e619e8)\" d=\"M 33.2875 97.852828 \r\nL 368.0875 97.852828 \r\n\" style=\"fill:none;stroke:#b0b0b0;stroke-linecap:square;stroke-width:0.8;\"/>\r\n     </g>\r\n     <g id=\"line2d_26\">\r\n      <g>\r\n       <use style=\"stroke:#000000;stroke-width:0.8;\" x=\"33.2875\" xlink:href=\"#m38f340e8c1\" y=\"97.852828\"/>\r\n      </g>\r\n     </g>\r\n     <g id=\"text_13\">\r\n      <!-- 150 -->\r\n      <g transform=\"translate(7.2 101.652047)scale(0.1 -0.1)\">\r\n       <use xlink:href=\"#DejaVuSans-49\"/>\r\n       <use x=\"63.623047\" xlink:href=\"#DejaVuSans-53\"/>\r\n       <use x=\"127.246094\" xlink:href=\"#DejaVuSans-48\"/>\r\n      </g>\r\n     </g>\r\n    </g>\r\n    <g id=\"ytick_5\">\r\n     <g id=\"line2d_27\">\r\n      <path clip-path=\"url(#pac64e619e8)\" d=\"M 33.2875 55.590437 \r\nL 368.0875 55.590437 \r\n\" style=\"fill:none;stroke:#b0b0b0;stroke-linecap:square;stroke-width:0.8;\"/>\r\n     </g>\r\n     <g id=\"line2d_28\">\r\n      <g>\r\n       <use style=\"stroke:#000000;stroke-width:0.8;\" x=\"33.2875\" xlink:href=\"#m38f340e8c1\" y=\"55.590437\"/>\r\n      </g>\r\n     </g>\r\n     <g id=\"text_14\">\r\n      <!-- 200 -->\r\n      <g transform=\"translate(7.2 59.389656)scale(0.1 -0.1)\">\r\n       <use xlink:href=\"#DejaVuSans-50\"/>\r\n       <use x=\"63.623047\" xlink:href=\"#DejaVuSans-48\"/>\r\n       <use x=\"127.246094\" xlink:href=\"#DejaVuSans-48\"/>\r\n      </g>\r\n     </g>\r\n    </g>\r\n    <g id=\"ytick_6\">\r\n     <g id=\"line2d_29\">\r\n      <path clip-path=\"url(#pac64e619e8)\" d=\"M 33.2875 13.328047 \r\nL 368.0875 13.328047 \r\n\" style=\"fill:none;stroke:#b0b0b0;stroke-linecap:square;stroke-width:0.8;\"/>\r\n     </g>\r\n     <g id=\"line2d_30\">\r\n      <g>\r\n       <use style=\"stroke:#000000;stroke-width:0.8;\" x=\"33.2875\" xlink:href=\"#m38f340e8c1\" y=\"13.328047\"/>\r\n      </g>\r\n     </g>\r\n     <g id=\"text_15\">\r\n      <!-- 250 -->\r\n      <g transform=\"translate(7.2 17.127265)scale(0.1 -0.1)\">\r\n       <use xlink:href=\"#DejaVuSans-50\"/>\r\n       <use x=\"63.623047\" xlink:href=\"#DejaVuSans-53\"/>\r\n       <use x=\"127.246094\" xlink:href=\"#DejaVuSans-48\"/>\r\n      </g>\r\n     </g>\r\n    </g>\r\n   </g>\r\n   <g id=\"patch_13\">\r\n    <path d=\"M 33.2875 224.64 \r\nL 33.2875 7.2 \r\n\" style=\"fill:none;stroke:#000000;stroke-linecap:square;stroke-linejoin:miter;stroke-width:0.8;\"/>\r\n   </g>\r\n   <g id=\"patch_14\">\r\n    <path d=\"M 368.0875 224.64 \r\nL 368.0875 7.2 \r\n\" style=\"fill:none;stroke:#000000;stroke-linecap:square;stroke-linejoin:miter;stroke-width:0.8;\"/>\r\n   </g>\r\n   <g id=\"patch_15\">\r\n    <path d=\"M 33.2875 224.64 \r\nL 368.0875 224.64 \r\n\" style=\"fill:none;stroke:#000000;stroke-linecap:square;stroke-linejoin:miter;stroke-width:0.8;\"/>\r\n   </g>\r\n   <g id=\"patch_16\">\r\n    <path d=\"M 33.2875 7.2 \r\nL 368.0875 7.2 \r\n\" style=\"fill:none;stroke:#000000;stroke-linecap:square;stroke-linejoin:miter;stroke-width:0.8;\"/>\r\n   </g>\r\n  </g>\r\n </g>\r\n <defs>\r\n  <clipPath id=\"pac64e619e8\">\r\n   <rect height=\"217.44\" width=\"334.8\" x=\"33.2875\" y=\"7.2\"/>\r\n  </clipPath>\r\n </defs>\r\n</svg>\r\n",
      "text/plain": "<Figure size 432x288 with 1 Axes>"
     },
     "metadata": {
      "needs_background": "light"
     },
     "output_type": "display_data"
    }
   ],
   "source": [
    "filtered_prod[\"ListPrice\"].hist()"
   ]
  },
  {
   "cell_type": "code",
   "execution_count": null,
   "metadata": {},
   "outputs": [],
   "source": []
  },
  {
   "cell_type": "code",
   "execution_count": null,
   "metadata": {},
   "outputs": [],
   "source": []
  },
  {
   "cell_type": "code",
   "execution_count": null,
   "metadata": {},
   "outputs": [],
   "source": []
  },
  {
   "cell_type": "code",
   "execution_count": null,
   "metadata": {},
   "outputs": [],
   "source": []
  },
  {
   "cell_type": "markdown",
   "metadata": {},
   "source": [
    "**Sneak peek**: Another handy trick is to use `.hist()` to get a distribution of a continuous variable - in this case, `ListPrice`. We'll cover this more in future lessons:"
   ]
  },
  {
   "cell_type": "code",
   "execution_count": null,
   "metadata": {},
   "outputs": [],
   "source": []
  },
  {
   "cell_type": "markdown",
   "metadata": {},
   "source": [
    "## Filtering on Multiple Conditions\n",
    "\n",
    "Here, we will filter on _multiple conditions_. Before, we filtered on rows where Color was Black. We also filtered where FinishedGoodsFlag was equal to 1. Let's see what happens when we filter on *both* simultaneously. \n",
    "\n",
    "The format for multiple conditions is:\n",
    "\n",
    "`df[ (df['col1'] == value1) & (df['col2'] == value2) ]`\n",
    "\n",
    "Or, more simply:\n",
    "\n",
    "`df[ (CONDITION 1) & (CONDITION 2) ]`\n",
    "\n",
    "Which eventually may evaluate to something like:\n",
    "\n",
    "`df[ True & False ]`\n",
    "\n",
    "...on a row-by-row basis. If the end result is `False`, the row is omitted.\n",
    "\n",
    "_Don't forget parentheses in your conditions!_ This is a common mistake."
   ]
  },
  {
   "cell_type": "code",
   "execution_count": 222,
   "metadata": {},
   "outputs": [],
   "source": [
    "# Let's look at a table where Color is Black, AND FinishedGoodsFlag is 1"
   ]
  },
  {
   "cell_type": "code",
   "execution_count": 223,
   "metadata": {},
   "outputs": [],
   "source": [
    "# Here we have an example of a list price of greater than 50, \n",
    "# OR a product size that is not equal to 'XL'"
   ]
  },
  {
   "cell_type": "markdown",
   "metadata": {},
   "source": [
    "## Sorting\n",
    "\n",
    "We can sort one column of our DataFrame as well."
   ]
  },
  {
   "cell_type": "code",
   "execution_count": 226,
   "metadata": {},
   "outputs": [
    {
     "ename": "KeyError",
     "evalue": "'ProductName'",
     "output_type": "error",
     "traceback": [
      "\u001b[1;31m---------------------------------------------------------------------------\u001b[0m",
      "\u001b[1;31mKeyError\u001b[0m                                  Traceback (most recent call last)",
      "\u001b[1;32m<ipython-input-226-467673c935d7>\u001b[0m in \u001b[0;36m<module>\u001b[1;34m\u001b[0m\n\u001b[0;32m      1\u001b[0m \u001b[1;31m# let's sort by standard cost, descending\u001b[0m\u001b[1;33m\u001b[0m\u001b[1;33m\u001b[0m\u001b[1;33m\u001b[0m\u001b[0m\n\u001b[1;32m----> 2\u001b[1;33m \u001b[0mprod\u001b[0m\u001b[1;33m.\u001b[0m\u001b[0msort_values\u001b[0m\u001b[1;33m(\u001b[0m\u001b[0mby\u001b[0m\u001b[1;33m=\u001b[0m\u001b[1;33m[\u001b[0m\u001b[1;34m\"StandardCost\"\u001b[0m\u001b[1;33m,\u001b[0m\u001b[1;34m\"ProductName\"\u001b[0m\u001b[1;33m]\u001b[0m\u001b[1;33m,\u001b[0m \u001b[0mascending\u001b[0m\u001b[1;33m=\u001b[0m\u001b[1;32mFalse\u001b[0m\u001b[1;33m)\u001b[0m\u001b[1;33m\u001b[0m\u001b[1;33m\u001b[0m\u001b[0m\n\u001b[0m",
      "\u001b[1;32m~\\AppData\\Local\\Programs\\Python\\Python37-32\\lib\\site-packages\\pandas\\core\\frame.py\u001b[0m in \u001b[0;36msort_values\u001b[1;34m(self, by, axis, ascending, inplace, kind, na_position)\u001b[0m\n\u001b[0;32m   4984\u001b[0m             \u001b[1;32mfrom\u001b[0m \u001b[0mpandas\u001b[0m\u001b[1;33m.\u001b[0m\u001b[0mcore\u001b[0m\u001b[1;33m.\u001b[0m\u001b[0msorting\u001b[0m \u001b[1;32mimport\u001b[0m \u001b[0mlexsort_indexer\u001b[0m\u001b[1;33m\u001b[0m\u001b[1;33m\u001b[0m\u001b[0m\n\u001b[0;32m   4985\u001b[0m \u001b[1;33m\u001b[0m\u001b[0m\n\u001b[1;32m-> 4986\u001b[1;33m             \u001b[0mkeys\u001b[0m \u001b[1;33m=\u001b[0m \u001b[1;33m[\u001b[0m\u001b[0mself\u001b[0m\u001b[1;33m.\u001b[0m\u001b[0m_get_label_or_level_values\u001b[0m\u001b[1;33m(\u001b[0m\u001b[0mx\u001b[0m\u001b[1;33m,\u001b[0m \u001b[0maxis\u001b[0m\u001b[1;33m=\u001b[0m\u001b[0maxis\u001b[0m\u001b[1;33m)\u001b[0m \u001b[1;32mfor\u001b[0m \u001b[0mx\u001b[0m \u001b[1;32min\u001b[0m \u001b[0mby\u001b[0m\u001b[1;33m]\u001b[0m\u001b[1;33m\u001b[0m\u001b[1;33m\u001b[0m\u001b[0m\n\u001b[0m\u001b[0;32m   4987\u001b[0m             \u001b[0mindexer\u001b[0m \u001b[1;33m=\u001b[0m \u001b[0mlexsort_indexer\u001b[0m\u001b[1;33m(\u001b[0m\u001b[0mkeys\u001b[0m\u001b[1;33m,\u001b[0m \u001b[0morders\u001b[0m\u001b[1;33m=\u001b[0m\u001b[0mascending\u001b[0m\u001b[1;33m,\u001b[0m \u001b[0mna_position\u001b[0m\u001b[1;33m=\u001b[0m\u001b[0mna_position\u001b[0m\u001b[1;33m)\u001b[0m\u001b[1;33m\u001b[0m\u001b[1;33m\u001b[0m\u001b[0m\n\u001b[0;32m   4988\u001b[0m             \u001b[0mindexer\u001b[0m \u001b[1;33m=\u001b[0m \u001b[0mensure_platform_int\u001b[0m\u001b[1;33m(\u001b[0m\u001b[0mindexer\u001b[0m\u001b[1;33m)\u001b[0m\u001b[1;33m\u001b[0m\u001b[1;33m\u001b[0m\u001b[0m\n",
      "\u001b[1;32m~\\AppData\\Local\\Programs\\Python\\Python37-32\\lib\\site-packages\\pandas\\core\\frame.py\u001b[0m in \u001b[0;36m<listcomp>\u001b[1;34m(.0)\u001b[0m\n\u001b[0;32m   4984\u001b[0m             \u001b[1;32mfrom\u001b[0m \u001b[0mpandas\u001b[0m\u001b[1;33m.\u001b[0m\u001b[0mcore\u001b[0m\u001b[1;33m.\u001b[0m\u001b[0msorting\u001b[0m \u001b[1;32mimport\u001b[0m \u001b[0mlexsort_indexer\u001b[0m\u001b[1;33m\u001b[0m\u001b[1;33m\u001b[0m\u001b[0m\n\u001b[0;32m   4985\u001b[0m \u001b[1;33m\u001b[0m\u001b[0m\n\u001b[1;32m-> 4986\u001b[1;33m             \u001b[0mkeys\u001b[0m \u001b[1;33m=\u001b[0m \u001b[1;33m[\u001b[0m\u001b[0mself\u001b[0m\u001b[1;33m.\u001b[0m\u001b[0m_get_label_or_level_values\u001b[0m\u001b[1;33m(\u001b[0m\u001b[0mx\u001b[0m\u001b[1;33m,\u001b[0m \u001b[0maxis\u001b[0m\u001b[1;33m=\u001b[0m\u001b[0maxis\u001b[0m\u001b[1;33m)\u001b[0m \u001b[1;32mfor\u001b[0m \u001b[0mx\u001b[0m \u001b[1;32min\u001b[0m \u001b[0mby\u001b[0m\u001b[1;33m]\u001b[0m\u001b[1;33m\u001b[0m\u001b[1;33m\u001b[0m\u001b[0m\n\u001b[0m\u001b[0;32m   4987\u001b[0m             \u001b[0mindexer\u001b[0m \u001b[1;33m=\u001b[0m \u001b[0mlexsort_indexer\u001b[0m\u001b[1;33m(\u001b[0m\u001b[0mkeys\u001b[0m\u001b[1;33m,\u001b[0m \u001b[0morders\u001b[0m\u001b[1;33m=\u001b[0m\u001b[0mascending\u001b[0m\u001b[1;33m,\u001b[0m \u001b[0mna_position\u001b[0m\u001b[1;33m=\u001b[0m\u001b[0mna_position\u001b[0m\u001b[1;33m)\u001b[0m\u001b[1;33m\u001b[0m\u001b[1;33m\u001b[0m\u001b[0m\n\u001b[0;32m   4988\u001b[0m             \u001b[0mindexer\u001b[0m \u001b[1;33m=\u001b[0m \u001b[0mensure_platform_int\u001b[0m\u001b[1;33m(\u001b[0m\u001b[0mindexer\u001b[0m\u001b[1;33m)\u001b[0m\u001b[1;33m\u001b[0m\u001b[1;33m\u001b[0m\u001b[0m\n",
      "\u001b[1;32m~\\AppData\\Local\\Programs\\Python\\Python37-32\\lib\\site-packages\\pandas\\core\\generic.py\u001b[0m in \u001b[0;36m_get_label_or_level_values\u001b[1;34m(self, key, axis)\u001b[0m\n\u001b[0;32m   1772\u001b[0m             \u001b[0mvalues\u001b[0m \u001b[1;33m=\u001b[0m \u001b[0mself\u001b[0m\u001b[1;33m.\u001b[0m\u001b[0maxes\u001b[0m\u001b[1;33m[\u001b[0m\u001b[0maxis\u001b[0m\u001b[1;33m]\u001b[0m\u001b[1;33m.\u001b[0m\u001b[0mget_level_values\u001b[0m\u001b[1;33m(\u001b[0m\u001b[0mkey\u001b[0m\u001b[1;33m)\u001b[0m\u001b[1;33m.\u001b[0m\u001b[0m_values\u001b[0m\u001b[1;33m\u001b[0m\u001b[1;33m\u001b[0m\u001b[0m\n\u001b[0;32m   1773\u001b[0m         \u001b[1;32melse\u001b[0m\u001b[1;33m:\u001b[0m\u001b[1;33m\u001b[0m\u001b[1;33m\u001b[0m\u001b[0m\n\u001b[1;32m-> 1774\u001b[1;33m             \u001b[1;32mraise\u001b[0m \u001b[0mKeyError\u001b[0m\u001b[1;33m(\u001b[0m\u001b[0mkey\u001b[0m\u001b[1;33m)\u001b[0m\u001b[1;33m\u001b[0m\u001b[1;33m\u001b[0m\u001b[0m\n\u001b[0m\u001b[0;32m   1775\u001b[0m \u001b[1;33m\u001b[0m\u001b[0m\n\u001b[0;32m   1776\u001b[0m         \u001b[1;31m# Check for duplicates\u001b[0m\u001b[1;33m\u001b[0m\u001b[1;33m\u001b[0m\u001b[1;33m\u001b[0m\u001b[0m\n",
      "\u001b[1;31mKeyError\u001b[0m: 'ProductName'"
     ]
    }
   ],
   "source": [
    "# let's sort by standard cost, descending\n",
    "prod.sort_values(by=[\"StandardCost\",\"ProductName\"], ascending=False)"
   ]
  },
  {
   "cell_type": "code",
   "execution_count": null,
   "metadata": {},
   "outputs": [],
   "source": []
  },
  {
   "cell_type": "code",
   "execution_count": null,
   "metadata": {},
   "outputs": [],
   "source": []
  },
  {
   "cell_type": "code",
   "execution_count": null,
   "metadata": {},
   "outputs": [],
   "source": []
  },
  {
   "cell_type": "code",
   "execution_count": null,
   "metadata": {},
   "outputs": [],
   "source": []
  },
  {
   "cell_type": "code",
   "execution_count": null,
   "metadata": {},
   "outputs": [],
   "source": []
  },
  {
   "cell_type": "code",
   "execution_count": null,
   "metadata": {},
   "outputs": [],
   "source": []
  },
  {
   "cell_type": "code",
   "execution_count": null,
   "metadata": {},
   "outputs": [],
   "source": []
  },
  {
   "cell_type": "markdown",
   "metadata": {},
   "source": [
    "This one is a little more advanced, but it demonstrates a few things:\n",
    "- Conversion of a `numpy.ndarray` object (return type of `pd.Series.unique()`) into a `pd.Series` object\n",
    "- `pd.Series.sort_values` with the `by=` kwarg omitted (if only one column is the operand, `by=` doesn't need specified\n",
    "- Alphabetical sort of a string field, `ascending=True` means A->Z\n",
    "- Inclusion of nulls, `NaN` in a string field (versus omission with a float/int as prior example)"
   ]
  },
  {
   "cell_type": "code",
   "execution_count": null,
   "metadata": {},
   "outputs": [],
   "source": []
  },
  {
   "cell_type": "markdown",
   "metadata": {},
   "source": [
    "## Independent Exercises\n",
    "\n",
    "Do your best to complete the following prompts. Don't hesitate to look at code we wrote together!"
   ]
  },
  {
   "cell_type": "markdown",
   "metadata": {},
   "source": [
    "Print the first 4 rows of the whole DataFrame."
   ]
  },
  {
   "cell_type": "code",
   "execution_count": 229,
   "metadata": {},
   "outputs": [
    {
     "data": {
      "text/html": "<div>\n<style scoped>\n    .dataframe tbody tr th:only-of-type {\n        vertical-align: middle;\n    }\n\n    .dataframe tbody tr th {\n        vertical-align: top;\n    }\n\n    .dataframe thead th {\n        text-align: right;\n    }\n</style>\n<table border=\"1\" class=\"dataframe\">\n  <thead>\n    <tr style=\"text-align: right;\">\n      <th></th>\n      <th>HelloWorld</th>\n      <th>ProductNumber</th>\n      <th>MakeFlag</th>\n      <th>FinishedGoodsFlag</th>\n      <th>Product Color</th>\n      <th>SafetyStockLevel</th>\n      <th>ReorderPoint</th>\n      <th>StandardCost</th>\n      <th>ListPrice</th>\n      <th>Product Size</th>\n      <th>...</th>\n      <th>ProductLine</th>\n      <th>Class</th>\n      <th>Style</th>\n      <th>ProductSubcategoryID</th>\n      <th>ProductModelID</th>\n      <th>SellStartDate</th>\n      <th>SellEndDate</th>\n      <th>DiscontinuedDate</th>\n      <th>rowguid</th>\n      <th>ModifiedDate</th>\n    </tr>\n    <tr>\n      <th>ProductID</th>\n      <th></th>\n      <th></th>\n      <th></th>\n      <th></th>\n      <th></th>\n      <th></th>\n      <th></th>\n      <th></th>\n      <th></th>\n      <th></th>\n      <th></th>\n      <th></th>\n      <th></th>\n      <th></th>\n      <th></th>\n      <th></th>\n      <th></th>\n      <th></th>\n      <th></th>\n      <th></th>\n      <th></th>\n    </tr>\n  </thead>\n  <tbody>\n    <tr>\n      <td>1</td>\n      <td>Adjustable Race</td>\n      <td>AR-5381</td>\n      <td>0</td>\n      <td>0</td>\n      <td>NaN</td>\n      <td>1000</td>\n      <td>750</td>\n      <td>0.0</td>\n      <td>0.0</td>\n      <td>NaN</td>\n      <td>...</td>\n      <td>NaN</td>\n      <td>NaN</td>\n      <td>NaN</td>\n      <td>NaN</td>\n      <td>NaN</td>\n      <td>2008-04-30 00:00:00</td>\n      <td>NaN</td>\n      <td>NaN</td>\n      <td>{694215B7-08F7-4C0D-ACB1-D734BA44C0C8}</td>\n      <td>2014-02-08 10:01:36.827000000</td>\n    </tr>\n    <tr>\n      <td>2</td>\n      <td>Bearing Ball</td>\n      <td>BA-8327</td>\n      <td>0</td>\n      <td>0</td>\n      <td>NaN</td>\n      <td>1000</td>\n      <td>750</td>\n      <td>0.0</td>\n      <td>0.0</td>\n      <td>NaN</td>\n      <td>...</td>\n      <td>NaN</td>\n      <td>NaN</td>\n      <td>NaN</td>\n      <td>NaN</td>\n      <td>NaN</td>\n      <td>2008-04-30 00:00:00</td>\n      <td>NaN</td>\n      <td>NaN</td>\n      <td>{58AE3C20-4F3A-4749-A7D4-D568806CC537}</td>\n      <td>2014-02-08 10:01:36.827000000</td>\n    </tr>\n    <tr>\n      <td>3</td>\n      <td>BB Ball Bearing</td>\n      <td>BE-2349</td>\n      <td>1</td>\n      <td>0</td>\n      <td>NaN</td>\n      <td>800</td>\n      <td>600</td>\n      <td>0.0</td>\n      <td>0.0</td>\n      <td>NaN</td>\n      <td>...</td>\n      <td>NaN</td>\n      <td>NaN</td>\n      <td>NaN</td>\n      <td>NaN</td>\n      <td>NaN</td>\n      <td>2008-04-30 00:00:00</td>\n      <td>NaN</td>\n      <td>NaN</td>\n      <td>{9C21AED2-5BFA-4F18-BCB8-F11638DC2E4E}</td>\n      <td>2014-02-08 10:01:36.827000000</td>\n    </tr>\n    <tr>\n      <td>4</td>\n      <td>Headset Ball Bearings</td>\n      <td>BE-2908</td>\n      <td>0</td>\n      <td>0</td>\n      <td>NaN</td>\n      <td>800</td>\n      <td>600</td>\n      <td>0.0</td>\n      <td>0.0</td>\n      <td>NaN</td>\n      <td>...</td>\n      <td>NaN</td>\n      <td>NaN</td>\n      <td>NaN</td>\n      <td>NaN</td>\n      <td>NaN</td>\n      <td>2008-04-30 00:00:00</td>\n      <td>NaN</td>\n      <td>NaN</td>\n      <td>{ECFED6CB-51FF-49B5-B06C-7D8AC834DB8B}</td>\n      <td>2014-02-08 10:01:36.827000000</td>\n    </tr>\n  </tbody>\n</table>\n<p>4 rows × 24 columns</p>\n</div>",
      "text/plain": "                      HelloWorld ProductNumber  MakeFlag  FinishedGoodsFlag  \\\nProductID                                                                     \n1                Adjustable Race       AR-5381         0                  0   \n2                   Bearing Ball       BA-8327         0                  0   \n3                BB Ball Bearing       BE-2349         1                  0   \n4          Headset Ball Bearings       BE-2908         0                  0   \n\n          Product Color  SafetyStockLevel  ReorderPoint  StandardCost  \\\nProductID                                                               \n1                   NaN              1000           750           0.0   \n2                   NaN              1000           750           0.0   \n3                   NaN               800           600           0.0   \n4                   NaN               800           600           0.0   \n\n           ListPrice Product Size  ... ProductLine Class  Style  \\\nProductID                          ...                            \n1                0.0          NaN  ...         NaN   NaN    NaN   \n2                0.0          NaN  ...         NaN   NaN    NaN   \n3                0.0          NaN  ...         NaN   NaN    NaN   \n4                0.0          NaN  ...         NaN   NaN    NaN   \n\n           ProductSubcategoryID ProductModelID        SellStartDate  \\\nProductID                                                             \n1                           NaN            NaN  2008-04-30 00:00:00   \n2                           NaN            NaN  2008-04-30 00:00:00   \n3                           NaN            NaN  2008-04-30 00:00:00   \n4                           NaN            NaN  2008-04-30 00:00:00   \n\n          SellEndDate  DiscontinuedDate  \\\nProductID                                 \n1                 NaN               NaN   \n2                 NaN               NaN   \n3                 NaN               NaN   \n4                 NaN               NaN   \n\n                                          rowguid  \\\nProductID                                           \n1          {694215B7-08F7-4C0D-ACB1-D734BA44C0C8}   \n2          {58AE3C20-4F3A-4749-A7D4-D568806CC537}   \n3          {9C21AED2-5BFA-4F18-BCB8-F11638DC2E4E}   \n4          {ECFED6CB-51FF-49B5-B06C-7D8AC834DB8B}   \n\n                            ModifiedDate  \nProductID                                 \n1          2014-02-08 10:01:36.827000000  \n2          2014-02-08 10:01:36.827000000  \n3          2014-02-08 10:01:36.827000000  \n4          2014-02-08 10:01:36.827000000  \n\n[4 rows x 24 columns]"
     },
     "execution_count": 229,
     "metadata": {},
     "output_type": "execute_result"
    }
   ],
   "source": [
    "# your answer here\n",
    "prod.head(4)"
   ]
  },
  {
   "cell_type": "code",
   "execution_count": null,
   "metadata": {},
   "outputs": [],
   "source": []
  },
  {
   "cell_type": "markdown",
   "metadata": {},
   "source": [
    "How many rows are in the dataframe? Return the answer as an int."
   ]
  },
  {
   "cell_type": "code",
   "execution_count": 233,
   "metadata": {},
   "outputs": [
    {
     "name": "stdout",
     "output_type": "stream",
     "text": "the number of rows is 504\n"
    }
   ],
   "source": [
    "# your answer here\n",
    "print(\"the number of rows is\",prod.shape[0])\n"
   ]
  },
  {
   "cell_type": "markdown",
   "metadata": {},
   "source": [
    "How many columns? Retrun the answer as an int."
   ]
  },
  {
   "cell_type": "code",
   "execution_count": 239,
   "metadata": {},
   "outputs": [
    {
     "name": "stdout",
     "output_type": "stream",
     "text": "the number of columns is 24\n"
    }
   ],
   "source": [
    "# your answer here\n",
    "print(\"the number of columns is\",len(list(prod.columns)))"
   ]
  },
  {
   "cell_type": "markdown",
   "metadata": {},
   "source": [
    "How many different product lines are there?"
   ]
  },
  {
   "cell_type": "code",
   "execution_count": 242,
   "metadata": {},
   "outputs": [],
   "source": [
    "# your answer here\n",
    "productlines = prod[\"ProductLine\"].nunique()"
   ]
  },
  {
   "cell_type": "code",
   "execution_count": 243,
   "metadata": {},
   "outputs": [
    {
     "name": "stdout",
     "output_type": "stream",
     "text": "There are 4 unique product lines.\n"
    }
   ],
   "source": [
    "print(\"There are\",productlines,\"unique product lines.\")"
   ]
  },
  {
   "cell_type": "markdown",
   "metadata": {},
   "source": [
    "What are the values of these product lines?"
   ]
  },
  {
   "cell_type": "code",
   "execution_count": 252,
   "metadata": {},
   "outputs": [
    {
     "data": {
      "text/plain": "['R ', 'M ', 'T ', 'S ']"
     },
     "execution_count": 252,
     "metadata": {},
     "output_type": "execute_result"
    }
   ],
   "source": [
    "# your answer here\n",
    "list(dict(prod[\"ProductLine\"].value_counts()).keys())\n",
    "# if you want to add parenthas(((is around something just))) highlight it (and then hit the parenthesis key)"
   ]
  },
  {
   "cell_type": "markdown",
   "metadata": {},
   "source": [
    "Do the number of values for the product lines match the number you have using `.nunique()`? Why or why not?"
   ]
  },
  {
   "cell_type": "code",
   "execution_count": 45,
   "metadata": {},
   "outputs": [],
   "source": [
    "# your answer here"
   ]
  },
  {
   "cell_type": "markdown",
   "metadata": {},
   "source": [
    "Take the output from your previous answer (using `.unique()`). Select the label corresponding to the `Road` product line using list indexing notation. How many characters are in this string?"
   ]
  },
  {
   "cell_type": "code",
   "execution_count": 260,
   "metadata": {},
   "outputs": [],
   "source": [
    "# your answer here\n",
    "road = prod[\"ProductLine\"].unique()[1]"
   ]
  },
  {
   "cell_type": "code",
   "execution_count": 261,
   "metadata": {},
   "outputs": [
    {
     "data": {
      "text/plain": "2"
     },
     "execution_count": 261,
     "metadata": {},
     "output_type": "execute_result"
    }
   ],
   "source": [
    "len(road)"
   ]
  },
  {
   "cell_type": "code",
   "execution_count": null,
   "metadata": {},
   "outputs": [],
   "source": []
  },
  {
   "cell_type": "markdown",
   "metadata": {},
   "source": [
    "Do you notice anything odd about this?"
   ]
  },
  {
   "cell_type": "code",
   "execution_count": 47,
   "metadata": {},
   "outputs": [],
   "source": [
    "# your answer here"
   ]
  },
  {
   "cell_type": "markdown",
   "metadata": {},
   "source": [
    "How many products are there for the `Road` product line? Don't forget what you just worked on above! Return your answer as an int."
   ]
  },
  {
   "cell_type": "code",
   "execution_count": 265,
   "metadata": {},
   "outputs": [],
   "source": [
    "# your answer here\n",
    "mask = (prod[\"ProductLine\"] == 'R ')\n",
    "new_prod = prod[mask]"
   ]
  },
  {
   "cell_type": "code",
   "execution_count": 269,
   "metadata": {},
   "outputs": [],
   "source": [
    "number_road_products = len(list(new_prod[\"ProductNumber\"]))"
   ]
  },
  {
   "cell_type": "code",
   "execution_count": 270,
   "metadata": {},
   "outputs": [
    {
     "data": {
      "text/plain": "100"
     },
     "execution_count": 270,
     "metadata": {},
     "output_type": "execute_result"
    }
   ],
   "source": [
    "number_road_products"
   ]
  },
  {
   "cell_type": "markdown",
   "metadata": {},
   "source": [
    "How many products are there in the `Women's` `Mountain` category? Return your answer as an int. _Hint: Use the data dictionary above!_"
   ]
  },
  {
   "cell_type": "code",
   "execution_count": 272,
   "metadata": {},
   "outputs": [
    {
     "data": {
      "text/html": "<div>\n<style scoped>\n    .dataframe tbody tr th:only-of-type {\n        vertical-align: middle;\n    }\n\n    .dataframe tbody tr th {\n        vertical-align: top;\n    }\n\n    .dataframe thead th {\n        text-align: right;\n    }\n</style>\n<table border=\"1\" class=\"dataframe\">\n  <thead>\n    <tr style=\"text-align: right;\">\n      <th></th>\n      <th>HelloWorld</th>\n      <th>ProductNumber</th>\n      <th>MakeFlag</th>\n      <th>FinishedGoodsFlag</th>\n      <th>Product Color</th>\n      <th>SafetyStockLevel</th>\n      <th>ReorderPoint</th>\n      <th>StandardCost</th>\n      <th>ListPrice</th>\n      <th>Product Size</th>\n      <th>...</th>\n      <th>ProductLine</th>\n      <th>Class</th>\n      <th>Style</th>\n      <th>ProductSubcategoryID</th>\n      <th>ProductModelID</th>\n      <th>SellStartDate</th>\n      <th>SellEndDate</th>\n      <th>DiscontinuedDate</th>\n      <th>rowguid</th>\n      <th>ModifiedDate</th>\n    </tr>\n    <tr>\n      <th>ProductID</th>\n      <th></th>\n      <th></th>\n      <th></th>\n      <th></th>\n      <th></th>\n      <th></th>\n      <th></th>\n      <th></th>\n      <th></th>\n      <th></th>\n      <th></th>\n      <th></th>\n      <th></th>\n      <th></th>\n      <th></th>\n      <th></th>\n      <th></th>\n      <th></th>\n      <th></th>\n      <th></th>\n      <th></th>\n    </tr>\n  </thead>\n  <tbody>\n    <tr>\n      <td>1</td>\n      <td>Adjustable Race</td>\n      <td>AR-5381</td>\n      <td>0</td>\n      <td>0</td>\n      <td>NaN</td>\n      <td>1000</td>\n      <td>750</td>\n      <td>0.0</td>\n      <td>0.0</td>\n      <td>NaN</td>\n      <td>...</td>\n      <td>NaN</td>\n      <td>NaN</td>\n      <td>NaN</td>\n      <td>NaN</td>\n      <td>NaN</td>\n      <td>2008-04-30 00:00:00</td>\n      <td>NaN</td>\n      <td>NaN</td>\n      <td>{694215B7-08F7-4C0D-ACB1-D734BA44C0C8}</td>\n      <td>2014-02-08 10:01:36.827000000</td>\n    </tr>\n    <tr>\n      <td>2</td>\n      <td>Bearing Ball</td>\n      <td>BA-8327</td>\n      <td>0</td>\n      <td>0</td>\n      <td>NaN</td>\n      <td>1000</td>\n      <td>750</td>\n      <td>0.0</td>\n      <td>0.0</td>\n      <td>NaN</td>\n      <td>...</td>\n      <td>NaN</td>\n      <td>NaN</td>\n      <td>NaN</td>\n      <td>NaN</td>\n      <td>NaN</td>\n      <td>2008-04-30 00:00:00</td>\n      <td>NaN</td>\n      <td>NaN</td>\n      <td>{58AE3C20-4F3A-4749-A7D4-D568806CC537}</td>\n      <td>2014-02-08 10:01:36.827000000</td>\n    </tr>\n    <tr>\n      <td>3</td>\n      <td>BB Ball Bearing</td>\n      <td>BE-2349</td>\n      <td>1</td>\n      <td>0</td>\n      <td>NaN</td>\n      <td>800</td>\n      <td>600</td>\n      <td>0.0</td>\n      <td>0.0</td>\n      <td>NaN</td>\n      <td>...</td>\n      <td>NaN</td>\n      <td>NaN</td>\n      <td>NaN</td>\n      <td>NaN</td>\n      <td>NaN</td>\n      <td>2008-04-30 00:00:00</td>\n      <td>NaN</td>\n      <td>NaN</td>\n      <td>{9C21AED2-5BFA-4F18-BCB8-F11638DC2E4E}</td>\n      <td>2014-02-08 10:01:36.827000000</td>\n    </tr>\n    <tr>\n      <td>4</td>\n      <td>Headset Ball Bearings</td>\n      <td>BE-2908</td>\n      <td>0</td>\n      <td>0</td>\n      <td>NaN</td>\n      <td>800</td>\n      <td>600</td>\n      <td>0.0</td>\n      <td>0.0</td>\n      <td>NaN</td>\n      <td>...</td>\n      <td>NaN</td>\n      <td>NaN</td>\n      <td>NaN</td>\n      <td>NaN</td>\n      <td>NaN</td>\n      <td>2008-04-30 00:00:00</td>\n      <td>NaN</td>\n      <td>NaN</td>\n      <td>{ECFED6CB-51FF-49B5-B06C-7D8AC834DB8B}</td>\n      <td>2014-02-08 10:01:36.827000000</td>\n    </tr>\n    <tr>\n      <td>316</td>\n      <td>Blade</td>\n      <td>BL-2036</td>\n      <td>1</td>\n      <td>0</td>\n      <td>NaN</td>\n      <td>800</td>\n      <td>600</td>\n      <td>0.0</td>\n      <td>0.0</td>\n      <td>NaN</td>\n      <td>...</td>\n      <td>NaN</td>\n      <td>NaN</td>\n      <td>NaN</td>\n      <td>NaN</td>\n      <td>NaN</td>\n      <td>2008-04-30 00:00:00</td>\n      <td>NaN</td>\n      <td>NaN</td>\n      <td>{E73E9750-603B-4131-89F5-3DD15ED5FF80}</td>\n      <td>2014-02-08 10:01:36.827000000</td>\n    </tr>\n    <tr>\n      <td>...</td>\n      <td>...</td>\n      <td>...</td>\n      <td>...</td>\n      <td>...</td>\n      <td>...</td>\n      <td>...</td>\n      <td>...</td>\n      <td>...</td>\n      <td>...</td>\n      <td>...</td>\n      <td>...</td>\n      <td>...</td>\n      <td>...</td>\n      <td>...</td>\n      <td>...</td>\n      <td>...</td>\n      <td>...</td>\n      <td>...</td>\n      <td>...</td>\n      <td>...</td>\n      <td>...</td>\n    </tr>\n    <tr>\n      <td>417</td>\n      <td>Internal Lock Washer 6</td>\n      <td>LI-5160</td>\n      <td>0</td>\n      <td>0</td>\n      <td>NaN</td>\n      <td>1000</td>\n      <td>750</td>\n      <td>0.0</td>\n      <td>0.0</td>\n      <td>NaN</td>\n      <td>...</td>\n      <td>NaN</td>\n      <td>NaN</td>\n      <td>NaN</td>\n      <td>NaN</td>\n      <td>NaN</td>\n      <td>2008-04-30 00:00:00</td>\n      <td>NaN</td>\n      <td>NaN</td>\n      <td>{7F175DFE-1669-4EE9-8EEB-7B55FCE9961C}</td>\n      <td>2014-02-08 10:01:36.827000000</td>\n    </tr>\n    <tr>\n      <td>418</td>\n      <td>Internal Lock Washer 10</td>\n      <td>LI-5800</td>\n      <td>0</td>\n      <td>0</td>\n      <td>NaN</td>\n      <td>1000</td>\n      <td>750</td>\n      <td>0.0</td>\n      <td>0.0</td>\n      <td>NaN</td>\n      <td>...</td>\n      <td>NaN</td>\n      <td>NaN</td>\n      <td>NaN</td>\n      <td>NaN</td>\n      <td>NaN</td>\n      <td>2008-04-30 00:00:00</td>\n      <td>NaN</td>\n      <td>NaN</td>\n      <td>{C8323EEC-BDB2-4933-B3C6-24287638AD56}</td>\n      <td>2014-02-08 10:01:36.827000000</td>\n    </tr>\n    <tr>\n      <td>419</td>\n      <td>Internal Lock Washer 1</td>\n      <td>LI-6000</td>\n      <td>0</td>\n      <td>0</td>\n      <td>NaN</td>\n      <td>1000</td>\n      <td>750</td>\n      <td>0.0</td>\n      <td>0.0</td>\n      <td>NaN</td>\n      <td>...</td>\n      <td>NaN</td>\n      <td>NaN</td>\n      <td>NaN</td>\n      <td>NaN</td>\n      <td>NaN</td>\n      <td>2008-04-30 00:00:00</td>\n      <td>NaN</td>\n      <td>NaN</td>\n      <td>{71F8232D-2B59-41AC-99A1-F5EA197671B5}</td>\n      <td>2014-02-08 10:01:36.827000000</td>\n    </tr>\n    <tr>\n      <td>420</td>\n      <td>Internal Lock Washer 8</td>\n      <td>LI-7160</td>\n      <td>0</td>\n      <td>0</td>\n      <td>NaN</td>\n      <td>1000</td>\n      <td>750</td>\n      <td>0.0</td>\n      <td>0.0</td>\n      <td>NaN</td>\n      <td>...</td>\n      <td>NaN</td>\n      <td>NaN</td>\n      <td>NaN</td>\n      <td>NaN</td>\n      <td>NaN</td>\n      <td>2008-04-30 00:00:00</td>\n      <td>NaN</td>\n      <td>NaN</td>\n      <td>{E2F03586-02E8-4CD9-A342-1A8D65D393BD}</td>\n      <td>2014-02-08 10:01:36.827000000</td>\n    </tr>\n    <tr>\n      <td>421</td>\n      <td>Internal Lock Washer 2</td>\n      <td>LI-8000</td>\n      <td>0</td>\n      <td>0</td>\n      <td>NaN</td>\n      <td>1000</td>\n      <td>750</td>\n      <td>0.0</td>\n      <td>0.0</td>\n      <td>NaN</td>\n      <td>...</td>\n      <td>NaN</td>\n      <td>NaN</td>\n      <td>NaN</td>\n      <td>NaN</td>\n      <td>NaN</td>\n      <td>2008-04-30 00:00:00</td>\n      <td>NaN</td>\n      <td>NaN</td>\n      <td>{97741A88-92A1-4E72-B0AA-BCB198A1C378}</td>\n      <td>2014-02-08 10:01:36.827000000</td>\n    </tr>\n  </tbody>\n</table>\n<p>100 rows × 24 columns</p>\n</div>",
      "text/plain": "                        HelloWorld ProductNumber  MakeFlag  FinishedGoodsFlag  \\\nProductID                                                                       \n1                  Adjustable Race       AR-5381         0                  0   \n2                     Bearing Ball       BA-8327         0                  0   \n3                  BB Ball Bearing       BE-2349         1                  0   \n4            Headset Ball Bearings       BE-2908         0                  0   \n316                          Blade       BL-2036         1                  0   \n...                            ...           ...       ...                ...   \n417         Internal Lock Washer 6       LI-5160         0                  0   \n418        Internal Lock Washer 10       LI-5800         0                  0   \n419         Internal Lock Washer 1       LI-6000         0                  0   \n420         Internal Lock Washer 8       LI-7160         0                  0   \n421         Internal Lock Washer 2       LI-8000         0                  0   \n\n          Product Color  SafetyStockLevel  ReorderPoint  StandardCost  \\\nProductID                                                               \n1                   NaN              1000           750           0.0   \n2                   NaN              1000           750           0.0   \n3                   NaN               800           600           0.0   \n4                   NaN               800           600           0.0   \n316                 NaN               800           600           0.0   \n...                 ...               ...           ...           ...   \n417                 NaN              1000           750           0.0   \n418                 NaN              1000           750           0.0   \n419                 NaN              1000           750           0.0   \n420                 NaN              1000           750           0.0   \n421                 NaN              1000           750           0.0   \n\n           ListPrice Product Size  ... ProductLine Class  Style  \\\nProductID                          ...                            \n1                0.0          NaN  ...         NaN   NaN    NaN   \n2                0.0          NaN  ...         NaN   NaN    NaN   \n3                0.0          NaN  ...         NaN   NaN    NaN   \n4                0.0          NaN  ...         NaN   NaN    NaN   \n316              0.0          NaN  ...         NaN   NaN    NaN   \n...              ...          ...  ...         ...   ...    ...   \n417              0.0          NaN  ...         NaN   NaN    NaN   \n418              0.0          NaN  ...         NaN   NaN    NaN   \n419              0.0          NaN  ...         NaN   NaN    NaN   \n420              0.0          NaN  ...         NaN   NaN    NaN   \n421              0.0          NaN  ...         NaN   NaN    NaN   \n\n           ProductSubcategoryID ProductModelID        SellStartDate  \\\nProductID                                                             \n1                           NaN            NaN  2008-04-30 00:00:00   \n2                           NaN            NaN  2008-04-30 00:00:00   \n3                           NaN            NaN  2008-04-30 00:00:00   \n4                           NaN            NaN  2008-04-30 00:00:00   \n316                         NaN            NaN  2008-04-30 00:00:00   \n...                         ...            ...                  ...   \n417                         NaN            NaN  2008-04-30 00:00:00   \n418                         NaN            NaN  2008-04-30 00:00:00   \n419                         NaN            NaN  2008-04-30 00:00:00   \n420                         NaN            NaN  2008-04-30 00:00:00   \n421                         NaN            NaN  2008-04-30 00:00:00   \n\n          SellEndDate  DiscontinuedDate  \\\nProductID                                 \n1                 NaN               NaN   \n2                 NaN               NaN   \n3                 NaN               NaN   \n4                 NaN               NaN   \n316               NaN               NaN   \n...               ...               ...   \n417               NaN               NaN   \n418               NaN               NaN   \n419               NaN               NaN   \n420               NaN               NaN   \n421               NaN               NaN   \n\n                                          rowguid  \\\nProductID                                           \n1          {694215B7-08F7-4C0D-ACB1-D734BA44C0C8}   \n2          {58AE3C20-4F3A-4749-A7D4-D568806CC537}   \n3          {9C21AED2-5BFA-4F18-BCB8-F11638DC2E4E}   \n4          {ECFED6CB-51FF-49B5-B06C-7D8AC834DB8B}   \n316        {E73E9750-603B-4131-89F5-3DD15ED5FF80}   \n...                                           ...   \n417        {7F175DFE-1669-4EE9-8EEB-7B55FCE9961C}   \n418        {C8323EEC-BDB2-4933-B3C6-24287638AD56}   \n419        {71F8232D-2B59-41AC-99A1-F5EA197671B5}   \n420        {E2F03586-02E8-4CD9-A342-1A8D65D393BD}   \n421        {97741A88-92A1-4E72-B0AA-BCB198A1C378}   \n\n                            ModifiedDate  \nProductID                                 \n1          2014-02-08 10:01:36.827000000  \n2          2014-02-08 10:01:36.827000000  \n3          2014-02-08 10:01:36.827000000  \n4          2014-02-08 10:01:36.827000000  \n316        2014-02-08 10:01:36.827000000  \n...                                  ...  \n417        2014-02-08 10:01:36.827000000  \n418        2014-02-08 10:01:36.827000000  \n419        2014-02-08 10:01:36.827000000  \n420        2014-02-08 10:01:36.827000000  \n421        2014-02-08 10:01:36.827000000  \n\n[100 rows x 24 columns]"
     },
     "execution_count": 272,
     "metadata": {},
     "output_type": "execute_result"
    }
   ],
   "source": [
    "# your answer here\n",
    "#mask = (prod[\"ProductLine\"] == 'M ') & (prod[\"\"])\n",
    "prod.head(100)"
   ]
  },
  {
   "cell_type": "code",
   "execution_count": null,
   "metadata": {},
   "outputs": [],
   "source": []
  },
  {
   "cell_type": "code",
   "execution_count": null,
   "metadata": {},
   "outputs": [],
   "source": []
  },
  {
   "cell_type": "markdown",
   "metadata": {},
   "source": [
    "**Challenge:** What are the top 3 _most expensive list price_ product that are either in the `Women's` `Mountain` category, _OR_ `Silver` in `Color`? Return your answer as a DataFrame object, with the `ProductID` index, `NewName` relabeled as `Name`, and `ListPrice` columns. Perform the statement in one execution, and do not mutate the source DataFrame."
   ]
  },
  {
   "cell_type": "code",
   "execution_count": 285,
   "metadata": {},
   "outputs": [
    {
     "ename": "KeyError",
     "evalue": "('Name', 'ListPrice')",
     "output_type": "error",
     "traceback": [
      "\u001b[1;31m---------------------------------------------------------------------------\u001b[0m",
      "\u001b[1;31mKeyError\u001b[0m                                  Traceback (most recent call last)",
      "\u001b[1;32m~\\AppData\\Local\\Programs\\Python\\Python37-32\\lib\\site-packages\\pandas\\core\\indexes\\base.py\u001b[0m in \u001b[0;36mget_loc\u001b[1;34m(self, key, method, tolerance)\u001b[0m\n\u001b[0;32m   2896\u001b[0m             \u001b[1;32mtry\u001b[0m\u001b[1;33m:\u001b[0m\u001b[1;33m\u001b[0m\u001b[1;33m\u001b[0m\u001b[0m\n\u001b[1;32m-> 2897\u001b[1;33m                 \u001b[1;32mreturn\u001b[0m \u001b[0mself\u001b[0m\u001b[1;33m.\u001b[0m\u001b[0m_engine\u001b[0m\u001b[1;33m.\u001b[0m\u001b[0mget_loc\u001b[0m\u001b[1;33m(\u001b[0m\u001b[0mkey\u001b[0m\u001b[1;33m)\u001b[0m\u001b[1;33m\u001b[0m\u001b[1;33m\u001b[0m\u001b[0m\n\u001b[0m\u001b[0;32m   2898\u001b[0m             \u001b[1;32mexcept\u001b[0m \u001b[0mKeyError\u001b[0m\u001b[1;33m:\u001b[0m\u001b[1;33m\u001b[0m\u001b[1;33m\u001b[0m\u001b[0m\n",
      "\u001b[1;32mpandas\\_libs\\index.pyx\u001b[0m in \u001b[0;36mpandas._libs.index.IndexEngine.get_loc\u001b[1;34m()\u001b[0m\n",
      "\u001b[1;32mpandas\\_libs\\index.pyx\u001b[0m in \u001b[0;36mpandas._libs.index.IndexEngine.get_loc\u001b[1;34m()\u001b[0m\n",
      "\u001b[1;32mpandas\\_libs\\hashtable_class_helper.pxi\u001b[0m in \u001b[0;36mpandas._libs.hashtable.PyObjectHashTable.get_item\u001b[1;34m()\u001b[0m\n",
      "\u001b[1;32mpandas\\_libs\\hashtable_class_helper.pxi\u001b[0m in \u001b[0;36mpandas._libs.hashtable.PyObjectHashTable.get_item\u001b[1;34m()\u001b[0m\n",
      "\u001b[1;31mKeyError\u001b[0m: ('Name', 'ListPrice')",
      "\nDuring handling of the above exception, another exception occurred:\n",
      "\u001b[1;31mKeyError\u001b[0m                                  Traceback (most recent call last)",
      "\u001b[1;32m<ipython-input-285-33e8ab93f478>\u001b[0m in \u001b[0;36m<module>\u001b[1;34m\u001b[0m\n\u001b[0;32m      2\u001b[0m \u001b[0mmask\u001b[0m \u001b[1;33m=\u001b[0m \u001b[1;33m(\u001b[0m\u001b[1;33m(\u001b[0m\u001b[0mprod\u001b[0m\u001b[1;33m[\u001b[0m\u001b[1;34m\"Style\"\u001b[0m\u001b[1;33m]\u001b[0m \u001b[1;33m==\u001b[0m \u001b[1;34m'W '\u001b[0m\u001b[1;33m)\u001b[0m \u001b[1;33m&\u001b[0m \u001b[1;33m(\u001b[0m\u001b[0mprod\u001b[0m\u001b[1;33m[\u001b[0m\u001b[1;34m\"ProductLine\"\u001b[0m\u001b[1;33m]\u001b[0m \u001b[1;33m==\u001b[0m \u001b[1;34m'M '\u001b[0m\u001b[1;33m)\u001b[0m\u001b[1;33m)\u001b[0m \u001b[1;33m|\u001b[0m \u001b[1;33m(\u001b[0m\u001b[0mprod\u001b[0m\u001b[1;33m[\u001b[0m\u001b[1;34m\"Product Color\"\u001b[0m\u001b[1;33m]\u001b[0m \u001b[1;33m==\u001b[0m \u001b[1;34m\"Silver\"\u001b[0m\u001b[1;33m)\u001b[0m\u001b[1;33m\u001b[0m\u001b[1;33m\u001b[0m\u001b[0m\n\u001b[0;32m      3\u001b[0m \u001b[0mprod_new2\u001b[0m \u001b[1;33m=\u001b[0m \u001b[0mprod\u001b[0m\u001b[1;33m[\u001b[0m\u001b[0mmask\u001b[0m\u001b[1;33m]\u001b[0m\u001b[1;33m\u001b[0m\u001b[1;33m\u001b[0m\u001b[0m\n\u001b[1;32m----> 4\u001b[1;33m \u001b[0mprod_new3\u001b[0m \u001b[1;33m=\u001b[0m \u001b[0mprod_new2\u001b[0m\u001b[1;33m[\u001b[0m\u001b[1;34m\"Name\"\u001b[0m\u001b[1;33m,\u001b[0m\u001b[1;34m\"ListPrice\"\u001b[0m\u001b[1;33m]\u001b[0m\u001b[1;33m\u001b[0m\u001b[1;33m\u001b[0m\u001b[0m\n\u001b[0m\u001b[0;32m      5\u001b[0m \u001b[0mprod_new3\u001b[0m\u001b[1;33m\u001b[0m\u001b[1;33m\u001b[0m\u001b[0m\n\u001b[0;32m      6\u001b[0m \u001b[0mprod\u001b[0m\u001b[1;33m.\u001b[0m\u001b[0mcolumns\u001b[0m\u001b[1;33m\u001b[0m\u001b[1;33m\u001b[0m\u001b[0m\n",
      "\u001b[1;32m~\\AppData\\Local\\Programs\\Python\\Python37-32\\lib\\site-packages\\pandas\\core\\frame.py\u001b[0m in \u001b[0;36m__getitem__\u001b[1;34m(self, key)\u001b[0m\n\u001b[0;32m   2978\u001b[0m             \u001b[1;32mif\u001b[0m \u001b[0mself\u001b[0m\u001b[1;33m.\u001b[0m\u001b[0mcolumns\u001b[0m\u001b[1;33m.\u001b[0m\u001b[0mnlevels\u001b[0m \u001b[1;33m>\u001b[0m \u001b[1;36m1\u001b[0m\u001b[1;33m:\u001b[0m\u001b[1;33m\u001b[0m\u001b[1;33m\u001b[0m\u001b[0m\n\u001b[0;32m   2979\u001b[0m                 \u001b[1;32mreturn\u001b[0m \u001b[0mself\u001b[0m\u001b[1;33m.\u001b[0m\u001b[0m_getitem_multilevel\u001b[0m\u001b[1;33m(\u001b[0m\u001b[0mkey\u001b[0m\u001b[1;33m)\u001b[0m\u001b[1;33m\u001b[0m\u001b[1;33m\u001b[0m\u001b[0m\n\u001b[1;32m-> 2980\u001b[1;33m             \u001b[0mindexer\u001b[0m \u001b[1;33m=\u001b[0m \u001b[0mself\u001b[0m\u001b[1;33m.\u001b[0m\u001b[0mcolumns\u001b[0m\u001b[1;33m.\u001b[0m\u001b[0mget_loc\u001b[0m\u001b[1;33m(\u001b[0m\u001b[0mkey\u001b[0m\u001b[1;33m)\u001b[0m\u001b[1;33m\u001b[0m\u001b[1;33m\u001b[0m\u001b[0m\n\u001b[0m\u001b[0;32m   2981\u001b[0m             \u001b[1;32mif\u001b[0m \u001b[0mis_integer\u001b[0m\u001b[1;33m(\u001b[0m\u001b[0mindexer\u001b[0m\u001b[1;33m)\u001b[0m\u001b[1;33m:\u001b[0m\u001b[1;33m\u001b[0m\u001b[1;33m\u001b[0m\u001b[0m\n\u001b[0;32m   2982\u001b[0m                 \u001b[0mindexer\u001b[0m \u001b[1;33m=\u001b[0m \u001b[1;33m[\u001b[0m\u001b[0mindexer\u001b[0m\u001b[1;33m]\u001b[0m\u001b[1;33m\u001b[0m\u001b[1;33m\u001b[0m\u001b[0m\n",
      "\u001b[1;32m~\\AppData\\Local\\Programs\\Python\\Python37-32\\lib\\site-packages\\pandas\\core\\indexes\\base.py\u001b[0m in \u001b[0;36mget_loc\u001b[1;34m(self, key, method, tolerance)\u001b[0m\n\u001b[0;32m   2897\u001b[0m                 \u001b[1;32mreturn\u001b[0m \u001b[0mself\u001b[0m\u001b[1;33m.\u001b[0m\u001b[0m_engine\u001b[0m\u001b[1;33m.\u001b[0m\u001b[0mget_loc\u001b[0m\u001b[1;33m(\u001b[0m\u001b[0mkey\u001b[0m\u001b[1;33m)\u001b[0m\u001b[1;33m\u001b[0m\u001b[1;33m\u001b[0m\u001b[0m\n\u001b[0;32m   2898\u001b[0m             \u001b[1;32mexcept\u001b[0m \u001b[0mKeyError\u001b[0m\u001b[1;33m:\u001b[0m\u001b[1;33m\u001b[0m\u001b[1;33m\u001b[0m\u001b[0m\n\u001b[1;32m-> 2899\u001b[1;33m                 \u001b[1;32mreturn\u001b[0m \u001b[0mself\u001b[0m\u001b[1;33m.\u001b[0m\u001b[0m_engine\u001b[0m\u001b[1;33m.\u001b[0m\u001b[0mget_loc\u001b[0m\u001b[1;33m(\u001b[0m\u001b[0mself\u001b[0m\u001b[1;33m.\u001b[0m\u001b[0m_maybe_cast_indexer\u001b[0m\u001b[1;33m(\u001b[0m\u001b[0mkey\u001b[0m\u001b[1;33m)\u001b[0m\u001b[1;33m)\u001b[0m\u001b[1;33m\u001b[0m\u001b[1;33m\u001b[0m\u001b[0m\n\u001b[0m\u001b[0;32m   2900\u001b[0m         \u001b[0mindexer\u001b[0m \u001b[1;33m=\u001b[0m \u001b[0mself\u001b[0m\u001b[1;33m.\u001b[0m\u001b[0mget_indexer\u001b[0m\u001b[1;33m(\u001b[0m\u001b[1;33m[\u001b[0m\u001b[0mkey\u001b[0m\u001b[1;33m]\u001b[0m\u001b[1;33m,\u001b[0m \u001b[0mmethod\u001b[0m\u001b[1;33m=\u001b[0m\u001b[0mmethod\u001b[0m\u001b[1;33m,\u001b[0m \u001b[0mtolerance\u001b[0m\u001b[1;33m=\u001b[0m\u001b[0mtolerance\u001b[0m\u001b[1;33m)\u001b[0m\u001b[1;33m\u001b[0m\u001b[1;33m\u001b[0m\u001b[0m\n\u001b[0;32m   2901\u001b[0m         \u001b[1;32mif\u001b[0m \u001b[0mindexer\u001b[0m\u001b[1;33m.\u001b[0m\u001b[0mndim\u001b[0m \u001b[1;33m>\u001b[0m \u001b[1;36m1\u001b[0m \u001b[1;32mor\u001b[0m \u001b[0mindexer\u001b[0m\u001b[1;33m.\u001b[0m\u001b[0msize\u001b[0m \u001b[1;33m>\u001b[0m \u001b[1;36m1\u001b[0m\u001b[1;33m:\u001b[0m\u001b[1;33m\u001b[0m\u001b[1;33m\u001b[0m\u001b[0m\n",
      "\u001b[1;32mpandas\\_libs\\index.pyx\u001b[0m in \u001b[0;36mpandas._libs.index.IndexEngine.get_loc\u001b[1;34m()\u001b[0m\n",
      "\u001b[1;32mpandas\\_libs\\index.pyx\u001b[0m in \u001b[0;36mpandas._libs.index.IndexEngine.get_loc\u001b[1;34m()\u001b[0m\n",
      "\u001b[1;32mpandas\\_libs\\hashtable_class_helper.pxi\u001b[0m in \u001b[0;36mpandas._libs.hashtable.PyObjectHashTable.get_item\u001b[1;34m()\u001b[0m\n",
      "\u001b[1;32mpandas\\_libs\\hashtable_class_helper.pxi\u001b[0m in \u001b[0;36mpandas._libs.hashtable.PyObjectHashTable.get_item\u001b[1;34m()\u001b[0m\n",
      "\u001b[1;31mKeyError\u001b[0m: ('Name', 'ListPrice')"
     ]
    }
   ],
   "source": [
    "# your answer here\n",
    "mask = ((prod[\"Style\"] == 'W ') & (prod[\"ProductLine\"] == 'M ')) | (prod[\"Product Color\"] == \"Silver\")\n",
    "prod_new2 = prod[mask]\n",
    "prod_new3 = prod_new2[\"Name\",\"ListPrice\"]\n",
    "prod_new3\n",
    "prod.columns"
   ]
  },
  {
   "cell_type": "code",
   "execution_count": null,
   "metadata": {},
   "outputs": [],
   "source": []
  },
  {
   "cell_type": "code",
   "execution_count": null,
   "metadata": {},
   "outputs": [],
   "source": []
  },
  {
   "cell_type": "code",
   "execution_count": null,
   "metadata": {},
   "outputs": [],
   "source": []
  },
  {
   "cell_type": "code",
   "execution_count": null,
   "metadata": {},
   "outputs": [],
   "source": []
  },
  {
   "cell_type": "code",
   "execution_count": null,
   "metadata": {},
   "outputs": [],
   "source": []
  },
  {
   "cell_type": "code",
   "execution_count": null,
   "metadata": {},
   "outputs": [],
   "source": []
  },
  {
   "cell_type": "code",
   "execution_count": null,
   "metadata": {},
   "outputs": [],
   "source": []
  },
  {
   "cell_type": "code",
   "execution_count": null,
   "metadata": {},
   "outputs": [],
   "source": []
  },
  {
   "cell_type": "code",
   "execution_count": null,
   "metadata": {},
   "outputs": [],
   "source": []
  },
  {
   "cell_type": "code",
   "execution_count": null,
   "metadata": {},
   "outputs": [],
   "source": []
  },
  {
   "cell_type": "code",
   "execution_count": null,
   "metadata": {},
   "outputs": [],
   "source": []
  },
  {
   "cell_type": "code",
   "execution_count": null,
   "metadata": {},
   "outputs": [],
   "source": []
  },
  {
   "cell_type": "code",
   "execution_count": null,
   "metadata": {},
   "outputs": [],
   "source": []
  },
  {
   "cell_type": "markdown",
   "metadata": {},
   "source": [
    "## Recap\n",
    "\n",
    "We covered a lot of ground! It's ok if this takes a while to gel.\n",
    "\n",
    "```python\n",
    "\n",
    "# basic DataFrame operations\n",
    "df.head()\n",
    "df.tail()\n",
    "df.shape\n",
    "df.columns\n",
    "df.Index\n",
    "\n",
    "# selecting columns\n",
    "df.column_name\n",
    "df['column_name']\n",
    "\n",
    "# renaming columns\n",
    "df.rename({'old_name':'new_name'}, inplace=True)\n",
    "df.columns = ['new_column_a', 'new_column_b']\n",
    "\n",
    "# notable columns operations\n",
    "df.describe() # five number summary\n",
    "df['col1'].nunique() # number of unique values\n",
    "df['col1'].value_counts() # number of occurrences of each value in column\n",
    "\n",
    "# filtering\n",
    "df[ df['col1'] < 50 ] # filter column to be less than 50\n",
    "df[ (df['col1'] == value1) & (df['col2'] > value2) ] # filter column where col1 is equal to value1 AND col2 is greater to value 2\n",
    "\n",
    "# sorting\n",
    "df.sort_values(by='column_name', ascending = False) # sort biggest to smallest\n",
    "\n",
    "```\n",
    "\n",
    "\n",
    "It's common to refer back to your own code *all the time.* Don't hesistate to reference this guide! 🐼\n",
    "\n",
    "\n"
   ]
  },
  {
   "cell_type": "markdown",
   "execution_count": null,
   "metadata": {},
   "outputs": [],
   "source": [
    "hello world"
   ]
  },
  {
   "cell_type": "code",
   "execution_count": 228,
   "metadata": {},
   "outputs": [
    {
     "data": {
      "text/html": "<div>\n<style scoped>\n    .dataframe tbody tr th:only-of-type {\n        vertical-align: middle;\n    }\n\n    .dataframe tbody tr th {\n        vertical-align: top;\n    }\n\n    .dataframe thead th {\n        text-align: right;\n    }\n</style>\n<table border=\"1\" class=\"dataframe\">\n  <thead>\n    <tr style=\"text-align: right;\">\n      <th></th>\n      <th>HelloWorld</th>\n      <th>ProductNumber</th>\n      <th>MakeFlag</th>\n      <th>FinishedGoodsFlag</th>\n      <th>Product Color</th>\n      <th>SafetyStockLevel</th>\n      <th>ReorderPoint</th>\n      <th>StandardCost</th>\n      <th>ListPrice</th>\n      <th>Product Size</th>\n      <th>...</th>\n      <th>ProductLine</th>\n      <th>Class</th>\n      <th>Style</th>\n      <th>ProductSubcategoryID</th>\n      <th>ProductModelID</th>\n      <th>SellStartDate</th>\n      <th>SellEndDate</th>\n      <th>DiscontinuedDate</th>\n      <th>rowguid</th>\n      <th>ModifiedDate</th>\n    </tr>\n    <tr>\n      <th>ProductID</th>\n      <th></th>\n      <th></th>\n      <th></th>\n      <th></th>\n      <th></th>\n      <th></th>\n      <th></th>\n      <th></th>\n      <th></th>\n      <th></th>\n      <th></th>\n      <th></th>\n      <th></th>\n      <th></th>\n      <th></th>\n      <th></th>\n      <th></th>\n      <th></th>\n      <th></th>\n      <th></th>\n      <th></th>\n    </tr>\n  </thead>\n  <tbody>\n    <tr>\n      <td>712</td>\n      <td>AWC Logo Cap</td>\n      <td>CA-1098</td>\n      <td>0</td>\n      <td>1</td>\n      <td>Multi</td>\n      <td>4</td>\n      <td>3</td>\n      <td>6.9223</td>\n      <td>8.99</td>\n      <td>NaN</td>\n      <td>...</td>\n      <td>S</td>\n      <td>NaN</td>\n      <td>U</td>\n      <td>19.0</td>\n      <td>2.0</td>\n      <td>2011-05-31 00:00:00</td>\n      <td>NaN</td>\n      <td>NaN</td>\n      <td>{B9EDE243-A6F4-4629-B1D4-FFE1AEDC6DE7}</td>\n      <td>2014-02-08 10:01:36.827000000</td>\n    </tr>\n    <tr>\n      <td>1</td>\n      <td>Adjustable Race</td>\n      <td>AR-5381</td>\n      <td>0</td>\n      <td>0</td>\n      <td>NaN</td>\n      <td>1000</td>\n      <td>750</td>\n      <td>0.0000</td>\n      <td>0.00</td>\n      <td>NaN</td>\n      <td>...</td>\n      <td>NaN</td>\n      <td>NaN</td>\n      <td>NaN</td>\n      <td>NaN</td>\n      <td>NaN</td>\n      <td>2008-04-30 00:00:00</td>\n      <td>NaN</td>\n      <td>NaN</td>\n      <td>{694215B7-08F7-4C0D-ACB1-D734BA44C0C8}</td>\n      <td>2014-02-08 10:01:36.827000000</td>\n    </tr>\n    <tr>\n      <td>879</td>\n      <td>All-Purpose Bike Stand</td>\n      <td>ST-1401</td>\n      <td>0</td>\n      <td>1</td>\n      <td>NaN</td>\n      <td>4</td>\n      <td>3</td>\n      <td>59.4660</td>\n      <td>159.00</td>\n      <td>NaN</td>\n      <td>...</td>\n      <td>M</td>\n      <td>NaN</td>\n      <td>NaN</td>\n      <td>27.0</td>\n      <td>122.0</td>\n      <td>2013-05-30 00:00:00</td>\n      <td>NaN</td>\n      <td>NaN</td>\n      <td>{C7BB564B-A637-40F5-B21B-CBF7E4F713BE}</td>\n      <td>2014-02-08 10:01:36.827000000</td>\n    </tr>\n    <tr>\n      <td>3</td>\n      <td>BB Ball Bearing</td>\n      <td>BE-2349</td>\n      <td>1</td>\n      <td>0</td>\n      <td>NaN</td>\n      <td>800</td>\n      <td>600</td>\n      <td>0.0000</td>\n      <td>0.00</td>\n      <td>NaN</td>\n      <td>...</td>\n      <td>NaN</td>\n      <td>NaN</td>\n      <td>NaN</td>\n      <td>NaN</td>\n      <td>NaN</td>\n      <td>2008-04-30 00:00:00</td>\n      <td>NaN</td>\n      <td>NaN</td>\n      <td>{9C21AED2-5BFA-4F18-BCB8-F11638DC2E4E}</td>\n      <td>2014-02-08 10:01:36.827000000</td>\n    </tr>\n    <tr>\n      <td>2</td>\n      <td>Bearing Ball</td>\n      <td>BA-8327</td>\n      <td>0</td>\n      <td>0</td>\n      <td>NaN</td>\n      <td>1000</td>\n      <td>750</td>\n      <td>0.0000</td>\n      <td>0.00</td>\n      <td>NaN</td>\n      <td>...</td>\n      <td>NaN</td>\n      <td>NaN</td>\n      <td>NaN</td>\n      <td>NaN</td>\n      <td>NaN</td>\n      <td>2008-04-30 00:00:00</td>\n      <td>NaN</td>\n      <td>NaN</td>\n      <td>{58AE3C20-4F3A-4749-A7D4-D568806CC537}</td>\n      <td>2014-02-08 10:01:36.827000000</td>\n    </tr>\n    <tr>\n      <td>...</td>\n      <td>...</td>\n      <td>...</td>\n      <td>...</td>\n      <td>...</td>\n      <td>...</td>\n      <td>...</td>\n      <td>...</td>\n      <td>...</td>\n      <td>...</td>\n      <td>...</td>\n      <td>...</td>\n      <td>...</td>\n      <td>...</td>\n      <td>...</td>\n      <td>...</td>\n      <td>...</td>\n      <td>...</td>\n      <td>...</td>\n      <td>...</td>\n      <td>...</td>\n      <td>...</td>\n    </tr>\n    <tr>\n      <td>868</td>\n      <td>Women's Mountain Shorts, M</td>\n      <td>SH-W890-M</td>\n      <td>0</td>\n      <td>1</td>\n      <td>Black</td>\n      <td>4</td>\n      <td>3</td>\n      <td>26.1763</td>\n      <td>69.99</td>\n      <td>M</td>\n      <td>...</td>\n      <td>M</td>\n      <td>NaN</td>\n      <td>W</td>\n      <td>22.0</td>\n      <td>37.0</td>\n      <td>2013-05-30 00:00:00</td>\n      <td>NaN</td>\n      <td>NaN</td>\n      <td>{968E3610-E583-42E8-8AB6-484A799B1774}</td>\n      <td>2014-02-08 10:01:36.827000000</td>\n    </tr>\n    <tr>\n      <td>867</td>\n      <td>Women's Mountain Shorts, S</td>\n      <td>SH-W890-S</td>\n      <td>0</td>\n      <td>1</td>\n      <td>Black</td>\n      <td>4</td>\n      <td>3</td>\n      <td>26.1763</td>\n      <td>69.99</td>\n      <td>S</td>\n      <td>...</td>\n      <td>M</td>\n      <td>NaN</td>\n      <td>W</td>\n      <td>22.0</td>\n      <td>37.0</td>\n      <td>2013-05-30 00:00:00</td>\n      <td>NaN</td>\n      <td>NaN</td>\n      <td>{22616FD2-B99F-4F7D-ACF6-33DFF66D42D2}</td>\n      <td>2014-02-08 10:01:36.827000000</td>\n    </tr>\n    <tr>\n      <td>854</td>\n      <td>Women's Tights, L</td>\n      <td>TG-W091-L</td>\n      <td>0</td>\n      <td>1</td>\n      <td>Black</td>\n      <td>4</td>\n      <td>3</td>\n      <td>30.9334</td>\n      <td>74.99</td>\n      <td>L</td>\n      <td>...</td>\n      <td>S</td>\n      <td>NaN</td>\n      <td>W</td>\n      <td>24.0</td>\n      <td>38.0</td>\n      <td>2012-05-30 00:00:00</td>\n      <td>2013-05-29 00:00:00</td>\n      <td>NaN</td>\n      <td>{E378C2F3-54F6-4EA9-B049-E8BB32B5BDFD}</td>\n      <td>2014-02-08 10:01:36.827000000</td>\n    </tr>\n    <tr>\n      <td>853</td>\n      <td>Women's Tights, M</td>\n      <td>TG-W091-M</td>\n      <td>0</td>\n      <td>1</td>\n      <td>Black</td>\n      <td>4</td>\n      <td>3</td>\n      <td>30.9334</td>\n      <td>74.99</td>\n      <td>M</td>\n      <td>...</td>\n      <td>S</td>\n      <td>NaN</td>\n      <td>W</td>\n      <td>24.0</td>\n      <td>38.0</td>\n      <td>2012-05-30 00:00:00</td>\n      <td>2013-05-29 00:00:00</td>\n      <td>NaN</td>\n      <td>{4D8E186C-B8C9-4C64-B411-4995DD87E316}</td>\n      <td>2014-02-08 10:01:36.827000000</td>\n    </tr>\n    <tr>\n      <td>852</td>\n      <td>Women's Tights, S</td>\n      <td>TG-W091-S</td>\n      <td>0</td>\n      <td>1</td>\n      <td>Black</td>\n      <td>4</td>\n      <td>3</td>\n      <td>30.9334</td>\n      <td>74.99</td>\n      <td>S</td>\n      <td>...</td>\n      <td>S</td>\n      <td>NaN</td>\n      <td>W</td>\n      <td>24.0</td>\n      <td>38.0</td>\n      <td>2012-05-30 00:00:00</td>\n      <td>2013-05-29 00:00:00</td>\n      <td>NaN</td>\n      <td>{7DE86C98-4F5B-4155-8572-C977F14EBAEB}</td>\n      <td>2014-02-08 10:01:36.827000000</td>\n    </tr>\n  </tbody>\n</table>\n<p>504 rows × 24 columns</p>\n</div>",
      "text/plain": "                           HelloWorld ProductNumber  MakeFlag  \\\nProductID                                                       \n712                      AWC Logo Cap       CA-1098         0   \n1                     Adjustable Race       AR-5381         0   \n879            All-Purpose Bike Stand       ST-1401         0   \n3                     BB Ball Bearing       BE-2349         1   \n2                        Bearing Ball       BA-8327         0   \n...                               ...           ...       ...   \n868        Women's Mountain Shorts, M     SH-W890-M         0   \n867        Women's Mountain Shorts, S     SH-W890-S         0   \n854                 Women's Tights, L     TG-W091-L         0   \n853                 Women's Tights, M     TG-W091-M         0   \n852                 Women's Tights, S     TG-W091-S         0   \n\n           FinishedGoodsFlag Product Color  SafetyStockLevel  ReorderPoint  \\\nProductID                                                                    \n712                        1         Multi                 4             3   \n1                          0           NaN              1000           750   \n879                        1           NaN                 4             3   \n3                          0           NaN               800           600   \n2                          0           NaN              1000           750   \n...                      ...           ...               ...           ...   \n868                        1         Black                 4             3   \n867                        1         Black                 4             3   \n854                        1         Black                 4             3   \n853                        1         Black                 4             3   \n852                        1         Black                 4             3   \n\n           StandardCost  ListPrice Product Size  ... ProductLine Class  Style  \\\nProductID                                        ...                            \n712              6.9223       8.99          NaN  ...          S    NaN     U    \n1                0.0000       0.00          NaN  ...         NaN   NaN    NaN   \n879             59.4660     159.00          NaN  ...          M    NaN    NaN   \n3                0.0000       0.00          NaN  ...         NaN   NaN    NaN   \n2                0.0000       0.00          NaN  ...         NaN   NaN    NaN   \n...                 ...        ...          ...  ...         ...   ...    ...   \n868             26.1763      69.99            M  ...          M    NaN     W    \n867             26.1763      69.99            S  ...          M    NaN     W    \n854             30.9334      74.99            L  ...          S    NaN     W    \n853             30.9334      74.99            M  ...          S    NaN     W    \n852             30.9334      74.99            S  ...          S    NaN     W    \n\n           ProductSubcategoryID ProductModelID        SellStartDate  \\\nProductID                                                             \n712                        19.0            2.0  2011-05-31 00:00:00   \n1                           NaN            NaN  2008-04-30 00:00:00   \n879                        27.0          122.0  2013-05-30 00:00:00   \n3                           NaN            NaN  2008-04-30 00:00:00   \n2                           NaN            NaN  2008-04-30 00:00:00   \n...                         ...            ...                  ...   \n868                        22.0           37.0  2013-05-30 00:00:00   \n867                        22.0           37.0  2013-05-30 00:00:00   \n854                        24.0           38.0  2012-05-30 00:00:00   \n853                        24.0           38.0  2012-05-30 00:00:00   \n852                        24.0           38.0  2012-05-30 00:00:00   \n\n                   SellEndDate  DiscontinuedDate  \\\nProductID                                          \n712                        NaN               NaN   \n1                          NaN               NaN   \n879                        NaN               NaN   \n3                          NaN               NaN   \n2                          NaN               NaN   \n...                        ...               ...   \n868                        NaN               NaN   \n867                        NaN               NaN   \n854        2013-05-29 00:00:00               NaN   \n853        2013-05-29 00:00:00               NaN   \n852        2013-05-29 00:00:00               NaN   \n\n                                          rowguid  \\\nProductID                                           \n712        {B9EDE243-A6F4-4629-B1D4-FFE1AEDC6DE7}   \n1          {694215B7-08F7-4C0D-ACB1-D734BA44C0C8}   \n879        {C7BB564B-A637-40F5-B21B-CBF7E4F713BE}   \n3          {9C21AED2-5BFA-4F18-BCB8-F11638DC2E4E}   \n2          {58AE3C20-4F3A-4749-A7D4-D568806CC537}   \n...                                           ...   \n868        {968E3610-E583-42E8-8AB6-484A799B1774}   \n867        {22616FD2-B99F-4F7D-ACF6-33DFF66D42D2}   \n854        {E378C2F3-54F6-4EA9-B049-E8BB32B5BDFD}   \n853        {4D8E186C-B8C9-4C64-B411-4995DD87E316}   \n852        {7DE86C98-4F5B-4155-8572-C977F14EBAEB}   \n\n                            ModifiedDate  \nProductID                                 \n712        2014-02-08 10:01:36.827000000  \n1          2014-02-08 10:01:36.827000000  \n879        2014-02-08 10:01:36.827000000  \n3          2014-02-08 10:01:36.827000000  \n2          2014-02-08 10:01:36.827000000  \n...                                  ...  \n868        2014-02-08 10:01:36.827000000  \n867        2014-02-08 10:01:36.827000000  \n854        2014-02-08 10:01:36.827000000  \n853        2014-02-08 10:01:36.827000000  \n852        2014-02-08 10:01:36.827000000  \n\n[504 rows x 24 columns]"
     },
     "execution_count": 228,
     "metadata": {},
     "output_type": "execute_result"
    }
   ],
   "source": [
    "prod.sort_values(by='HelloWorld')"
   ]
  },
  {
   "cell_type": "code",
   "execution_count": null,
   "metadata": {},
   "outputs": [],
   "source": []
  },
  {
   "cell_type": "code",
   "execution_count": null,
   "metadata": {},
   "outputs": [],
   "source": []
  }
 ],
 "metadata": {
  "kernelspec": {
   "display_name": "Python 3",
   "language": "python",
   "name": "python3"
  },
  "language_info": {
   "codemirror_mode": {
    "name": "ipython",
    "version": 3
   },
   "file_extension": ".py",
   "mimetype": "text/x-python",
   "name": "python",
   "nbconvert_exporter": "python",
   "pygments_lexer": "ipython3",
   "version": "3.7.4-final"
  }
 },
 "nbformat": 4,
 "nbformat_minor": 2
}
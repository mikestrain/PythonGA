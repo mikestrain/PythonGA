{
 "nbformat": 4,
 "nbformat_minor": 2,
 "metadata": {
  "language_info": {
   "name": "python",
   "codemirror_mode": {
    "name": "ipython",
    "version": 3
   },
   "version": "3.7.4-final"
  },
  "orig_nbformat": 2,
  "file_extension": ".py",
  "mimetype": "text/x-python",
  "name": "python",
  "npconvert_exporter": "python",
  "pygments_lexer": "ipython3",
  "version": 3,
  "kernelspec": {
   "name": "python37432bitf140ec0581a546b4a23795dd72304976",
   "display_name": "Python 3.7.4 32-bit"
  }
 },
 "cells": [
  {
   "cell_type": "code",
   "execution_count": 56,
   "metadata": {},
   "outputs": [],
   "source": [
    "import pandas as pd\n",
    "import matplotlib.pyplot as plt\n",
    "import numpy as np\n",
    "import geocoder\n",
    "import geopy.distance as gp\n",
    "\n",
    "# set the plots to display in the Jupyter notebook\n",
    "%matplotlib inline\n",
    "\n",
    "# change plotting colors per client request\n",
    "plt.style.use('ggplot')"
   ]
  },
  {
   "cell_type": "code",
   "execution_count": 57,
   "metadata": {},
   "outputs": [],
   "source": [
    "OH = pd.read_csv('OHIO_SBIR_Full2.csv', encoding='ISO-8859-1')"
   ]
  },
  {
   "cell_type": "code",
   "execution_count": 58,
   "metadata": {},
   "outputs": [],
   "source": [
    "cities = list(OH['City'])"
   ]
  },
  {
   "cell_type": "code",
   "execution_count": 65,
   "metadata": {},
   "outputs": [
    {
     "name": "stderr",
     "output_type": "stream",
     "text": "C:\\Users\\Mike Strain\\AppData\\Local\\Programs\\Python\\Python37-32\\lib\\site-packages\\ipykernel_launcher.py:13: DeprecationWarning: Vincenty is deprecated and is going to be removed in geopy 2.0. Use `geopy.distance.geodesic` (or the default `geopy.distance.distance`) instead, which is more accurate and always converges.\n  del sys.path[0]\nWooster     79.67969819568593\nWooster     79.67969819568593\nRocky River     112.94028098643817\nMt. Sterling     33.59107731236032\nColumbus     20.62516201119121\nColumbus     20.62516201119121\nCleveland     120.44506122950024\nCleveland     120.44506122950024\nColumbus     20.62516201119121\nColumbus     20.62516201119121\nShaker Heights     123.27187095586348\nColumbus     20.62516201119121\nCleveland     120.44506122950024\nCleveland     120.44506122950024\nCleveland     120.44506122950024\nSolon     124.31561806897297\nColumbus     20.62516201119121\nCincinnati     97.39953785844887\nCleveland     120.44506122950024\nCleveland     120.44506122950024\nCleveland     120.44506122950024\nShaker Heights     123.27187095586348\nCleveland     120.44506122950024\nColumbuws     20.62516201119121\nColumbus     20.62516201119121\nCincinnati     97.39953785844887\nCleveland     120.44506122950024\nAkron     108.5099323158768\nStrongsville     105.70890142533128\nColumbus     20.62516201119121\nColumbus     20.62516201119121\nPowell     8.647452869650959\nCleveland     120.44506122950024\nWesterville     16.60256258299117\nWesterville     16.60256258299117\nFairborn     49.661384880446754\nColumbus     20.62516201119121\nDayton     59.86230148618187\nMiamisburg     68.44251355806578\nMiamisburg     68.44251355806578\ncolumbus     20.62516201119121\nKent     117.84394305663582\nEnglewood     61.621386306961114\nEuclid     131.01889931793067\nCanfield     141.54754466627813\nDayton     59.86230148618187\nMiamisburg     68.44251355806578\nMiamisburg     68.44251355806578\nColumbus     20.62516201119121\nCedarville     44.38142354860717\nCuyahoga Falls     111.94782533378196\nEnglewood     61.621386306961114\nDublin     8.5796001108234\nBeavercreek     55.060630376481285\nBeavercreek     55.060630376481285\nSpringboro     69.77040644726823\nAkron     108.5099323158768\nValley View     117.38852319550493\nDayton     59.86230148618187\nDayton     59.86230148618187\nDayton     59.86230148618187\nCincinnati     97.39953785844887\nDayton     59.86230148618187\nFairborn     49.661384880446754\nDayton     59.86230148618187\nDayton     59.86230148618187\nCedarville     44.38142354860717\nColumbus     20.62516201119121\nWestlake     110.21607828345128\nDayton     59.86230148618187\nDayton     59.86230148618187\nToledo     101.19078667537336\nColumbus     20.62516201119121\nMiddletown     78.76737926506156\nLewis Center     11.472519900722094\nAkron     108.5099323158768\nWesterville     16.60256258299117\nFairborn     49.661384880446754\nColumbus     20.62516201119121\nDayton     59.86230148618187\nDayton     59.86230148618187\nEuclid     131.01889931793067\nDayton     59.86230148618187\nDayton     59.86230148618187\nDayton     59.86230148618187\nDayton     59.86230148618187\nDayton     59.86230148618187\nDayton     59.86230148618187\nDayton     59.86230148618187\nColumbus     20.62516201119121\nWestlake     110.21607828345128\nDayton     59.86230148618187\nBeavercreek     55.060630376481285\nDayton     59.86230148618187\nMiamisburg     68.44251355806578\nBeavercreek     55.060630376481285\nDayton     59.86230148618187\nDayton     59.86230148618187\nCincinnati     97.39953785844887\nBeavercreek     55.060630376481285\nColumbus     20.62516201119121\nMiamisburg,     68.44251355806578\nDayton     59.86230148618187\nDayton     59.86230148618187\nDayton     59.86230148618187\nEuclid     131.01889931793067\nCleveland     120.44506122950024\nMiamisburg     68.44251355806578\nDayton     59.86230148618187\nDublin     8.5796001108234\nDayton     59.86230148618187\nCincinnati     97.39953785844887\nBeavercreek     55.060630376481285\nBeavercreek     55.060630376481285\nRocky River     112.94028098643817\nCincinnati     97.39953785844887\nCedarville     44.38142354860717\nMiamisburg     68.44251355806578\nWesterville     16.60256258299117\nWesterville     16.60256258299117\nDayton     59.86230148618187\nDayton     59.86230148618187\nDAYTON     59.86230148618187\nBeavercreek     55.060630376481285\nBeavercreek     55.060630376481285\nColumbus     20.62516201119121\nCincinnati     97.39953785844887\nDayton     59.86230148618187\nFairborn     49.661384880446754\nBeavercreek     55.060630376481285\nDublin     8.5796001108234\nBeavercreek     55.060630376481285\nBeavercreek     55.060630376481285\nCincinnati     97.39953785844887\nBeavercreek     55.060630376481285\nDayton     59.86230148618187\nCincinnati     97.39953785844887\nCincinnati     97.39953785844887\nBeavercreek     55.060630376481285\nDayton     59.86230148618187\nCincinnati     97.39953785844887\nWesterville     16.60256258299117\nFairborn     49.661384880446754\nBeavercreek     55.060630376481285\nBeavercreek     55.060630376481285\nMiamisburg     68.44251355806578\nDayton     59.86230148618187\nDayton     59.86230148618187\nDayton     59.86230148618187\nEuclid     131.01889931793067\nDayton     59.86230148618187\nBeavercreek     55.060630376481285\nDublin     8.5796001108234\nDublin     8.5796001108234\nColumbus     20.62516201119121\nEuclid     131.01889931793067\nDayton     59.86230148618187\nColumbus    20.62516201119121\nBeavercreek     55.060630376481285\nBeavercreek     55.060630376481285\nCleveland     120.44506122950024\nBeavercreek     55.060630376481285\nEnglewood     61.621386306961114\nMiddletown     78.76737926506156\nEnglewood     61.621386306961114\nBeavercreek     55.060630376481285\nBeavercreek     55.060630376481285\nDayton     59.86230148618187\nBeachwood     126.35091035151213\nMiddletown     78.76737926506156\nWesterville     16.60256258299117\nMiamisburg     68.44251355806578\nAkron     108.5099323158768\nDayton     59.86230148618187\nDayton     59.86230148618187\nBeavercreek     55.060630376481285\nDayton     59.86230148618187\nFairborn     49.661384880446754\nCleveland     120.44506122950024\nColumbus     20.62516201119121\nColumbus     20.62516201119121\nColumbus     20.62516201119121\nAkron     108.5099323158768\nAkron     108.5099323158768\nAkron     108.5099323158768\nSolon     124.31561806897297\nSolon     124.31561806897297\nSolon     124.31561806897297\nLewis Center     11.472519900722094\nSolon     124.31561806897297\nColumbus     20.62516201119121\nColumbus     20.62516201119121\nDayton     59.86230148618187\nColumbus     20.62516201119121\nDayton     59.86230148618187\nSolon     124.31561806897297\nSolon     124.31561806897297\nColumbus     20.62516201119121\nColumbus     20.62516201119121\nSolon     124.31561806897297\nColumbus     20.62516201119121\nEnglewood     61.621386306961114\nColumbus     20.62516201119121\nSolon     124.31561806897297\nColumbus     20.62516201119121\nMilford     91.29902002078755\nDayton     59.86230148618187\nReynoldsburg     28.272305529906706\nEuclid     131.01889931793067\nSolon     124.31561806897297\nEnglewood     61.621386306961114\nEnglewood     61.621386306961114\nCOLUMBUS     20.62516201119121\nCOLUMBUS     20.62516201119121\nDayton     59.86230148618187\nCOLUMBUS     20.62516201119121\nColumbus     20.62516201119121\nColumbus     20.62516201119121\nCleveland     120.44506122950024\nColumbus     20.62516201119121\nColumbus     20.62516201119121\nAkron     108.5099323158768\nBeavercreek     55.060630376481285\nPepper Pike     126.84024116058973\nCincinnati     97.39953785844887\nFairborn     49.661384880446754\nFairborn     49.661384880446754\nFairborn     49.661384880446754\nFairborn     49.661384880446754\nFairborn     49.661384880446754\nCincinnati     97.39953785844887\nDayton     59.86230148618187\n"
    }
   ],
   "source": [
    "dist_list = []\n",
    "for i in range(len(cities)):\n",
    "\n",
    "    city = cities[i]\n",
    "\n",
    "    city_state = city + ', OH'\n",
    "    coordinates = geocoder.arcgis(city_state).latlng\n",
    "    lat = coordinates[0]\n",
    "    lng = coordinates[1]\n",
    "\n",
    "    coords_1 = (lat, lng)\n",
    "    coords_2 = (40.2062389,-83.2271377)\n",
    "    dist = gp.vincenty(coords_1, coords_2).miles\n",
    "    print(city,'   ',dist)\n",
    "    dist_list.append(dist)"
   ]
  },
  {
   "cell_type": "code",
   "execution_count": 0,
   "metadata": {},
   "outputs": [],
   "source": [
    "\n"
   ]
  }
 ]
}